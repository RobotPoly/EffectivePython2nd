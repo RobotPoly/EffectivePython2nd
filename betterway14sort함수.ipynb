{
 "cells": [
  {
   "cell_type": "markdown",
   "metadata": {},
   "source": [
    "### 복잡한 기준을 사용해 정렬할 때는 key 파라미터를 사용하라"
   ]
  },
  {
   "cell_type": "code",
   "execution_count": 1,
   "metadata": {},
   "outputs": [
    {
     "name": "stdout",
     "output_type": "stream",
     "text": [
      "[11, 68, 70, 86, 93]\n"
     ]
    }
   ],
   "source": [
    "# list 에는 sort함수를 이용하여 오름차순 내림차순을 만들 수 있음\n",
    "numbers = [93, 86, 11, 68, 70]\n",
    "numbers.sort()\n",
    "print(numbers)"
   ]
  },
  {
   "cell_type": "code",
   "execution_count": 3,
   "metadata": {},
   "outputs": [],
   "source": [
    "# sort의 기준이 여러개 인경우 \n",
    "\n",
    "class Tool:\n",
    "    def __init__(self, name, weight):\n",
    "        self.name = name\n",
    "        self.weight = weight\n",
    "\n",
    "    def __repr__(self):\n",
    "        return f'Tool({self.name!r}, {self.weight})'\n"
   ]
  },
  {
   "cell_type": "code",
   "execution_count": 9,
   "metadata": {},
   "outputs": [
    {
     "ename": "TypeError",
     "evalue": "'<' not supported between instances of 'Tool' and 'Tool'",
     "output_type": "error",
     "traceback": [
      "\u001b[1;31m---------------------------------------------------------------------------\u001b[0m",
      "\u001b[1;31mTypeError\u001b[0m                                 Traceback (most recent call last)",
      "\u001b[1;32m<ipython-input-9-a3ab783a5009>\u001b[0m in \u001b[0;36m<module>\u001b[1;34m\u001b[0m\n\u001b[0;32m      7\u001b[0m     \u001b[0mTool\u001b[0m\u001b[1;33m(\u001b[0m\u001b[1;34m'끌'\u001b[0m\u001b[1;33m,\u001b[0m \u001b[1;36m0.25\u001b[0m\u001b[1;33m)\u001b[0m\u001b[1;33m,\u001b[0m\u001b[1;33m\u001b[0m\u001b[1;33m\u001b[0m\u001b[0m\n\u001b[0;32m      8\u001b[0m ]\n\u001b[1;32m----> 9\u001b[1;33m \u001b[0mtools\u001b[0m\u001b[1;33m.\u001b[0m\u001b[0msort\u001b[0m\u001b[1;33m(\u001b[0m\u001b[1;33m)\u001b[0m\u001b[1;33m\u001b[0m\u001b[1;33m\u001b[0m\u001b[0m\n\u001b[0m",
      "\u001b[1;31mTypeError\u001b[0m: '<' not supported between instances of 'Tool' and 'Tool'"
     ]
    }
   ],
   "source": [
    "#아래 예시는 sort를 통해 오름차순을 했을 때 특별한 기준이 없기 때문에 에러가 발생한다.\n",
    "\n",
    "tools = [\n",
    "    Tool('수준계', 3.5),\n",
    "    Tool('해머', 1.25),\n",
    "    Tool('스크류드라이버', 0.5),\n",
    "    Tool('끌', 0.25),\n",
    "]\n",
    "tools.sort()"
   ]
  },
  {
   "cell_type": "markdown",
   "metadata": {},
   "source": [
    "##### - 정렬에 사용하고 싶은 애트리뷰트가 객체에 들어있는 경우\n",
    "    - 이런 상황을 지원하기 위해 sort에 key라는 파라미터가 있으며 key는 함수여야 한다.\n",
    "    - key 함수 에는 정렬 중인 리스트 원소가 전달된다.\n",
    "    - key 값은 정렬기준으로 사용할, 비교 가능한 값이어야만 한다."
   ]
  },
  {
   "cell_type": "code",
   "execution_count": 6,
   "metadata": {},
   "outputs": [
    {
     "name": "stdout",
     "output_type": "stream",
     "text": [
      "미정렬: [Tool('수준계', 3.5), Tool('해머', 1.25), Tool('스크류드라이버', 0.5), Tool('끌', 0.25)]\n",
      "\n",
      "정렬:  [Tool('끌', 0.25), Tool('수준계', 3.5), Tool('스크류드라이버', 0.5), Tool('해머', 1.25)]\n"
     ]
    }
   ],
   "source": [
    "# lambda에 오름차순\n",
    "tools = [\n",
    "    Tool('수준계', 3.5),\n",
    "    Tool('해머', 1.25),\n",
    "    Tool('스크류드라이버', 0.5),\n",
    "    Tool('끌', 0.25),\n",
    "]\n",
    "\n",
    "print('미정렬:', repr(tools))\n",
    "tools.sort(key=lambda x: x.name)\n",
    "# lambda를 사용하여 name이라는 key를 기준으로 오름차순으로 정렬\n",
    "print('\\n정렬: ', tools)"
   ]
  },
  {
   "cell_type": "code",
   "execution_count": 12,
   "metadata": {},
   "outputs": [
    {
     "name": "stdout",
     "output_type": "stream",
     "text": [
      "무게순 정렬: [Tool('끌', 0.25), Tool('스크류드라이버', 0.5), Tool('해머', 1.25), Tool('수준계', 3.5)]\n"
     ]
    }
   ],
   "source": [
    "#람다에 무게를 오름차순으로\n",
    "tools.sort(key=lambda x: x.weight)\n",
    "print('무게순 정렬:', tools)"
   ]
  },
  {
   "cell_type": "markdown",
   "metadata": {},
   "source": [
    "###### 정렬할 때 key의 함수를 사용하여 원소 값을 변형할 수도 있다."
   ]
  },
  {
   "cell_type": "code",
   "execution_count": 13,
   "metadata": {},
   "outputs": [
    {
     "name": "stdout",
     "output_type": "stream",
     "text": [
      "대소문자 구분: ['New York', 'Paris', 'home', 'work']\n",
      "대소문자 무시: ['home', 'New York', 'Paris', 'work']\n"
     ]
    }
   ],
   "source": [
    "places = ['home', 'work', 'New York', 'Paris']\n",
    "places.sort()\n",
    "print('대소문자 구분:', places) #대문자 먼저 그다음 소문자\n",
    "places.sort(key=lambda x: x.lower())\n",
    "print('대소문자 무시:', places)"
   ]
  },
  {
   "cell_type": "markdown",
   "metadata": {},
   "source": [
    "###### 여러 기준 정렬의 상황\n",
    "- ex 전동 공구 정보가 들어 있는 리스트가 있는데 weight로 먼저 정렬하고 name으로 정렬하고 싶을때\n",
    "    - tuple 타입을 사용 (불변 값)\n",
    "    - 튜플은 비교가 가능하며 sort에 필요한 __It__정의가 들어있다.\n",
    "- 아래 예시는 튜플의 각 위치를 이터레이션하면서 각 인덱스에 해당하는 원소를 한 번에 하나씩 비교하는 방식으로 구현돼 있다."
   ]
  },
  {
   "cell_type": "code",
   "execution_count": null,
   "metadata": {},
   "outputs": [],
   "source": [
    "#튜플을 이용한 예시\n",
    "power_tools = [\n",
    "    Tool('드릴', 4),\n",
    "    Tool('원형 톱', 5),\n",
    "    Tool('착암기', 40),\n",
    "    Tool('연마기', 4),\n",
    "]"
   ]
  },
  {
   "cell_type": "code",
   "execution_count": 17,
   "metadata": {},
   "outputs": [
    {
     "name": "stdout",
     "output_type": "stream",
     "text": [
      "False\n"
     ]
    }
   ],
   "source": [
    "\n",
    "saw = (5, '원형 톱')\n",
    "jackhammer = (40, '착암기')\n",
    "assert not (jackhammer < saw) # 예상한 대로 결과가 나온다 (Flase)\n",
    "print(jackhammer < saw)"
   ]
  },
  {
   "cell_type": "markdown",
   "metadata": {},
   "source": [
    "- 위 예시와 같이 비교 두 튜플에서 \n",
    "    - 첫 번째 위치 값이 서로 같으면, 두 번째 위치를 비교\n",
    "    - 두 번째 위치 값이 같으면 세 번째 ..."
   ]
  },
  {
   "cell_type": "code",
   "execution_count": 19,
   "metadata": {},
   "outputs": [
    {
     "name": "stdout",
     "output_type": "stream",
     "text": [
      "True\n",
      "True\n",
      "True\n"
     ]
    }
   ],
   "source": [
    "# 위 내용을 증명하는 코드\n",
    "drill = (4, '드릴')\n",
    "sander = (4, '연마기')\n",
    "assert drill[0] == sander[0] # 무게가 같다\n",
    "assert drill[1] < sander[1]  # 알파벳순으로 볼 때 더 작다\n",
    "assert drill < sander        # 그러므로 드릴이 더 먼저다\n",
    "print(drill[0] == sander[0])\n",
    "print(drill[1] < sander[1])\n",
    "print(drill < sander   )"
   ]
  },
  {
   "cell_type": "markdown",
   "metadata": {},
   "source": [
    "###### 튜플 비교 동작 방식 활용으로 sort를 이용하여 우선순위를 변경할 수 있다.\n",
    "- 여기까지의 방식에서 제약식은 모두 오름차순이거나 내림차순이어야 한다."
   ]
  },
  {
   "cell_type": "code",
   "execution_count": 21,
   "metadata": {},
   "outputs": [
    {
     "name": "stdout",
     "output_type": "stream",
     "text": [
      "[Tool('드릴', 4), Tool('연마기', 4), Tool('원형 톱', 5), Tool('착암기', 40)]\n"
     ]
    }
   ],
   "source": [
    "#weight을 먼저 오름차순으로 비교하고 name을 다음 오름차순으로 비교\n",
    "power_tools = [\n",
    "    Tool('드릴', 4),\n",
    "    Tool('원형 톱', 5),\n",
    "    Tool('착암기', 40),\n",
    "    Tool('연마기', 4),\n",
    "]\n",
    "power_tools.sort(key=lambda x: (x.weight, x.name))\n",
    "print(power_tools)"
   ]
  },
  {
   "cell_type": "code",
   "execution_count": 22,
   "metadata": {},
   "outputs": [
    {
     "name": "stdout",
     "output_type": "stream",
     "text": [
      "[Tool('착암기', 40), Tool('원형 톱', 5), Tool('연마기', 4), Tool('드릴', 4)]\n"
     ]
    }
   ],
   "source": [
    "# 모두 오름차순 or 내림차순\n",
    "power_tools.sort(key=lambda x: (x.weight, x.name),\n",
    "                 reverse=True) # 모든 비교 기준을 내림차순으로 만든다\n",
    "print(power_tools)"
   ]
  },
  {
   "cell_type": "markdown",
   "metadata": {},
   "source": [
    "###### 모두 오름차순 or 내림차순을 해결할 수 있는 방법으로 - 연산자를 사용한다.\n",
    "- 하지만 reverse와 -연산자를 섞으면 불가능"
   ]
  },
  {
   "cell_type": "code",
   "execution_count": 23,
   "metadata": {},
   "outputs": [
    {
     "name": "stdout",
     "output_type": "stream",
     "text": [
      "[Tool('착암기', 40), Tool('원형 톱', 5), Tool('드릴', 4), Tool('연마기', 4)]\n"
     ]
    }
   ],
   "source": [
    "power_tools.sort(key=lambda x: (-x.weight, x.name))\n",
    "print(power_tools)"
   ]
  },
  {
   "cell_type": "code",
   "execution_count": 1,
   "metadata": {},
   "outputs": [
    {
     "ename": "NameError",
     "evalue": "name 'power_tools' is not defined",
     "output_type": "error",
     "traceback": [
      "\u001b[1;31m---------------------------------------------------------------------------\u001b[0m",
      "\u001b[1;31mNameError\u001b[0m                                 Traceback (most recent call last)",
      "\u001b[1;32m<ipython-input-1-0ff9b947f253>\u001b[0m in \u001b[0;36m<module>\u001b[1;34m\u001b[0m\n\u001b[1;32m----> 1\u001b[1;33m \u001b[0mpower_tools\u001b[0m\u001b[1;33m.\u001b[0m\u001b[0msort\u001b[0m\u001b[1;33m(\u001b[0m\u001b[0mkey\u001b[0m\u001b[1;33m=\u001b[0m\u001b[1;32mlambda\u001b[0m \u001b[0mx\u001b[0m\u001b[1;33m:\u001b[0m \u001b[1;33m(\u001b[0m\u001b[1;33m-\u001b[0m\u001b[0mx\u001b[0m\u001b[1;33m.\u001b[0m\u001b[0mweight\u001b[0m\u001b[1;33m,\u001b[0m \u001b[1;33m-\u001b[0m\u001b[0mx\u001b[0m\u001b[1;33m.\u001b[0m\u001b[0mname\u001b[0m\u001b[1;33m)\u001b[0m\u001b[1;33m)\u001b[0m\u001b[1;33m\u001b[0m\u001b[1;33m\u001b[0m\u001b[0m\n\u001b[0m\u001b[0;32m      2\u001b[0m \u001b[0mprint\u001b[0m\u001b[1;33m(\u001b[0m\u001b[0mpower_tools\u001b[0m\u001b[1;33m)\u001b[0m\u001b[1;33m\u001b[0m\u001b[1;33m\u001b[0m\u001b[0m\n",
      "\u001b[1;31mNameError\u001b[0m: name 'power_tools' is not defined"
     ]
    }
   ],
   "source": [
    "#문자열은 역순이 불가능함\n",
    "power_tools.sort(key=lambda x: (-x.weight, -x.name))\n",
    "print(power_tools)"
   ]
  },
  {
   "cell_type": "code",
   "execution_count": 24,
   "metadata": {},
   "outputs": [
    {
     "ename": "TypeError",
     "evalue": "bad operand type for unary -: 'str'",
     "output_type": "error",
     "traceback": [
      "\u001b[1;31m---------------------------------------------------------------------------\u001b[0m",
      "\u001b[1;31mTypeError\u001b[0m                                 Traceback (most recent call last)",
      "\u001b[1;32m<ipython-input-24-aa598d73bfdd>\u001b[0m in \u001b[0;36m<module>\u001b[1;34m\u001b[0m\n\u001b[0;32m      1\u001b[0m \u001b[1;31m# reverse와 -연산자를 섞으면 불가능\u001b[0m\u001b[1;33m\u001b[0m\u001b[1;33m\u001b[0m\u001b[1;33m\u001b[0m\u001b[0m\n\u001b[1;32m----> 2\u001b[1;33m power_tools.sort(key=lambda x: (x.weight, -x.name),\n\u001b[0m\u001b[0;32m      3\u001b[0m                  reverse=True)\n",
      "\u001b[1;32m<ipython-input-24-aa598d73bfdd>\u001b[0m in \u001b[0;36m<lambda>\u001b[1;34m(x)\u001b[0m\n\u001b[0;32m      1\u001b[0m \u001b[1;31m# reverse와 -연산자를 섞으면 불가능\u001b[0m\u001b[1;33m\u001b[0m\u001b[1;33m\u001b[0m\u001b[1;33m\u001b[0m\u001b[0m\n\u001b[1;32m----> 2\u001b[1;33m power_tools.sort(key=lambda x: (x.weight, -x.name),\n\u001b[0m\u001b[0;32m      3\u001b[0m                  reverse=True)\n",
      "\u001b[1;31mTypeError\u001b[0m: bad operand type for unary -: 'str'"
     ]
    }
   ],
   "source": [
    "# reverse와 -연산자를 섞으면 불가능\n",
    "power_tools.sort(key=lambda x: (x.weight, -x.name),\n",
    "                 reverse=True)"
   ]
  },
  {
   "cell_type": "markdown",
   "metadata": {},
   "source": [
    "###### sort를 두번 호출하는 방법으로 정렬을 해도 된다. (안정적인 정렬 알고리즘 제공)"
   ]
  },
  {
   "cell_type": "code",
   "execution_count": 25,
   "metadata": {},
   "outputs": [
    {
     "name": "stdout",
     "output_type": "stream",
     "text": [
      "[Tool('착암기', 40), Tool('원형 톱', 5), Tool('드릴', 4), Tool('연마기', 4)]\n"
     ]
    }
   ],
   "source": [
    "#두번의 호출로 정렬된 모습\n",
    "power_tools.sort(key=lambda x: x.name)   # name 기준 오름차순\n",
    "power_tools.sort(key=lambda x: x.weight, # weight 기준 내림차순\n",
    "                 reverse=True)\n",
    "print(power_tools)"
   ]
  },
  {
   "cell_type": "markdown",
   "metadata": {},
   "source": [
    "###### 최종적으로 리스트에서 얻어내고 싶은 정렬 기준 우선순위의 역순으로 정렬을 수행해야 한다.\n",
    "- 예를 들면 weight을 먼저 내림차순하고 name을 오름차순으로 정렬된 리스트를 원할 경우\n",
    "- name을 오름차순으로 먼저 정렬하고 weight을 내림차순으로 정렬하는 방법으로 수행해야한다."
   ]
  },
  {
   "cell_type": "code",
   "execution_count": 11,
   "metadata": {},
   "outputs": [
    {
     "name": "stdout",
     "output_type": "stream",
     "text": [
      "미정렬: [Tool('수준계', 3.5), Tool('해머', 1.25), Tool('스크류드라이버', 0.5), Tool('끌', 0.25)]\n",
      "\n",
      "정렬:  [Tool('끌', 0.25), Tool('해머', 1.25), Tool('수준계', 3.5), Tool('스크류드라이버', 0.5)]\n"
     ]
    }
   ],
   "source": [
    "# lamda에 길이순\n",
    "tools = [\n",
    "    Tool('수준계', 3.5),\n",
    "    Tool('해머', 1.25),\n",
    "    Tool('스크류드라이버', 0.5),\n",
    "    Tool('끌', 0.25),\n",
    "]\n",
    "\n",
    "print('미정렬:', repr(tools))\n",
    "tools.sort(key=lambda x:len(x.name))\n",
    "# lambda를 사용하여 name이라는 key를 기준으로 길이순으로 정렬\n",
    "print('\\n정렬: ', tools)"
   ]
  },
  {
   "cell_type": "code",
   "execution_count": null,
   "metadata": {},
   "outputs": [],
   "source": []
  }
 ],
 "metadata": {
  "kernelspec": {
   "display_name": "Python 3",
   "language": "python",
   "name": "python3"
  },
  "language_info": {
   "codemirror_mode": {
    "name": "ipython",
    "version": 3
   },
   "file_extension": ".py",
   "mimetype": "text/x-python",
   "name": "python",
   "nbconvert_exporter": "python",
   "pygments_lexer": "ipython3",
   "version": "3.8.5"
  }
 },
 "nbformat": 4,
 "nbformat_minor": 4
}
