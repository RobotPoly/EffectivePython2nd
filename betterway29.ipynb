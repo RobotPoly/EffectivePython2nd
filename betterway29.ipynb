{
 "cells": [
  {
   "cell_type": "markdown",
   "metadata": {},
   "source": [
    "### 대입식을 사용해 컴프리헨션 안에서 반복 작업을 피하라"
   ]
  },
  {
   "cell_type": "markdown",
   "metadata": {},
   "source": [
    "##### 컴프리헨션에서 같은 계산을 여러 위치에서 공유하는 경우가 흔하다.\n",
    "- 예를 들어 파트너 회사에서 주문을 관리하기 위한 프로그램을 작성한다고 하자.\n",
    "- 고객이 새로운 주문을 보내면 주문을 처리할 만한 재고가 있는지 알려줘야 한다.\n",
    "- 그러려면 고객의 요청이 재고 수량을 넘지 않고, 배송에 필요한 최소 수량을 만족하는지 확인해야 한다."
   ]
  },
  {
   "cell_type": "code",
   "execution_count": 1,
   "metadata": {},
   "outputs": [
    {
     "name": "stdout",
     "output_type": "stream",
     "text": [
      "{'나사못': 4, '나비너트': 1}\n"
     ]
    }
   ],
   "source": [
    "stock = {\n",
    "    '못': 125,\n",
    "    '나사못': 35,\n",
    "    '나비너트': 8,\n",
    "    '와셔': 24,\n",
    "}\n",
    "\n",
    "order = ['나사못', '나비너트', '클립']\n",
    "\n",
    "def get_batches(count, size):\n",
    "    return count // size\n",
    "\n",
    "result = {}\n",
    "for name in order:\n",
    "    count = stock.get(name, 0)\n",
    "    batches = get_batches(count, 8)\n",
    "    if batches:\n",
    "        result[name] = batches\n",
    "\n",
    "print(result)"
   ]
  },
  {
   "cell_type": "code",
   "execution_count": 2,
   "metadata": {},
   "outputs": [
    {
     "name": "stdout",
     "output_type": "stream",
     "text": [
      "{'나사못': 4, '나비너트': 1}\n"
     ]
    }
   ],
   "source": [
    "# 딕셔너리 컴프리헨션을 사용하면 더 간결해 진다.\n",
    "\n",
    "#\n",
    "found = {name: get_batches(stock.get(name, 0), 8)\n",
    "         for name in order\n",
    "         if get_batches(stock.get(name, 0), 8)}\n",
    "print(found)"
   ]
  },
  {
   "cell_type": "markdown",
   "metadata": {},
   "source": [
    "- 이 코드는 앞의 코드보다 짧지만 get_batches가 반복된다는 단점이 있다.\n",
    "- 기술적으로는 불필요한 시각적인 잡음이 들어가서 가독성이 나빠진다.\n",
    "- 두 식을 항상 똑같이 변경해야 하므로 슬수할 가능성도 높아진다."
   ]
  },
  {
   "cell_type": "code",
   "execution_count": 3,
   "metadata": {},
   "outputs": [
    {
     "name": "stdout",
     "output_type": "stream",
     "text": [
      "예상: {'나사못': 4, '나비너트': 1}\n",
      "실졔:  {'나사못': 8, '나비너트': 2}\n"
     ]
    }
   ],
   "source": [
    "#예를들어 get_batches 호출에서만 두 번째 인자를 8대신 4로 바꿨는데 결과가 달라진다.\n",
    "\n",
    "#\n",
    "has_bug = {name: get_batches(stock.get(name, 0), 4)\n",
    "           for name in order\n",
    "           if get_batches(stock.get(name, 0), 8)}\n",
    "\n",
    "print('예상:', found)\n",
    "print('실졔: ', has_bug)"
   ]
  },
  {
   "cell_type": "code",
   "execution_count": 11,
   "metadata": {},
   "outputs": [
    {
     "name": "stdout",
     "output_type": "stream",
     "text": [
      "{'나사못': 8, '나비너트': 2, '클립': 0}\n"
     ]
    }
   ],
   "source": [
    "# 위 상황 예시\n",
    "# if문을 지워서 첫줄 함수도 작동을 하는지 확인\n",
    "#if문은 key가없는 값은 실행을 안해주는 역할일 뿐\n",
    "#그렇기 때문에 아래와 같이 나옴\n",
    "has_bug = {name: get_batches(stock.get(name, 0), 4)\n",
    "           for name in order}\n",
    "print(has_bug)"
   ]
  },
  {
   "cell_type": "markdown",
   "metadata": {},
   "source": [
    "##### 위 문제의 간단한 해법은 왈러스 연산자를 사용\n",
    "- 왈러스 연산자를 이용하면 컴프리헨션의 일부분에 대입식을 만들 수 있다.\n",
    "    - stock 딕셔너리에서 각 order 키를 한번만 조회하고 get_batches를 한번만 호출해서 그 결과를 batches 변수에 저장할 수 있다.\n",
    "    - batches 변수를 참조해서 get_batches를 다시 호출할 필요없이 딕셔너리의 내용을 만들 수 있다.\n",
    "    - get_batches를 얻기 위한 불필요한 함수 호출을 제거하면 order안에 각원소에 대해 불필요한 연산을 수행하지 않으므로 성능 향상도 된다."
   ]
  },
  {
   "cell_type": "code",
   "execution_count": 4,
   "metadata": {},
   "outputs": [],
   "source": [
    "# 왈러스를 이용\n",
    "found = {name: batches for name in order\n",
    "         if (batches := get_batches(stock.get(name, 0), 8))}"
   ]
  },
  {
   "cell_type": "code",
   "execution_count": 5,
   "metadata": {},
   "outputs": [
    {
     "name": "stdout",
     "output_type": "stream",
     "text": [
      "{'나사못': 4, '나비너트': 1}\n"
     ]
    }
   ],
   "source": [
    "print(found)"
   ]
  },
  {
   "cell_type": "markdown",
   "metadata": {},
   "source": [
    "- 대입식을 컴프리헨션의 값 식에 사용해도 문법적으로 올바르다.\n",
    "- 하지만 컴프리헨션의 다른 부분에서 이 변수를 읽으려고 하면 컴프리헨션이 평가되는 순서 때문에 실행 시점에 오류가 난다."
   ]
  },
  {
   "cell_type": "code",
   "execution_count": 13,
   "metadata": {},
   "outputs": [
    {
     "ename": "NameError",
     "evalue": "name 'tenth' is not defined",
     "output_type": "error",
     "traceback": [
      "\u001b[1;31m---------------------------------------------------------------------------\u001b[0m",
      "\u001b[1;31mNameError\u001b[0m                                 Traceback (most recent call last)",
      "\u001b[1;32m<ipython-input-13-ca72a0a8bdd5>\u001b[0m in \u001b[0;36m<module>\u001b[1;34m\u001b[0m\n\u001b[0;32m      1\u001b[0m \u001b[1;31m# 오류가 나는 부분. 오류를 보고 싶으면 커멘트를 해제할것\u001b[0m\u001b[1;33m\u001b[0m\u001b[1;33m\u001b[0m\u001b[1;33m\u001b[0m\u001b[0m\n\u001b[1;32m----> 2\u001b[1;33m result = {name: (tenth := count // 10)\n\u001b[0m\u001b[0;32m      3\u001b[0m           for name, count in stock.items() if tenth > 0}\n",
      "\u001b[1;32m<ipython-input-13-ca72a0a8bdd5>\u001b[0m in \u001b[0;36m<dictcomp>\u001b[1;34m(.0)\u001b[0m\n\u001b[0;32m      1\u001b[0m \u001b[1;31m# 오류가 나는 부분. 오류를 보고 싶으면 커멘트를 해제할것\u001b[0m\u001b[1;33m\u001b[0m\u001b[1;33m\u001b[0m\u001b[1;33m\u001b[0m\u001b[0m\n\u001b[0;32m      2\u001b[0m result = {name: (tenth := count // 10)\n\u001b[1;32m----> 3\u001b[1;33m           for name, count in stock.items() if tenth > 0}\n\u001b[0m",
      "\u001b[1;31mNameError\u001b[0m: name 'tenth' is not defined"
     ]
    }
   ],
   "source": [
    "# 오류가 나는 부분. 오류를 보고 싶으면 커멘트를 해제할것\n",
    "result = {name: (tenth := count // 10)\n",
    "          for name, count in stock.items() if tenth > 0}"
   ]
  },
  {
   "cell_type": "markdown",
   "metadata": {},
   "source": [
    "- 대입식을 조건 쪽으로 옮기고 대입식에서 만들어진 변수 이름을 컴프리헨션 값 식에서 참조하면 이 문제 해결 가능\n"
   ]
  },
  {
   "cell_type": "code",
   "execution_count": 11,
   "metadata": {},
   "outputs": [
    {
     "name": "stdout",
     "output_type": "stream",
     "text": [
      "{'못': 12, '나사못': 3, '와셔': 2}\n",
      "2\n"
     ]
    }
   ],
   "source": [
    "result = {name: tenth for name, count in stock.items()\n",
    "          if (tenth := count // 10) > 0}\n",
    "print(result)\n",
    "print(tenth)"
   ]
  },
  {
   "cell_type": "markdown",
   "metadata": {},
   "source": [
    "- 컴프리헨션 값 부분에서 왈러스 연산자를 사용할 때 그 값에 대한 조건 부분이 없다면 추프 밖 영역으로 루프 변수가 누출된다."
   ]
  },
  {
   "cell_type": "code",
   "execution_count": 9,
   "metadata": {},
   "outputs": [
    {
     "name": "stdout",
     "output_type": "stream",
     "text": [
      "[62, 17, 4, 12]의 마지막 원소는 12\n"
     ]
    }
   ],
   "source": [
    "stock = {\n",
    "    '못': 125,\n",
    "    '나사못': 35,\n",
    "    '나비너트': 8,\n",
    "    '와셔': 24,\n",
    "}\n",
    "half = [(last := count // 2) for count in stock.values()]\n",
    "print(f'{half}의 마지막 원소는 {last}')"
   ]
  },
  {
   "cell_type": "markdown",
   "metadata": {},
   "source": [
    "- 이런 루프 변수 누출은 일반적인 for 루프에서 발생하는 루프 변수 누출과 비슷하다.\n"
   ]
  },
  {
   "cell_type": "code",
   "execution_count": 17,
   "metadata": {},
   "outputs": [
    {
     "name": "stdout",
     "output_type": "stream",
     "text": [
      "[125, 35, 8, 24]의 마지막 원소는 24\n"
     ]
    }
   ],
   "source": [
    "for count in stock.values(): # 루프 변수가 누출됨\n",
    "    pass\n",
    "\n",
    "print(f'{list(stock.values())}의 마지막 원소는 {count}')"
   ]
  },
  {
   "cell_type": "markdown",
   "metadata": {},
   "source": [
    "- 컴프리헨션 루프 변수인 경우에는 비슷한 누출이 없음\n",
    "- 원래는 없지만 왈러스를 사용하면 누출이 있으니까 조건문 안에 사용하라는 의미"
   ]
  },
  {
   "cell_type": "code",
   "execution_count": 7,
   "metadata": {},
   "outputs": [
    {
     "name": "stdout",
     "output_type": "stream",
     "text": [
      "[62, 17, 4, 12]\n",
      "24\n"
     ]
    }
   ],
   "source": [
    "stock = {\n",
    "    '못': 125,\n",
    "    '나사못': 35,\n",
    "    '나비너트': 8,\n",
    "    '와셔': 24,\n",
    "}\n",
    "half = [count // 2 for count in stock.values()]\n",
    "print(half)  # 작동함\n",
    "print(count) # 루프 변수가 누출되지 않기 때문에 예외가 발생함\n"
   ]
  },
  {
   "cell_type": "code",
   "execution_count": 6,
   "metadata": {},
   "outputs": [
    {
     "name": "stdout",
     "output_type": "stream",
     "text": [
      "125\n",
      "35\n",
      "8\n",
      "24\n",
      "--------------\n",
      "24\n"
     ]
    }
   ],
   "source": [
    "stock = {\n",
    "    '못': 125,\n",
    "    '나사못': 35,\n",
    "    '나비너트': 8,\n",
    "    '와셔': 24,\n",
    "}\n",
    "half=[]\n",
    "for count in stock.values():\n",
    "    print(count)\n",
    "    half.append(count)\n",
    "print('--------------')\n",
    "print(count)"
   ]
  },
  {
   "cell_type": "markdown",
   "metadata": {},
   "source": [
    "- 누출이 없는 편이 낫다.\n",
    "- 대입식은 제너레이터 경우에도 똑같은 방식으로 작동한다."
   ]
  },
  {
   "cell_type": "code",
   "execution_count": 21,
   "metadata": {},
   "outputs": [
    {
     "name": "stdout",
     "output_type": "stream",
     "text": [
      "('나사못', 4)\n",
      "('나비너트', 1)\n"
     ]
    }
   ],
   "source": [
    "# 예시는 딕셔너리 인스턴스 대신 제품 이름과 현재 재고 수량 쌍으로 이뤄진 이터레이터를 만든다.\n",
    "stock = {\n",
    "    '못': 125,\n",
    "    '나사못': 35,\n",
    "    '나비너트': 8,\n",
    "    '와셔': 24,\n",
    "}\n",
    "\n",
    "order = ['나사못', '나비너트', '클립']\n",
    "\n",
    "found = ((name, batches) for name in order\n",
    "         if (batches := get_batches(stock.get(name, 0), 8)))\n",
    "print(next(found))\n",
    "print(next(found))"
   ]
  },
  {
   "cell_type": "markdown",
   "metadata": {},
   "source": [
    "##### 기억할 내용\n",
    "- 대입식을 통해 컴프리헨션이나 제너레이터 식의 조건 부분에서 사용한 값을 같은 컴프리헨션이나 제너레이터의 다른 위치에서 재사용할 수 있다.\n",
    "- 이를통해 가독성과 성능을 향상시킬 수 있다.\n",
    "- 조건이 아닌 부분에도 대입식을 사용할 수 있지만, 그런 형태의 사용은 피해야한다."
   ]
  },
  {
   "cell_type": "code",
   "execution_count": null,
   "metadata": {},
   "outputs": [],
   "source": []
  }
 ],
 "metadata": {
  "kernelspec": {
   "display_name": "Python 3",
   "language": "python",
   "name": "python3"
  },
  "language_info": {
   "codemirror_mode": {
    "name": "ipython",
    "version": 3
   },
   "file_extension": ".py",
   "mimetype": "text/x-python",
   "name": "python",
   "nbconvert_exporter": "python",
   "pygments_lexer": "ipython3",
   "version": "3.8.5"
  }
 },
 "nbformat": 4,
 "nbformat_minor": 4
}
