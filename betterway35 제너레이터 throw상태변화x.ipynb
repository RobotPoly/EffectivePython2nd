{
 "cells": [
  {
   "cell_type": "markdown",
   "metadata": {},
   "source": [
    "### 제너레이터 안에서 throw로 상태를 변화시키지 말라\n",
    "- yield from식과 send 메서드 외에, 제너레이터 안에서 Exception을 다시 던질 수 있는 throw 메서드가 있다.\n",
    "- throw가 작동하는 방식은 간단하다.\n",
    "    - 제너레이터에 대해 throw가 호출되면 이 제너레이터는 값을 내놓은 yield로 부터 평소처럼 제너레이터 실행을 계속하는 대신 \n",
    "    - throw가 제공한 Exception을 다시 던진다."
   ]
  },
  {
   "cell_type": "code",
   "execution_count": 22,
   "metadata": {},
   "outputs": [
    {
     "name": "stdout",
     "output_type": "stream",
     "text": [
      "1\n",
      "2\n"
     ]
    },
    {
     "ename": "MyError",
     "evalue": "test error",
     "output_type": "error",
     "traceback": [
      "\u001b[1;31m---------------------------------------------------------------------------\u001b[0m",
      "\u001b[1;31mMyError\u001b[0m                                   Traceback (most recent call last)",
      "\u001b[1;32m<ipython-input-22-b830d5ba2788>\u001b[0m in \u001b[0;36m<module>\u001b[1;34m\u001b[0m\n\u001b[0;32m     13\u001b[0m \u001b[0mprint\u001b[0m\u001b[1;33m(\u001b[0m\u001b[0mnext\u001b[0m\u001b[1;33m(\u001b[0m\u001b[0mit\u001b[0m\u001b[1;33m)\u001b[0m\u001b[1;33m)\u001b[0m  \u001b[1;31m# 2를 내놓음\u001b[0m\u001b[1;33m\u001b[0m\u001b[1;33m\u001b[0m\u001b[0m\n\u001b[0;32m     14\u001b[0m \u001b[1;31m# 오류가 나는 부분. 오류를 보고 싶으면 커멘트를 해제할것\u001b[0m\u001b[1;33m\u001b[0m\u001b[1;33m\u001b[0m\u001b[1;33m\u001b[0m\u001b[0m\n\u001b[1;32m---> 15\u001b[1;33m \u001b[0mprint\u001b[0m\u001b[1;33m(\u001b[0m\u001b[0mit\u001b[0m\u001b[1;33m.\u001b[0m\u001b[0mthrow\u001b[0m\u001b[1;33m(\u001b[0m\u001b[0mMyError\u001b[0m\u001b[1;33m(\u001b[0m\u001b[1;34m'test error'\u001b[0m\u001b[1;33m)\u001b[0m\u001b[1;33m)\u001b[0m\u001b[1;33m)\u001b[0m\u001b[1;33m\u001b[0m\u001b[1;33m\u001b[0m\u001b[0m\n\u001b[0m\u001b[0;32m     16\u001b[0m \u001b[1;33m\u001b[0m\u001b[0m\n\u001b[0;32m     17\u001b[0m \u001b[1;31m#2번째 다음에 3을 부르기 전에 Myerror라는 부분이 있어야하는데 없어서 error가 발생하고 다음 순서인 3으로 넘어가지못하고\u001b[0m\u001b[1;33m\u001b[0m\u001b[1;33m\u001b[0m\u001b[1;33m\u001b[0m\u001b[0m\n",
      "\u001b[1;32m<ipython-input-22-b830d5ba2788>\u001b[0m in \u001b[0;36mmy_generator\u001b[1;34m()\u001b[0m\n\u001b[0;32m      5\u001b[0m \u001b[1;32mdef\u001b[0m \u001b[0mmy_generator\u001b[0m\u001b[1;33m(\u001b[0m\u001b[1;33m)\u001b[0m\u001b[1;33m:\u001b[0m\u001b[1;33m\u001b[0m\u001b[1;33m\u001b[0m\u001b[0m\n\u001b[0;32m      6\u001b[0m     \u001b[1;32myield\u001b[0m \u001b[1;36m1\u001b[0m\u001b[1;33m\u001b[0m\u001b[1;33m\u001b[0m\u001b[0m\n\u001b[1;32m----> 7\u001b[1;33m     \u001b[1;32myield\u001b[0m \u001b[1;36m2\u001b[0m\u001b[1;33m\u001b[0m\u001b[1;33m\u001b[0m\u001b[0m\n\u001b[0m\u001b[0;32m      8\u001b[0m     \u001b[1;32myield\u001b[0m \u001b[1;36m3\u001b[0m\u001b[1;33m\u001b[0m\u001b[1;33m\u001b[0m\u001b[0m\n\u001b[0;32m      9\u001b[0m \u001b[1;33m\u001b[0m\u001b[0m\n",
      "\u001b[1;31mMyError\u001b[0m: test error"
     ]
    }
   ],
   "source": [
    "# 다음 코드는 이런 동작 방식을 보여준다.\n",
    "class MyError(Exception):\n",
    "    pass\n",
    "\n",
    "def my_generator():\n",
    "    yield 1\n",
    "    yield 2\n",
    "    yield 3\n",
    "    \n",
    "\n",
    "it = my_generator()\n",
    "print(next(it))  # 1을 내놓음\n",
    "print(next(it))  # 2를 내놓음\n",
    "# 오류가 나는 부분. 오류를 보고 싶으면 커멘트를 해제할것\n",
    "print(it.throw(MyError('test error')))\n",
    "\n",
    "#2번째 다음에 3을 부르기 전에 Myerror라는 부분이 있어야하는데 없어서 error가 발생하고 다음 순서인 3으로 넘어가지못하고 \n",
    "# 제너레이터는 2까지만 실행이 되어버린것?"
   ]
  },
  {
   "cell_type": "markdown",
   "metadata": {},
   "source": [
    "-throw를 호출해 제너레이터에 예외를 주입해도, 제너레이터는 try/except 복합문을 사용해 마지막으로 실행된 yield 문을 둘러쌈으로써 이 예외를 잡아낼 수 있다."
   ]
  },
  {
   "cell_type": "code",
   "execution_count": 28,
   "metadata": {},
   "outputs": [
    {
     "name": "stdout",
     "output_type": "stream",
     "text": [
      "1\n",
      "2\n",
      "MyError 발생!\n",
      "4\n"
     ]
    }
   ],
   "source": [
    "def my_generator():\n",
    "    yield 1\n",
    "    try:\n",
    "        yield 2 #2를 호출하는데 다음 호출시 yield2는 사용 불가로 except를 실행하게댐\n",
    "    except MyError:\n",
    "        print('MyError 발생!')\n",
    "    else:\n",
    "        yield 3\n",
    "    yield 4\n",
    "\n",
    "it = my_generator()\n",
    "print(next(it))  # 1을 내놓음\n",
    "print(next(it))  # 2를 내놓음\n",
    "print(it.throw(MyError('test error')))\n",
    "#2까지는 무리업이 되고\n",
    "#다음 순서인 myerror가 발생하고 except가 에러가 안났기 때문에 else는 넘어가고 바로 yield4 실행?"
   ]
  },
  {
   "cell_type": "markdown",
   "metadata": {},
   "source": [
    "- 이 기능은 제너레이터와 제너레이터를 호출하는 쪽 사이에 양방향 통신 수단을 제공한다.\n",
    "- 경우에 따라 이 양방향 통신 수단이 유용할 수 있다."
   ]
  },
  {
   "cell_type": "code",
   "execution_count": 5,
   "metadata": {},
   "outputs": [],
   "source": [
    "# ex) 작성하는 프로그램에 간헐적으로 재설정할 수 있는 타이머가 필요\n",
    "# 다음은 throw 메서드에 의존하는 제너레이터를 통해 타이머를 구현하는 코드다.\n",
    "# yield식에서 Reset 예외가 발생할 때마다 카운터가 period로 재설정 된다.\n",
    "class Reset(Exception):\n",
    "    pass\n",
    "\n",
    "def timer(period):\n",
    "    current = period\n",
    "    while current:\n",
    "        current -= 1\n",
    "        try:\n",
    "            yield current\n",
    "        except Reset:\n",
    "            current = period"
   ]
  },
  {
   "cell_type": "markdown",
   "metadata": {},
   "source": [
    "- 매 초 한 번 폴링되는 외부 입력과 이 재설정 이벤트를 연결할 수도 있다.\n",
    "- 그 후, timer 제너레이터를 구종시키는 run함수를 정의할 수 있다.\n",
    "- run 함수는 throw를 사용해 타이머를 재설정하는 예외를 주입하거나, 제너레이터 출력에 대해 announce 함수를 호출한다."
   ]
  },
  {
   "cell_type": "code",
   "execution_count": 14,
   "metadata": {},
   "outputs": [
    {
     "name": "stdout",
     "output_type": "stream",
     "text": [
      "3 틱 남음\n",
      "2 틱 남음\n",
      "1 틱 남음\n",
      "3 틱 남음\n",
      "2 틱 남음\n",
      "3 틱 남음\n",
      "2 틱 남음\n",
      "1 틱 남음\n",
      "0 틱 남음\n"
     ]
    }
   ],
   "source": [
    "RESETS = [\n",
    "    False, False, False, True, False, True, False,\n",
    "    False, False, False, False, False, False, False]\n",
    "#true가 나오면 period를 reset시켜서 다시 3부터 시작 \n",
    "#이후 계속되다가 제너레이터가 끝나면 break\n",
    "def check_for_reset():\n",
    "    # 외부 이벤트를 폴링한다\n",
    "    return RESETS.pop(0) #하나씩 끄집어내고 원래 변수에서는 삭제\n",
    "\n",
    "def announce(remaining):\n",
    "    print(f'{remaining} 틱 남음')\n",
    "\n",
    "def run():\n",
    "    it = timer(4)\n",
    "    while True:\n",
    "        try:\n",
    "            if check_for_reset():\n",
    "                current = it.throw(Reset())\n",
    "            else:\n",
    "                current = next(it)\n",
    "        except StopIteration:\n",
    "            break\n",
    "        else:\n",
    "            announce(current)\n",
    "\n",
    "run()"
   ]
  },
  {
   "cell_type": "markdown",
   "metadata": {},
   "source": [
    "- 위 코드는 읽기가 어렵다.\n",
    "- 각 내포 단계마다 StopIteration 예외를 잡아내거나 throw를 할지, next나 announce를 호출할지 결정하는데 , 이로인해 잡음이많다.\n"
   ]
  },
  {
   "cell_type": "markdown",
   "metadata": {},
   "source": [
    "- 이 기능을 구현하는 더 단순한 방법은 이터러블 컨테이너 객체를 사용해 상태가 있는 클로저를 정의하는 것이다.\n",
    "- 이러한 클래스를 사용해 timet 제너레이터를 재정의한 코드는 다음과 같다.\n"
   ]
  },
  {
   "cell_type": "code",
   "execution_count": 19,
   "metadata": {},
   "outputs": [],
   "source": [
    "class Timer:\n",
    "    def __init__(self, period):\n",
    "        self.current = period\n",
    "        self.period = period\n",
    "\n",
    "    def reset(self):\n",
    "        self.current = self.period\n",
    "\n",
    "    def __iter__(self):\n",
    "        while self.current:\n",
    "            self.current -= 1\n",
    "            yield self.current\n"
   ]
  },
  {
   "cell_type": "markdown",
   "metadata": {},
   "source": [
    "- 이제 run 메서드에서는 for를 사용해 훨씬 단순하게 이터레이션을 수행할 수 있고, 내포 수준이 줄어들어 코드가 훨씬 읽기 쉽다."
   ]
  },
  {
   "cell_type": "code",
   "execution_count": 20,
   "metadata": {},
   "outputs": [
    {
     "name": "stdout",
     "output_type": "stream",
     "text": [
      "3 틱 남음\n",
      "2 틱 남음\n",
      "1 틱 남음\n",
      "0 틱 남음\n",
      "3 틱 남음\n",
      "2 틱 남음\n",
      "3 틱 남음\n",
      "2 틱 남음\n",
      "1 틱 남음\n",
      "0 틱 남음\n"
     ]
    }
   ],
   "source": [
    "RESETS = [\n",
    "    False, False, False, True, False, True, False,\n",
    "    False, False, False, False, False, False, False]\n",
    "def run():\n",
    "    timer = Timer(4)\n",
    "    for current in timer:\n",
    "        if check_for_reset():\n",
    "            timer.reset()\n",
    "        announce(current)\n",
    "\n",
    "run()"
   ]
  },
  {
   "cell_type": "markdown",
   "metadata": {},
   "source": [
    "- 출력은 throw를 사용하던 예전 버전과 똑같지만, 훨씬 더 이해하기 쉽게 구현됐다.\n",
    "- 제너레이터와 예외를 섞어서 만들어야 하는 작업이 있다면, 비동기 기능을 사용하면 더 좋게 구현할 수 있는 경우도 많다.\n",
    "- 따라서 예외적인 경우를 처리해야 한다면 throw를 전혀 사용하지 말고 이터러블 클래스를 사용할것"
   ]
  },
  {
   "cell_type": "code",
   "execution_count": null,
   "metadata": {},
   "outputs": [],
   "source": []
  }
 ],
 "metadata": {
  "kernelspec": {
   "display_name": "Python 3",
   "language": "python",
   "name": "python3"
  },
  "language_info": {
   "codemirror_mode": {
    "name": "ipython",
    "version": 3
   },
   "file_extension": ".py",
   "mimetype": "text/x-python",
   "name": "python",
   "nbconvert_exporter": "python",
   "pygments_lexer": "ipython3",
   "version": "3.8.5"
  }
 },
 "nbformat": 4,
 "nbformat_minor": 4
}
