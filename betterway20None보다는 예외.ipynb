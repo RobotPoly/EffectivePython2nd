{
 "cells": [
  {
   "cell_type": "markdown",
   "metadata": {},
   "source": [
    "### None을 반환하기보다는 예외를 발생시켜라"
   ]
  },
  {
   "cell_type": "markdown",
   "metadata": {},
   "source": [
    "- 유틸리티 함수를 작성할 때 반환 값을 None으로 하면서 이 값이 특별한 의미를 부여하려는 경향을 나타낸다."
   ]
  },
  {
   "cell_type": "code",
   "execution_count": 29,
   "metadata": {},
   "outputs": [],
   "source": [
    "# 한 수를 다른 수로 나누는 도우미 함수를 작성한다고 하자.\n",
    "# 0으로 나누는 경우 결과가 정해져 있지 않으므로 None을 반환하는 것이 자연스러워 보인다.\n",
    "# ZeroDivisionError가 나올 때 None으로 반환\n",
    "def careful_divide(a, b):\n",
    "    try:\n",
    "        return a / b\n",
    "    except ZeroDivisionError:\n",
    "        return None"
   ]
  },
  {
   "cell_type": "code",
   "execution_count": 30,
   "metadata": {},
   "outputs": [
    {
     "name": "stdout",
     "output_type": "stream",
     "text": [
      "잘못된 입력\n",
      "None\n"
     ]
    }
   ],
   "source": [
    "x, y = 1, 0\n",
    "result = careful_divide(x, y)\n",
    "if result is None:\n",
    "    print('잘못된 입력')\n",
    "\n",
    "print(result)\n"
   ]
  },
  {
   "cell_type": "markdown",
   "metadata": {},
   "source": [
    "- 자수가 0일 경우에는 0값을 반환한다.\n",
    "- 그 경우 if 함수에서 0을 flase로 받아드려 실행이 된다.\n"
   ]
  },
  {
   "cell_type": "code",
   "execution_count": 31,
   "metadata": {},
   "outputs": [
    {
     "name": "stdout",
     "output_type": "stream",
     "text": [
      "잘못된 입력\n"
     ]
    }
   ],
   "source": [
    "# 답은 0인데 아래 설정한 if 조건문은 0을 flase로 실행하게 된다.\n",
    "x, y = 0, 5\n",
    "result = careful_divide(x, y)\n",
    "if not result:\n",
    "    print('잘못된 입력') # 이 코드가 실행되는데, 사실 이 코드가 실행되면 안된다!"
   ]
  },
  {
   "cell_type": "markdown",
   "metadata": {},
   "source": [
    "#### careful_divide와 같은 함수에서 None을 반환하면 오류를 야기하기 쉽다.\n",
    "- 실수를 줄이는 방법 : \n",
    "    - 튜플로 분리한다. (연산이 성공인지 실패인지 표시한다.)\n",
    "    - 계산에 성공한 경우 실제 결과값을 저장한다."
   ]
  },
  {
   "cell_type": "code",
   "execution_count": 32,
   "metadata": {},
   "outputs": [
    {
     "name": "stdout",
     "output_type": "stream",
     "text": [
      "(True, 0.0)\n"
     ]
    }
   ],
   "source": [
    "# 호출 부분에 언패킹을 이용하여 항상 튜플에서 상태부분을 살펴보게 한다.\n",
    "# 계산이 가능하면 true로 써 return값을 반환\n",
    "def careful_divide(a, b):\n",
    "    try:\n",
    "        return True, a / b\n",
    "    except ZeroDivisionError:\n",
    "        return False, None\n",
    "\n",
    "x = careful_divide(0,4)\n",
    "print(x)"
   ]
  },
  {
   "cell_type": "code",
   "execution_count": 33,
   "metadata": {},
   "outputs": [
    {
     "name": "stdout",
     "output_type": "stream",
     "text": [
      "True\n",
      "0.0\n"
     ]
    }
   ],
   "source": [
    "# 튜플로 상태를 검사하고 언패킹으로 값을 저장\n",
    "success, result = careful_divide(0, 3)\n",
    "if not success:\n",
    "    print('잘못된 입력')\n",
    "    \n",
    "print(success)\n",
    "print(result)"
   ]
  },
  {
   "cell_type": "code",
   "execution_count": 34,
   "metadata": {},
   "outputs": [
    {
     "name": "stdout",
     "output_type": "stream",
     "text": [
      "잘못된 입력\n",
      "False\n",
      "None\n"
     ]
    }
   ],
   "source": [
    "# \n",
    "success, result = careful_divide(3, 0)\n",
    "if not success:\n",
    "    print('잘못된 입력')\n",
    "\n",
    "print(success)\n",
    "print(result)"
   ]
  },
  {
   "cell_type": "code",
   "execution_count": 42,
   "metadata": {},
   "outputs": [],
   "source": [
    "def careful_divide(a, b):\n",
    "    try:\n",
    "        return True, a / b\n",
    "    except ZeroDivisionError:\n",
    "        return False, None\n",
    "    \n",
    "x, y = 0, 5\n",
    "\n",
    "#\n",
    "_, result = careful_divide(0, 3)\n",
    "if not success:\n",
    "    print('잘못된 입력')\n",
    "\n"
   ]
  },
  {
   "cell_type": "markdown",
   "metadata": {},
   "source": [
    "- 위 방법의 문제는 호출하는 쪽에서 튜플의 첫 번째 부분(변수를 사용하지 않음을 밑줄로 표시하는 파이썬 표준 관례???)을 쉽게 무시\n",
    "- 한눈에 잘못됐는지 알아보기 어렵지만, None을 반환한 경우와 마찬가지로 실수 할 수 있다."
   ]
  },
  {
   "cell_type": "code",
   "execution_count": 49,
   "metadata": {},
   "outputs": [],
   "source": [
    "#\n",
    "x, y = 0, 5\n",
    "\n",
    "def careful_divide(a, b):\n",
    "    try:\n",
    "        return True, a / b\n",
    "    except ZeroDivisionError:\n",
    "        return False, None\n",
    "\n",
    "\n",
    "#\n",
    "_, result = careful_divide(x, y)\n",
    "if not success:\n",
    "    print('잘못된 입력')\n"
   ]
  },
  {
   "cell_type": "markdown",
   "metadata": {},
   "source": [
    "##### 내 마음대로 해석\n",
    "- 많은 데이터를 처리할 때 None이라는 값이 들어가면 데이터 처리할 때 문제가 발생할 수 있기 때문에 None이라는 값이 없는게 좋다.\n",
    "- 위 예시 코드에서 success의 값과는 관련없이 result에 따라 리스트에 저장이 될 것이다.\n",
    "- 데이터를 처리 할 때 success의 결과값을 따로 저장하지 않으면 flase가 있었는지 result에 None이 들어갔는지 파악하기 어렵다."
   ]
  },
  {
   "cell_type": "markdown",
   "metadata": {},
   "source": [
    "#### 더 나은 두번쨰 방법\n",
    "- None을 반환하는 대신 Exception을 호출한 쪽으로 발생시켜 호출자가 이를 처리하게 한다."
   ]
  },
  {
   "cell_type": "code",
   "execution_count": 14,
   "metadata": {},
   "outputs": [],
   "source": [
    "#ZeroDivisionError가 발생한 경우 ValueError로 바꿔 던져 호출자에게 입력이 잘못 됐음을 알려준다.\n",
    "def careful_divide(a, b):\n",
    "    try:\n",
    "        return a / b\n",
    "    except ZeroDivisionError as e:\n",
    "        raise ValueError('잘못된 입력')"
   ]
  },
  {
   "cell_type": "code",
   "execution_count": 15,
   "metadata": {},
   "outputs": [
    {
     "name": "stdout",
     "output_type": "stream",
     "text": [
      "잘못된 입력\n"
     ]
    }
   ],
   "source": [
    "x, y = 5, 0\n",
    "try:\n",
    "    result = careful_divide(x, y) # 나누기가 불가능할 경우 실행이 안되기 때문에 result에 값이 들어가지 않는다.\n",
    "except ValueError:\n",
    "    print('잘못된 입력')\n",
    "else:\n",
    "    print('결과는 %.1f 입니다' % result)\n",
    "    "
   ]
  },
  {
   "cell_type": "markdown",
   "metadata": {},
   "source": [
    "- 이런 접근 방법은 타입 애너테이션을 사용하는 코드에도 적용할 수 있다.( betterway90할때 다시,,,)\n",
    "- 함수의 반환 값이 항상 float이라고 지정할 수 있고, 그에 따라 None이 결코 반환되지 않음을 알릴 수 있다."
   ]
  },
  {
   "cell_type": "markdown",
   "metadata": {},
   "source": [
    "- 파이썬의 점진적 타입 지정(gradual typing)에서는 함수의 인터페이스에 예외가 포함되는지 표현하는 방법(검증 오류)이 의도적으로 제외\n",
    "- 호출자가 어떤 Exception을 잡아내야 할지 결정할 때 문서를 참조할 것으로 예상하고, 발생시키는 예외를 문서에 명시해야한다."
   ]
  },
  {
   "cell_type": "markdown",
   "metadata": {},
   "source": [
    "##### 위 내용을 반영하고, 독스트링과 타입 애너테이션까지 포함 시킨 예시"
   ]
  },
  {
   "cell_type": "code",
   "execution_count": 16,
   "metadata": {},
   "outputs": [
    {
     "name": "stdout",
     "output_type": "stream",
     "text": [
      "0.0\n"
     ]
    },
    {
     "ename": "ValueError",
     "evalue": "잘못된 입력",
     "output_type": "error",
     "traceback": [
      "\u001b[1;31m---------------------------------------------------------------------------\u001b[0m",
      "\u001b[1;31mZeroDivisionError\u001b[0m                         Traceback (most recent call last)",
      "\u001b[1;32m<ipython-input-16-4ffb776d4de2>\u001b[0m in \u001b[0;36mcareful_divide\u001b[1;34m(a, b)\u001b[0m\n\u001b[0;32m      7\u001b[0m     \u001b[1;32mtry\u001b[0m\u001b[1;33m:\u001b[0m\u001b[1;33m\u001b[0m\u001b[1;33m\u001b[0m\u001b[0m\n\u001b[1;32m----> 8\u001b[1;33m         \u001b[1;32mreturn\u001b[0m \u001b[0ma\u001b[0m \u001b[1;33m/\u001b[0m \u001b[0mb\u001b[0m\u001b[1;33m\u001b[0m\u001b[1;33m\u001b[0m\u001b[0m\n\u001b[0m\u001b[0;32m      9\u001b[0m     \u001b[1;32mexcept\u001b[0m \u001b[0mZeroDivisionError\u001b[0m \u001b[1;32mas\u001b[0m \u001b[0me\u001b[0m\u001b[1;33m:\u001b[0m\u001b[1;33m\u001b[0m\u001b[1;33m\u001b[0m\u001b[0m\n",
      "\u001b[1;31mZeroDivisionError\u001b[0m: division by zero",
      "\nDuring handling of the above exception, another exception occurred:\n",
      "\u001b[1;31mValueError\u001b[0m                                Traceback (most recent call last)",
      "\u001b[1;32m<ipython-input-16-4ffb776d4de2>\u001b[0m in \u001b[0;36m<module>\u001b[1;34m\u001b[0m\n\u001b[0;32m     12\u001b[0m \u001b[0mx\u001b[0m\u001b[1;33m=\u001b[0m \u001b[0mcareful_divide\u001b[0m\u001b[1;33m(\u001b[0m\u001b[1;36m0\u001b[0m\u001b[1;33m,\u001b[0m\u001b[1;36m4\u001b[0m\u001b[1;33m)\u001b[0m\u001b[1;33m\u001b[0m\u001b[1;33m\u001b[0m\u001b[0m\n\u001b[0;32m     13\u001b[0m \u001b[0mprint\u001b[0m\u001b[1;33m(\u001b[0m\u001b[0mx\u001b[0m\u001b[1;33m)\u001b[0m\u001b[1;33m\u001b[0m\u001b[1;33m\u001b[0m\u001b[0m\n\u001b[1;32m---> 14\u001b[1;33m \u001b[0my\u001b[0m\u001b[1;33m=\u001b[0m \u001b[0mcareful_divide\u001b[0m\u001b[1;33m(\u001b[0m\u001b[1;36m2\u001b[0m\u001b[1;33m,\u001b[0m\u001b[1;36m0\u001b[0m\u001b[1;33m)\u001b[0m\u001b[1;33m\u001b[0m\u001b[1;33m\u001b[0m\u001b[0m\n\u001b[0m\u001b[0;32m     15\u001b[0m \u001b[0mprint\u001b[0m\u001b[1;33m(\u001b[0m\u001b[0my\u001b[0m\u001b[1;33m)\u001b[0m\u001b[1;33m\u001b[0m\u001b[1;33m\u001b[0m\u001b[0m\n",
      "\u001b[1;32m<ipython-input-16-4ffb776d4de2>\u001b[0m in \u001b[0;36mcareful_divide\u001b[1;34m(a, b)\u001b[0m\n\u001b[0;32m      8\u001b[0m         \u001b[1;32mreturn\u001b[0m \u001b[0ma\u001b[0m \u001b[1;33m/\u001b[0m \u001b[0mb\u001b[0m\u001b[1;33m\u001b[0m\u001b[1;33m\u001b[0m\u001b[0m\n\u001b[0;32m      9\u001b[0m     \u001b[1;32mexcept\u001b[0m \u001b[0mZeroDivisionError\u001b[0m \u001b[1;32mas\u001b[0m \u001b[0me\u001b[0m\u001b[1;33m:\u001b[0m\u001b[1;33m\u001b[0m\u001b[1;33m\u001b[0m\u001b[0m\n\u001b[1;32m---> 10\u001b[1;33m         \u001b[1;32mraise\u001b[0m \u001b[0mValueError\u001b[0m\u001b[1;33m(\u001b[0m\u001b[1;34m'잘못된 입력'\u001b[0m\u001b[1;33m)\u001b[0m\u001b[1;33m\u001b[0m\u001b[1;33m\u001b[0m\u001b[0m\n\u001b[0m\u001b[0;32m     11\u001b[0m \u001b[1;33m\u001b[0m\u001b[0m\n\u001b[0;32m     12\u001b[0m \u001b[0mx\u001b[0m\u001b[1;33m=\u001b[0m \u001b[0mcareful_divide\u001b[0m\u001b[1;33m(\u001b[0m\u001b[1;36m0\u001b[0m\u001b[1;33m,\u001b[0m\u001b[1;36m4\u001b[0m\u001b[1;33m)\u001b[0m\u001b[1;33m\u001b[0m\u001b[1;33m\u001b[0m\u001b[0m\n",
      "\u001b[1;31mValueError\u001b[0m: 잘못된 입력"
     ]
    }
   ],
   "source": [
    "def careful_divide(a: float, b: float) -> float: #타입이 지정된 모습.\n",
    "    #독스트링 (어떤 작용이 있을지 설명해줌)\n",
    "    \"\"\"a를 b로 나눈다.\n",
    "    Raises:\n",
    "        ValueError: b가 0이어서 나눗셈을 할 수 없을 때\n",
    "    \"\"\"\n",
    "    try:\n",
    "        return a / b\n",
    "    except ZeroDivisionError as e:\n",
    "        raise ValueError('잘못된 입력')\n",
    "\n",
    "x= careful_divide(0,4)\n",
    "print(x)\n",
    "y= careful_divide(2,0)\n",
    "print(y)"
   ]
  },
  {
   "cell_type": "markdown",
   "metadata": {},
   "source": [
    "##### 점진적 타입 검사 예시\n",
    "- 컴파일 시간에 타입 검사를 수행하면서 필요에 따라 타입 선언의 생략을 허용하는 검사 방식"
   ]
  },
  {
   "cell_type": "code",
   "execution_count": 27,
   "metadata": {},
   "outputs": [
    {
     "name": "stdout",
     "output_type": "stream",
     "text": [
      "30\n"
     ]
    },
    {
     "ename": "TypeError",
     "evalue": "unsupported operand type(s) for +: 'int' and 'str'",
     "output_type": "error",
     "traceback": [
      "\u001b[1;31m---------------------------------------------------------------------------\u001b[0m",
      "\u001b[1;31mTypeError\u001b[0m                                 Traceback (most recent call last)",
      "\u001b[1;32m<ipython-input-27-54f84cc66f89>\u001b[0m in \u001b[0;36m<module>\u001b[1;34m\u001b[0m\n\u001b[0;32m      8\u001b[0m \u001b[0mprint\u001b[0m\u001b[1;33m(\u001b[0m\u001b[0mx\u001b[0m\u001b[1;33m)\u001b[0m\u001b[1;33m\u001b[0m\u001b[1;33m\u001b[0m\u001b[0m\n\u001b[0;32m      9\u001b[0m \u001b[1;33m\u001b[0m\u001b[0m\n\u001b[1;32m---> 10\u001b[1;33m \u001b[0my\u001b[0m\u001b[1;33m=\u001b[0m \u001b[0madc\u001b[0m\u001b[1;33m(\u001b[0m\u001b[1;36m10\u001b[0m\u001b[1;33m,\u001b[0m\u001b[1;34m\"가\"\u001b[0m\u001b[1;33m)\u001b[0m\u001b[1;33m\u001b[0m\u001b[1;33m\u001b[0m\u001b[0m\n\u001b[0m\u001b[0;32m     11\u001b[0m \u001b[0mprint\u001b[0m\u001b[1;33m(\u001b[0m\u001b[0my\u001b[0m\u001b[1;33m)\u001b[0m\u001b[1;33m\u001b[0m\u001b[1;33m\u001b[0m\u001b[0m\n",
      "\u001b[1;32m<ipython-input-27-54f84cc66f89>\u001b[0m in \u001b[0;36madc\u001b[1;34m(x, y)\u001b[0m\n\u001b[0;32m      2\u001b[0m \u001b[1;33m\u001b[0m\u001b[0m\n\u001b[0;32m      3\u001b[0m \u001b[1;32mdef\u001b[0m \u001b[0madc\u001b[0m\u001b[1;33m(\u001b[0m\u001b[0mx\u001b[0m\u001b[1;33m,\u001b[0m \u001b[0my\u001b[0m\u001b[1;33m)\u001b[0m\u001b[1;33m:\u001b[0m\u001b[1;33m\u001b[0m\u001b[1;33m\u001b[0m\u001b[0m\n\u001b[1;32m----> 4\u001b[1;33m   \u001b[1;32mreturn\u001b[0m \u001b[0mx\u001b[0m \u001b[1;33m+\u001b[0m \u001b[0my\u001b[0m\u001b[1;33m;\u001b[0m\u001b[1;33m\u001b[0m\u001b[1;33m\u001b[0m\u001b[0m\n\u001b[0m\u001b[0;32m      5\u001b[0m \u001b[1;33m\u001b[0m\u001b[0m\n\u001b[0;32m      6\u001b[0m \u001b[0mx\u001b[0m \u001b[1;33m=\u001b[0m \u001b[0madc\u001b[0m\u001b[1;33m(\u001b[0m\u001b[1;36m10\u001b[0m\u001b[1;33m,\u001b[0m \u001b[1;36m20\u001b[0m\u001b[1;33m)\u001b[0m\u001b[1;33m\u001b[0m\u001b[1;33m\u001b[0m\u001b[0m\n",
      "\u001b[1;31mTypeError\u001b[0m: unsupported operand type(s) for +: 'int' and 'str'"
     ]
    }
   ],
   "source": [
    "# x,y에 숫자가 들어가야한다는 타입선언도 없이 에러가 발생하지 않음.\n",
    "\n",
    "def adc(x, y):\n",
    "  return x + y;\n",
    "\n",
    "x = adc(10, 20)\n",
    "\n",
    "print(x)\n",
    "\n",
    "y= adc(10,\"가\")\n",
    "print(y)"
   ]
  },
  {
   "cell_type": "markdown",
   "metadata": {},
   "source": [
    "#### 내 맘대로 해석 예시"
   ]
  },
  {
   "cell_type": "code",
   "execution_count": 17,
   "metadata": {},
   "outputs": [
    {
     "name": "stdout",
     "output_type": "stream",
     "text": [
      "[4, 27, 24, 70, 100, 83, 75, 87, 60, 51, 80, 5, 94, 42, 87, 72, 88, 4, 59, 91, 77, 10, 101, 9, 32, 75, 78, 87, 10, 64, 5, 21, 1, 90, 53, 69, 58, 72, 86, 86, 92, 75, 33, 83, 85, 80, 81, 13, 27, 68, 91, 70, 10, 96, 87, 54, 64, 100, 2, 3, 70, 85, 44, 42, 39, 54, 55, 2, 92, 11, 27, 34, 22, 60, 62, 87, 88, 18, 5, 6, 59, 13, 73, 7, 71, 63, 48, 40, 89, 83, 13, 86, 66, 29, 36, 51, 100, 70, 98, 61, 21, 101, 64, 93, 82, 89, 57, 33, 40, 46, 91, 41, 56, 74, 33, 42, 98, 8, 11, 35, 31, 43, 53, 41, 97, 20, 3, 91, 80, 54, 3, 19, 99, 91, 49, 51, 29, 25, 52, 40, 43, 54, 39, 81, 16, 66, 61, 49, 100]\n",
      "[56, 43, 74, 3, 99, 52, 70, 99, 28, 31, 58, 80, 91, 52, 86, 100, 8, 18, 4, 7, 69, 34, 14, 15, 65, 36, 91, 55, 90, 72, 14, 67, 53, 35, 2, 79, 31, 20, 16, 56, 83, 18, 35, 10, 10, 73, 53, 14, 77, 33, 3, 38, 65, 92, 85, 94, 39, 35, 55, 74, 42, 75, 36, 51, 99, 25, 32, 79, 12, 52, 68, 38, 51, 11, 68, 39, 6, 10, 8, 30, 54, 60, 91, 58, 94, 88, 74, 93, 99, 9, 58, 84, 55, 90, 9, 11, 99, 76, 3, 99, 2, 44, 14, 39, 13, 45, 71, 31, 55, 5, 26, 5, 69, 25, 10, 46, 51, 88, 13, 73, 91, 79, 90, 90, 57, 39, 99, 83, 49, 95, 92, 22, 64, 54, 39, 29, 26, 86, 101, 67, 45, 41, 19, 52, 25, 88, 25, 54, 45]\n"
     ]
    }
   ],
   "source": [
    "import random\n",
    "a=[]\n",
    "b=[]\n",
    "for i in range(1,150):\n",
    "    x=random.randint(1,101)\n",
    "    y=random.randint(1,101)\n",
    "    a.append(x)\n",
    "    b.append(y)\n",
    "    \n",
    "print(a)\n",
    "print(b)"
   ]
  },
  {
   "cell_type": "code",
   "execution_count": 18,
   "metadata": {},
   "outputs": [
    {
     "name": "stdout",
     "output_type": "stream",
     "text": [
      "[4, 27, 24, 70, 100, 83, 75, 87, 60, 51, 80, 5, 94, 42, 87, 72, 88, 4, 59, 91, 77, 10, 101, 9, 32, 75, 78, 87, 10, 64, 5, 21, 1, 90, 53, 69, 58, 72, 86, 86, 92, 75, 33, 83, 85, 80, 81, 13, 27, 68, 0, 70, 10, 96, 87, 54, 64, 100, 2, 3, 70, 85, 44, 42, 39, 54, 55, 2, 92, 11, 27, 34, 22, 60, 62, 87, 88, 18, 5, 6, 59, 13, 73, 7, 71, 63, 48, 40, 89, 83, 13, 86, 66, 29, 36, 51, 100, 70, 98, 61, 21, 101, 64, 93, 82, 89, 57, 33, 40, 46, 91, 41, 56, 74, 33, 42, 98, 8, 11, 35, 31, 43, 53, 41, 97, 20, 3, 91, 80, 54, 3, 19, 99, 91, 49, 51, 29, 25, 52, 40, 43, 54, 39, 81, 16, 66, 61, 49, 100]\n",
      "[56, 43, 74, 3, 99, 52, 70, 99, 28, 31, 58, 80, 91, 52, 86, 100, 8, 18, 4, 7, 69, 34, 14, 15, 65, 36, 91, 55, 90, 72, 14, 67, 53, 35, 2, 79, 31, 20, 16, 56, 83, 18, 35, 10, 10, 73, 53, 14, 77, 33, 3, 38, 65, 92, 85, 94, 39, 35, 55, 74, 42, 75, 36, 51, 99, 25, 32, 79, 12, 52, 68, 38, 51, 11, 68, 0, 6, 10, 8, 30, 54, 60, 91, 58, 94, 88, 74, 93, 99, 9, 58, 84, 55, 90, 9, 11, 99, 76, 3, 99, 2, 44, 14, 39, 13, 45, 71, 31, 55, 5, 26, 5, 69, 25, 10, 46, 51, 88, 13, 73, 91, 79, 90, 90, 57, 39, 99, 83, 49, 95, 92, 22, 64, 54, 39, 29, 26, 86, 101, 67, 45, 41, 19, 52, 25, 88, 25, 54, 45]\n"
     ]
    }
   ],
   "source": [
    "a[50] = 0\n",
    "b[75] = 0\n",
    "print(a)\n",
    "print(b)"
   ]
  },
  {
   "cell_type": "code",
   "execution_count": 20,
   "metadata": {},
   "outputs": [
    {
     "name": "stdout",
     "output_type": "stream",
     "text": [
      "[True, True, True, True, True, True, True, True, True, True, True, True, True, True, True, True, True, True, True, True, True, True, True, True, True, True, True, True, True, True, True, True, True, True, True, True, True, True, True, True, True, True, True, True, True, True, True, True, True, True, True, True, True, True, True, True, True, True, True, True, True, True, True, True, True, True, True, True, True, True, True, True, True, True, True, False, True, True, True, True, True, True, True, True, True, True, True, True, True, True, True, True, True, True, True, True, True, True, True, True]\n",
      "[0.07142857142857142, 0.627906976744186, 0.32432432432432434, 23.333333333333332, 1.0101010101010102, 1.5961538461538463, 1.0714285714285714, 0.8787878787878788, 2.142857142857143, 1.6451612903225807, 1.3793103448275863, 0.0625, 1.032967032967033, 0.8076923076923077, 1.0116279069767442, 0.72, 11.0, 0.2222222222222222, 14.75, 13.0, 1.1159420289855073, 0.29411764705882354, 7.214285714285714, 0.6, 0.49230769230769234, 2.0833333333333335, 0.8571428571428571, 1.5818181818181818, 0.1111111111111111, 0.8888888888888888, 0.35714285714285715, 0.31343283582089554, 0.018867924528301886, 2.5714285714285716, 26.5, 0.8734177215189873, 1.8709677419354838, 3.6, 5.375, 1.5357142857142858, 1.108433734939759, 4.166666666666667, 0.9428571428571428, 8.3, 8.5, 1.095890410958904, 1.528301886792453, 0.9285714285714286, 0.35064935064935066, 2.0606060606060606, 0.0, 1.8421052631578947, 0.15384615384615385, 1.0434782608695652, 1.0235294117647058, 0.574468085106383, 1.641025641025641, 2.857142857142857, 0.03636363636363636, 0.04054054054054054, 1.6666666666666667, 1.1333333333333333, 1.2222222222222223, 0.8235294117647058, 0.3939393939393939, 2.16, 1.71875, 0.02531645569620253, 7.666666666666667, 0.21153846153846154, 0.39705882352941174, 0.8947368421052632, 0.43137254901960786, 5.454545454545454, 0.9117647058823529, None, 14.666666666666666, 1.8, 0.625, 0.2, 1.0925925925925926, 0.21666666666666667, 0.8021978021978022, 0.1206896551724138, 0.7553191489361702, 0.7159090909090909, 0.6486486486486487, 0.43010752688172044, 0.898989898989899, 9.222222222222221, 0.22413793103448276, 1.0238095238095237, 1.2, 0.32222222222222224, 4.0, 4.636363636363637, 1.0101010101010102, 0.9210526315789473, 32.666666666666664, 0.6161616161616161]\n"
     ]
    }
   ],
   "source": [
    "#기존 전처리를 통해 확인해보지 않으면 실수 할 수 있는 예시\n",
    "def careful_divide(a, b):\n",
    "    try:\n",
    "        return True, a / b\n",
    "    except ZeroDivisionError:\n",
    "        return False, None\n",
    "    \n",
    "success_list=[]\n",
    "result_list=[]\n",
    "\n",
    "for i in range(100):\n",
    "    success, result = careful_divide(a[i], b[i])\n",
    "    success_list.append(success)\n",
    "    result_list.append(result)\n",
    "\n",
    "print(success_list)\n",
    "print(result_list)"
   ]
  },
  {
   "cell_type": "code",
   "execution_count": 21,
   "metadata": {
    "scrolled": true
   },
   "outputs": [
    {
     "name": "stdout",
     "output_type": "stream",
     "text": [
      "0\n",
      "1\n",
      "2\n",
      "3\n",
      "4\n",
      "5\n",
      "6\n",
      "7\n",
      "8\n",
      "9\n",
      "10\n",
      "11\n",
      "12\n",
      "13\n",
      "14\n",
      "15\n",
      "16\n",
      "17\n",
      "18\n",
      "19\n",
      "20\n",
      "21\n",
      "22\n",
      "23\n",
      "24\n",
      "25\n",
      "26\n",
      "27\n",
      "28\n",
      "29\n",
      "30\n",
      "31\n",
      "32\n",
      "33\n",
      "34\n",
      "35\n",
      "36\n",
      "37\n",
      "38\n",
      "39\n",
      "40\n",
      "41\n",
      "42\n",
      "43\n",
      "44\n",
      "45\n",
      "46\n",
      "47\n",
      "48\n",
      "49\n",
      "50\n",
      "51\n",
      "52\n",
      "53\n",
      "54\n",
      "55\n",
      "56\n",
      "57\n",
      "58\n",
      "59\n",
      "60\n",
      "61\n",
      "62\n",
      "63\n",
      "64\n",
      "65\n",
      "66\n",
      "67\n",
      "68\n",
      "69\n",
      "70\n",
      "71\n",
      "72\n",
      "73\n",
      "74\n",
      "75\n"
     ]
    },
    {
     "ename": "ValueError",
     "evalue": "잘못된 입력",
     "output_type": "error",
     "traceback": [
      "\u001b[1;31m---------------------------------------------------------------------------\u001b[0m",
      "\u001b[1;31mZeroDivisionError\u001b[0m                         Traceback (most recent call last)",
      "\u001b[1;32m<ipython-input-21-c521096cb78d>\u001b[0m in \u001b[0;36mcareful_divide\u001b[1;34m(a, b)\u001b[0m\n\u001b[0;32m      8\u001b[0m     \u001b[1;32mtry\u001b[0m\u001b[1;33m:\u001b[0m\u001b[1;33m\u001b[0m\u001b[1;33m\u001b[0m\u001b[0m\n\u001b[1;32m----> 9\u001b[1;33m         \u001b[1;32mreturn\u001b[0m \u001b[0ma\u001b[0m \u001b[1;33m/\u001b[0m \u001b[0mb\u001b[0m\u001b[1;33m\u001b[0m\u001b[1;33m\u001b[0m\u001b[0m\n\u001b[0m\u001b[0;32m     10\u001b[0m     \u001b[1;32mexcept\u001b[0m \u001b[0mZeroDivisionError\u001b[0m \u001b[1;32mas\u001b[0m \u001b[0me\u001b[0m\u001b[1;33m:\u001b[0m\u001b[1;33m\u001b[0m\u001b[1;33m\u001b[0m\u001b[0m\n",
      "\u001b[1;31mZeroDivisionError\u001b[0m: division by zero",
      "\nDuring handling of the above exception, another exception occurred:\n",
      "\u001b[1;31mValueError\u001b[0m                                Traceback (most recent call last)",
      "\u001b[1;32m<ipython-input-21-c521096cb78d>\u001b[0m in \u001b[0;36m<module>\u001b[1;34m\u001b[0m\n\u001b[0;32m     15\u001b[0m \u001b[1;32mfor\u001b[0m \u001b[0mi\u001b[0m \u001b[1;32min\u001b[0m \u001b[0mrange\u001b[0m\u001b[1;33m(\u001b[0m\u001b[1;36m100\u001b[0m\u001b[1;33m)\u001b[0m\u001b[1;33m:\u001b[0m\u001b[1;33m\u001b[0m\u001b[1;33m\u001b[0m\u001b[0m\n\u001b[0;32m     16\u001b[0m     \u001b[0mprint\u001b[0m\u001b[1;33m(\u001b[0m\u001b[0mi\u001b[0m\u001b[1;33m)\u001b[0m\u001b[1;33m\u001b[0m\u001b[1;33m\u001b[0m\u001b[0m\n\u001b[1;32m---> 17\u001b[1;33m     \u001b[0mresult\u001b[0m \u001b[1;33m=\u001b[0m \u001b[0mcareful_divide\u001b[0m\u001b[1;33m(\u001b[0m\u001b[0ma\u001b[0m\u001b[1;33m[\u001b[0m\u001b[0mi\u001b[0m\u001b[1;33m]\u001b[0m\u001b[1;33m,\u001b[0m\u001b[0mb\u001b[0m\u001b[1;33m[\u001b[0m\u001b[0mi\u001b[0m\u001b[1;33m]\u001b[0m\u001b[1;33m)\u001b[0m\u001b[1;33m\u001b[0m\u001b[1;33m\u001b[0m\u001b[0m\n\u001b[0m\u001b[0;32m     18\u001b[0m     \u001b[0mresult_list\u001b[0m\u001b[1;33m.\u001b[0m\u001b[0mappend\u001b[0m\u001b[1;33m(\u001b[0m\u001b[0mresult\u001b[0m\u001b[1;33m)\u001b[0m\u001b[1;33m\u001b[0m\u001b[1;33m\u001b[0m\u001b[0m\n\u001b[0;32m     19\u001b[0m \u001b[1;33m\u001b[0m\u001b[0m\n",
      "\u001b[1;32m<ipython-input-21-c521096cb78d>\u001b[0m in \u001b[0;36mcareful_divide\u001b[1;34m(a, b)\u001b[0m\n\u001b[0;32m      9\u001b[0m         \u001b[1;32mreturn\u001b[0m \u001b[0ma\u001b[0m \u001b[1;33m/\u001b[0m \u001b[0mb\u001b[0m\u001b[1;33m\u001b[0m\u001b[1;33m\u001b[0m\u001b[0m\n\u001b[0;32m     10\u001b[0m     \u001b[1;32mexcept\u001b[0m \u001b[0mZeroDivisionError\u001b[0m \u001b[1;32mas\u001b[0m \u001b[0me\u001b[0m\u001b[1;33m:\u001b[0m\u001b[1;33m\u001b[0m\u001b[1;33m\u001b[0m\u001b[0m\n\u001b[1;32m---> 11\u001b[1;33m         \u001b[1;32mraise\u001b[0m \u001b[0mValueError\u001b[0m\u001b[1;33m(\u001b[0m\u001b[1;34m'잘못된 입력'\u001b[0m\u001b[1;33m)\u001b[0m\u001b[1;33m\u001b[0m\u001b[1;33m\u001b[0m\u001b[0m\n\u001b[0m\u001b[0;32m     12\u001b[0m \u001b[1;33m\u001b[0m\u001b[0m\n\u001b[0;32m     13\u001b[0m \u001b[0mresult_list\u001b[0m\u001b[1;33m=\u001b[0m\u001b[1;33m[\u001b[0m\u001b[1;33m]\u001b[0m\u001b[1;33m\u001b[0m\u001b[1;33m\u001b[0m\u001b[0m\n",
      "\u001b[1;31mValueError\u001b[0m: 잘못된 입력"
     ]
    }
   ],
   "source": [
    "# 개선된 방법의 예시\n",
    "def careful_divide(a: float, b: float) -> float: #타입이 지정된 모습.\n",
    "    #독스트링 (어떤 작용이 있을지 설명해줌)\n",
    "    \"\"\"a를 b로 나눈다.\n",
    "    Raises:\n",
    "        ValueError: b가 0이어서 나눗셈을 할 수 없을 때\n",
    "    \"\"\"\n",
    "    try:\n",
    "        return a / b\n",
    "    except ZeroDivisionError as e:\n",
    "        raise ValueError('잘못된 입력')\n",
    "\n",
    "result_list=[]\n",
    "\n",
    "for i in range(100):\n",
    "    print(i)\n",
    "    result = careful_divide(a[i],b[i])    \n",
    "    result_list.append(result)\n",
    "\n",
    "\n",
    "print(result_list)\n",
    "        "
   ]
  },
  {
   "cell_type": "code",
   "execution_count": null,
   "metadata": {},
   "outputs": [],
   "source": []
  }
 ],
 "metadata": {
  "kernelspec": {
   "display_name": "Python 3",
   "language": "python",
   "name": "python3"
  },
  "language_info": {
   "codemirror_mode": {
    "name": "ipython",
    "version": 3
   },
   "file_extension": ".py",
   "mimetype": "text/x-python",
   "name": "python",
   "nbconvert_exporter": "python",
   "pygments_lexer": "ipython3",
   "version": "3.8.5"
  }
 },
 "nbformat": 4,
 "nbformat_minor": 2
}
