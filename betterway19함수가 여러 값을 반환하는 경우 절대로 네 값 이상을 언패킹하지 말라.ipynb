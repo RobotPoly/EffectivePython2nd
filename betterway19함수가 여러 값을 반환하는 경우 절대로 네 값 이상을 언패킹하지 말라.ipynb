{
 "cells": [
  {
   "cell_type": "markdown",
   "metadata": {},
   "source": [
    "#### 언패킹 구문의 한가지 효과는 함수가 둘 이상의 값을 반환할 수 있다는 것이다.\n",
    "- ex) 악어 개체군에 대한 여러 통계를 계산한다고 하자.\n",
    "- 학어의 몸 길이 정보를 담은 list를 이용해 개체군에서 가장 긴 악어와 가장 짧은 악어의 몸 길이를 계산해야한다."
   ]
  },
  {
   "cell_type": "code",
   "execution_count": 1,
   "metadata": {},
   "outputs": [
    {
     "name": "stdout",
     "output_type": "stream",
     "text": [
      "최소: 60, 최대: 73\n"
     ]
    }
   ],
   "source": [
    "#두 값을 반환하는 것처럼 보이는 함수다.\n",
    "def get_stats(numbers):\n",
    "    minimum = min(numbers)\n",
    "    maximum = max(numbers)\n",
    "    return minimum, maximum\n",
    "\n",
    "lengths = [63, 73, 72, 60, 67, 66, 71, 61, 72, 70]\n",
    "\n",
    "minimum, maximum = get_stats(lengths)  # 반환 값이 두 개\n",
    "\n",
    "print(f'최소: {minimum}, 최대: {maximum}')"
   ]
  },
  {
   "cell_type": "code",
   "execution_count": 1,
   "metadata": {},
   "outputs": [
    {
     "name": "stdout",
     "output_type": "stream",
     "text": [
      " first는 1\n",
      " second는 2\n",
      " first는 1\n",
      " second는 2\n"
     ]
    }
   ],
   "source": [
    "# 더 간단한 튜플 두 변수를 언패킹한 예시\n",
    "first, second = 1, 2\n",
    "assert first == 1\n",
    "assert second == 2\n",
    "\n",
    "print(f' first는 {first}')\n",
    "print(f' second는 {second}')\n",
    "\n",
    "def my_function():\n",
    "    return 1, 2\n",
    "\n",
    "first, second = my_function()\n",
    "assert first == 1\n",
    "assert second == 2\n",
    "\n",
    "print(f' first는 {first}')\n",
    "print(f' second는 {second}')"
   ]
  },
  {
   "cell_type": "markdown",
   "metadata": {},
   "source": [
    "- 별표식을 이용한 여러 값을 반환 받는 예시\n",
    "- ex) 각 악어 개체의 몸 길이가 전체 개체군의 몸 길이 평균에 비해 얼마나 큰지 계산하는 함수가 필요할 때\n",
    "    - 비율로 이뤄진 list를 반환하지만, 별표 식을 사용해 이 list의 중간 부분을 한꺼번에 받으면 평균 몸길이와 비교해 가장 긴 억어와 가장 짧은 악어의 비율을 알 수 있다."
   ]
  },
  {
   "cell_type": "code",
   "execution_count": 4,
   "metadata": {},
   "outputs": [
    {
     "name": "stdout",
     "output_type": "stream",
     "text": [
      "최대 길이: 108%\n",
      "최소 길이:  89%\n"
     ]
    }
   ],
   "source": [
    "# 별표식을 이용하여 평균으로 부터의 비율계산.\n",
    "lengths = [63, 73, 72, 60, 67, 66, 71, 61, 72, 70]\n",
    "\n",
    "def get_avg_ratio(numbers):\n",
    "    average = sum(numbers) / len(numbers)\n",
    "    scaled = [x / average for x in numbers]\n",
    "    scaled.sort(reverse=True)\n",
    "    return scaled\n",
    "\n",
    "longest, *middle, shortest = get_avg_ratio(lengths)\n",
    "print(f'최대 길이: {longest:>4.0%}')\n",
    "print(f'최소 길이: {shortest:>4.0%}')"
   ]
  },
  {
   "cell_type": "markdown",
   "metadata": {},
   "source": [
    "- 프로그램 요구 사항이 몸 길이의 평균, 중앙값, 악어 개체군의 개체 수까지 요구하는 것으로 바뀌었다고 하자.\n",
    "- 위 get_stats를 응용하여 통계를 계산하고 결과를 튜플로 반환해 호출하는 쪽에서 값을 언패킹하게 할 수 있다."
   ]
  },
  {
   "cell_type": "code",
   "execution_count": 5,
   "metadata": {},
   "outputs": [
    {
     "name": "stdout",
     "output_type": "stream",
     "text": [
      "최소 길이: 60, 최대 길이: 73\n",
      "평균: 67.5, 중앙값: 68.5, 개수: 10\n"
     ]
    }
   ],
   "source": [
    "def get_stats(numbers):\n",
    "    minimum = min(numbers)\n",
    "    maximum = max(numbers)\n",
    "    count = len(numbers)\n",
    "    average = sum(numbers) / count\n",
    "    sorted_numbers = sorted(numbers)\n",
    "    middle = count // 2\n",
    "    if count % 2 == 0:\n",
    "        lower = sorted_numbers[middle - 1]\n",
    "        upper = sorted_numbers[middle]\n",
    "        median = (lower + upper) / 2\n",
    "    else:\n",
    "        median = sorted_numbers[middle]\n",
    "\n",
    "    return minimum, maximum, average, median, count\n",
    "\n",
    "minimum, maximum, average, median, count = get_stats(lengths)\n",
    "\n",
    "print(f'최소 길이: {minimum}, 최대 길이: {maximum}')\n",
    "print(f'평균: {average}, 중앙값: {median}, 개수: {count}')\n",
    "\n"
   ]
  },
  {
   "cell_type": "code",
   "execution_count": 9,
   "metadata": {},
   "outputs": [
    {
     "name": "stdout",
     "output_type": "stream",
     "text": [
      "최소 길이: 60, 최대 길이: 73\n",
      "평균: 67.5, 중앙값: 68.5, 개수: 10\n",
      "최소 길이: 60, 최대 길이: 73\n",
      "평균: 68.5, 중앙값: 67.5, 개수: 10\n"
     ]
    }
   ],
   "source": [
    "# 위 코딩의 문제점은 \n",
    "# 1. 모든 변환 값이 수이기 때문에 순서를 혼동하기 쉽다.\n",
    "# 이런 실수는 나중에 알아내기 어려운 버그를 만든다.\n",
    "\n",
    "#아래는 실수 했을 때 예시\n",
    "\n",
    "minimum, maximum, average, median, count = get_stats(\n",
    "    lengths)\n",
    "print(f'최소 길이: {minimum}, 최대 길이: {maximum}')\n",
    "print(f'평균: {average}, 중앙값: {median}, 개수: {count}')\n",
    "\n",
    "#평균과 중앙값이 바꼈다.\n",
    "minimum, maximum, median,average, count = get_stats(lengths)\n",
    "print(f'최소 길이: {minimum}, 최대 길이: {maximum}')\n",
    "print(f'평균: {average}, 중앙값: {median}, 개수: {count}')"
   ]
  },
  {
   "cell_type": "code",
   "execution_count": 10,
   "metadata": {},
   "outputs": [],
   "source": [
    "# 두번째는 함수를 호출하는 부분과 반환 값을 언패킹하는 부분이 길고, 여러 방법으로 줄을 바꿀수 있어 가독성이 떨어진다.\n",
    "\n",
    "(minimum, maximum, average,\n",
    " median, count) = get_stats(lengths)\n",
    "\n",
    "(minimum, maximum, average, median, count\n",
    "    ) = get_stats(lengths)"
   ]
  },
  {
   "cell_type": "markdown",
   "metadata": {},
   "source": [
    "- 이런 문제를 피하려면 언패킹할 때 4개 이상 사용하면 안된다.\n",
    "- 이보다 많은 언패킹 상황이라면 경량 클래스(lightweight class)나 namedtuple을 사용하는 것이 낫다."
   ]
  },
  {
   "cell_type": "code",
   "execution_count": null,
   "metadata": {},
   "outputs": [],
   "source": []
  }
 ],
 "metadata": {
  "kernelspec": {
   "display_name": "Python 3",
   "language": "python",
   "name": "python3"
  },
  "language_info": {
   "codemirror_mode": {
    "name": "ipython",
    "version": 3
   },
   "file_extension": ".py",
   "mimetype": "text/x-python",
   "name": "python",
   "nbconvert_exporter": "python",
   "pygments_lexer": "ipython3",
   "version": "3.8.5"
  }
 },
 "nbformat": 4,
 "nbformat_minor": 2
}
