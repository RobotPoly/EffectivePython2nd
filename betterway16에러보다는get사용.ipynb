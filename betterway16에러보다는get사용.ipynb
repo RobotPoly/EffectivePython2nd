{
 "cells": [
  {
   "cell_type": "markdown",
   "metadata": {},
   "source": [
    "### in을 사용하고 딕셔너리 키가 없을 때 KeyError를 처리하기보다는 get을 사용하라"
   ]
  },
  {
   "cell_type": "markdown",
   "metadata": {},
   "source": [
    "- 딕셔너리 상호작용 세가지\n",
    "    - 접근, 대입, 삭제\n",
    "- 딕셔너리는 동적으로 어떤 키에 접근하거나 키를 삭제할 때 그 키가 딕셔너리에 없을 수도 있음"
   ]
  },
  {
   "cell_type": "code",
   "execution_count": 9,
   "metadata": {},
   "outputs": [],
   "source": [
    "# ex) 샌드위치 가게에서 고객들이 가장 좋아하는 빵을 찾아 메뉴를 결정하고 싶다.\n",
    "# 각사람이 얼마나 투표했는지 저장한 딕셔너리를 정의\n",
    "counters = {\n",
    "    '품퍼니켈': 2,\n",
    "    '사워도우': 1,\n",
    "}"
   ]
  },
  {
   "cell_type": "markdown",
   "metadata": {},
   "source": [
    "- 투표가 있을 때 카운터를 증가시키는 함수\n",
    "- 키가 없으면 새로운 값을 디폴트0으로 넣고 한번의 투표가 있기 때문에 +1을 해준다."
   ]
  },
  {
   "cell_type": "code",
   "execution_count": 10,
   "metadata": {},
   "outputs": [
    {
     "name": "stdout",
     "output_type": "stream",
     "text": [
      "False\n",
      "1\n",
      "{'품퍼니켈': 2, '사워도우': 1, '밀': 1}\n"
     ]
    }
   ],
   "source": [
    "# if문을 사용한 예시\n",
    "key = '밀'\n",
    "print(key in counters)\n",
    "if key in counters:\n",
    "    count = counters[key]\n",
    "else:\n",
    "    count = 0\n",
    "\n",
    "counters[key] = count + 1\n",
    "print(counters[key])\n",
    "print(counters) "
   ]
  },
  {
   "cell_type": "code",
   "execution_count": 13,
   "metadata": {},
   "outputs": [
    {
     "name": "stdout",
     "output_type": "stream",
     "text": [
      "False\n",
      "1\n",
      "{'품퍼니켈': 2, '사워도우': 1, '밀': 1}\n"
     ]
    }
   ],
   "source": [
    "#try를 사용한 예시\n",
    "counters = {\n",
    "    '품퍼니켈': 2,\n",
    "    '사워도우': 1,\n",
    "}\n",
    "key = '밀'\n",
    "print(key in counters)\n",
    "try:\n",
    "    count = counters[key]\n",
    "except KeyError:\n",
    "    count = 0\n",
    "\n",
    "counters[key] = count + 1\n",
    "\n",
    "print(counters[key])\n",
    "print(counters) "
   ]
  },
  {
   "cell_type": "code",
   "execution_count": 14,
   "metadata": {},
   "outputs": [
    {
     "name": "stdout",
     "output_type": "stream",
     "text": [
      "2\n",
      "{'품퍼니켈': 2, '사워도우': 1, '밀': 2}\n"
     ]
    }
   ],
   "source": [
    "# get인자를 통해 호출했을 때 없는 경우 0이라는 값을 호출\n",
    "count = counters.get(key, 0) #두번째 인자가 없을때 어떤값을 호출할지 설정함.\n",
    "counters[key] = count + 1\n",
    "print(counters[key])\n",
    "print(counters) "
   ]
  },
  {
   "cell_type": "code",
   "execution_count": 15,
   "metadata": {},
   "outputs": [
    {
     "name": "stdout",
     "output_type": "stream",
     "text": [
      "5\n",
      "{'품퍼니켈': 2, '사워도우': 1, '밀': 5}\n"
     ]
    }
   ],
   "source": [
    "# in과 error를 사용했을 경우 더 짧지만 가독성은 떨어진다.\n",
    "\n",
    "if key not in counters:\n",
    "    counters[key] = 0\n",
    "\n",
    "counters[key] += 1\n",
    "\n",
    "if key in counters:\n",
    "    counters[key] += 1\n",
    "else:\n",
    "    counters[key] = 1\n",
    "\n",
    "try:\n",
    "    counters[key] += 1\n",
    "except KeyError:\n",
    "    counters[key] = 1\n",
    "    \n",
    "print(counters[key])\n",
    "print(counters) "
   ]
  },
  {
   "cell_type": "markdown",
   "metadata": {},
   "source": [
    "##### 결과적으로 get함수를 사용하는 것이 가장 코드가 짧고 깔끔하다.\n",
    "--------------------------------------"
   ]
  },
  {
   "cell_type": "markdown",
   "metadata": {},
   "source": [
    "##### 딕셔너리에 저장된 값이 리스트인 경우"
   ]
  },
  {
   "cell_type": "markdown",
   "metadata": {},
   "source": [
    "- 어떤 사람이 어떤 유형의 빵에 투표했는지 알고 싶을 경우\n",
    "- 위 경우는 각 키마다 이름 리스트를 연관시킬 수 있다."
   ]
  },
  {
   "cell_type": "code",
   "execution_count": 2,
   "metadata": {},
   "outputs": [
    {
     "name": "stdout",
     "output_type": "stream",
     "text": [
      "{'바게트': ['철수', '순이'], '치아바타': ['하니', '유리']}\n"
     ]
    }
   ],
   "source": [
    "votes = {\n",
    "    '바게트': ['철수', '순이'],\n",
    "    '치아바타': ['하니', '유리'],\n",
    "}\n",
    "print(votes)"
   ]
  },
  {
   "cell_type": "code",
   "execution_count": 3,
   "metadata": {},
   "outputs": [
    {
     "name": "stdout",
     "output_type": "stream",
     "text": [
      "{'바게트': ['철수', '순이'], '치아바타': ['하니', '유리'], '브리오슈': ['단이']}\n"
     ]
    }
   ],
   "source": [
    "key = '브리오슈'\n",
    "who = '단이'\n",
    "\n",
    "if key in votes:\n",
    "    names = votes[key]\n",
    "else:\n",
    "    votes[key] = names=[]  #name을 리스트로 저장[] 처음에 폴더를 생성할 필요없이 한줄로 사용가능\n",
    "\n",
    "names.append(who)\n",
    "print(votes)"
   ]
  },
  {
   "cell_type": "code",
   "execution_count": 4,
   "metadata": {},
   "outputs": [
    {
     "name": "stdout",
     "output_type": "stream",
     "text": [
      "{'바게트': ['철수', '순이'], '치아바타': ['하니', '유리'], '브리오슈': ['단이', '단이']}\n"
     ]
    }
   ],
   "source": [
    "# keyerror예외가 발생한다는 사실에 의존한 함수\n",
    "# in 보다는 효율적이다.\n",
    "\n",
    "try:\n",
    "    names = votes[key]\n",
    "except KeyError:\n",
    "    votes[key] = names = []\n",
    "\n",
    "names.append(who)\n",
    "print(votes)"
   ]
  },
  {
   "cell_type": "code",
   "execution_count": 5,
   "metadata": {},
   "outputs": [
    {
     "name": "stdout",
     "output_type": "stream",
     "text": [
      "{'바게트': ['철수', '순이'], '치아바타': ['하니', '유리'], '브리오슈': ['단이', '단이', '단이']}\n"
     ]
    }
   ],
   "source": [
    "#get함수를 사용하면 보다 간단해진다.\n",
    "\n",
    "names = votes.get(key)\n",
    "if names is None:\n",
    "    votes[key] = names = []\n",
    "\n",
    "names.append(who)\n",
    "print(votes)"
   ]
  },
  {
   "cell_type": "code",
   "execution_count": 6,
   "metadata": {},
   "outputs": [
    {
     "name": "stdout",
     "output_type": "stream",
     "text": [
      "{'바게트': ['철수', '순이'], '치아바타': ['하니', '유리'], '브리오슈': ['단이', '단이', '단이', '단이']}\n"
     ]
    }
   ],
   "source": [
    "# betterway10에서 배운 월러스를 이용하면 더 간단해진다.\n",
    "\n",
    "if (names := votes.get(key)) is None:\n",
    "    votes[key] = names = []\n",
    "\n",
    "names.append(who)\n",
    "print(votes)"
   ]
  },
  {
   "cell_type": "code",
   "execution_count": 8,
   "metadata": {},
   "outputs": [
    {
     "data": {
      "text/plain": [
       "['철수', '순이']"
      ]
     },
     "execution_count": 8,
     "metadata": {},
     "output_type": "execute_result"
    }
   ],
   "source": [
    "votes.get('바게트',0)"
   ]
  },
  {
   "cell_type": "markdown",
   "metadata": {},
   "source": [
    "#### dict은 setdefault메서드를 제공\n",
    "- setdefault는 딕셔너리 키를 사용해 값을 가져오려고 시도\n",
    "- setdefault는 키가 없으면 제공받은 디폴트 값을 키에 연관시켜 딕셔너리에 대입한 다음 키에 연관된 값을 반환\n"
   ]
  },
  {
   "cell_type": "code",
   "execution_count": 10,
   "metadata": {},
   "outputs": [
    {
     "name": "stdout",
     "output_type": "stream",
     "text": [
      "{'바게트': ['철수', '순이'], '치아바타': ['하니', '유리'], '브리오슈': ['단이', '단이', '단이', '단이', '단이', '단이']}\n"
     ]
    }
   ],
   "source": [
    "names = votes.setdefault(key, [])\n",
    "names.append(who)\n",
    "print(votes)"
   ]
  },
  {
   "cell_type": "markdown",
   "metadata": {},
   "source": [
    "- setdefault는 get보다 효율적이지만 가독성이 좋지 못하다.\n",
    "        - 함수 이름으로 자신의 역할을 설명하기 부족하기 때문\n",
    "- setdefault의 함정 : 키가 없으면 함수에 전달된 디폴드 값이 따로 복사되지 않고 딕셔너리에 직접 대입.\n",
    "        - 호출할 때마다 리스트를 만들어야 하는 번거로움\n",
    "        - 가독성과 효율성을 향상시키고자 디폴트 값에 사용하는 객체를 재활용한다면 이상한 동작을 하고 버그 발생"
   ]
  },
  {
   "cell_type": "code",
   "execution_count": 11,
   "metadata": {},
   "outputs": [
    {
     "name": "stdout",
     "output_type": "stream",
     "text": [
      "이전: {'foo': []}\n",
      "이후:  {'foo': ['hello']}\n"
     ]
    }
   ],
   "source": [
    "# setdefault의 함정 예시\n",
    "# 따로 키를 설정하지 않아도 빈 값에 대입이 된다.\n",
    "data = {}\n",
    "key = 'foo'\n",
    "value = []\n",
    "data.setdefault(key, value)\n",
    "print('이전:', data)\n",
    "value.append('hello')\n",
    "print('이후: ', data)"
   ]
  },
  {
   "cell_type": "markdown",
   "metadata": {},
   "source": [
    "- 최초 예제에 setdefault를 사용하지 않은 이유\n",
    "        - 카운터를 증가 시키면 항상 딕셔너리에 저장해야한다. 그렇기때문에 디폴트값의 대입은 불필요\n",
    "- setdefault를 사용하는 것이 딕셔너리 키를 처리하는 지름길인 경우는 드물다\n",
    "        - ex) 디폴트 값을 만들어내기 쉽거나, 디폴트 값이 변경 가능한 값이거나, 리스트 인스턴스 처럼 값을 만들어 낼 때 예외가 발생할 가능성이 없는 경우 setdefault를 사용할 수 있다.\n",
    "- 위 상황에서도 실제로는 defaultdict를 사용하는 것으로 충분할 수 있다. (betterway17에 나옴..)"
   ]
  },
  {
   "cell_type": "code",
   "execution_count": null,
   "metadata": {},
   "outputs": [],
   "source": []
  }
 ],
 "metadata": {
  "kernelspec": {
   "display_name": "Python 3",
   "language": "python",
   "name": "python3"
  },
  "language_info": {
   "codemirror_mode": {
    "name": "ipython",
    "version": 3
   },
   "file_extension": ".py",
   "mimetype": "text/x-python",
   "name": "python",
   "nbconvert_exporter": "python",
   "pygments_lexer": "ipython3",
   "version": "3.8.5"
  }
 },
 "nbformat": 4,
 "nbformat_minor": 4
}
