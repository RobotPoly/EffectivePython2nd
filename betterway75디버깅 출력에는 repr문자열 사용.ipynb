{
 "cells": [
  {
   "cell_type": "markdown",
   "metadata": {},
   "source": [
    "## 디버깅 출력에는 repr 문자열을 사용하라"
   ]
  },
  {
   "cell_type": "markdown",
   "metadata": {},
   "source": [
    "###### 디버깅\n",
    "-디버깅은 버그(오류)가 발생한 위치를 파악해서 분석한 후 올바르게 고치는 과정"
   ]
  },
  {
   "cell_type": "markdown",
   "metadata": {},
   "source": [
    "- 파이썬 프로그램을 디버깅할 때 print 함수와 형식화 문자열을 사용하거나 logging 내장 모듈을 사용해 출력을 만들면 아주 긴 출력이 생긴다.\n",
    "- 우리에게 필요한 작업은 프로그램이 실행되는 동안 print를 호출해 상태가 어떻게 바뀌었는지 알아내고 무엇이 잘못됐는지 이해하는 것이다."
   ]
  },
  {
   "cell_type": "markdown",
   "metadata": {},
   "source": [
    "###### print함수는 인자로 받은 대상을 사람이 읽을 수 있는 문자열로 표시한다.\n",
    "- 예를 들어 기본 문자열을 출력하면 주변에 따옴표를 표시하지 않고 내용을 출력"
   ]
  },
  {
   "cell_type": "code",
   "execution_count": 1,
   "metadata": {},
   "outputs": [
    {
     "name": "stdout",
     "output_type": "stream",
     "text": [
      "foo 뭐시기\n"
     ]
    }
   ],
   "source": [
    "print('foo 뭐시기')"
   ]
  },
  {
   "cell_type": "markdown",
   "metadata": {},
   "source": [
    "여러 가지 다른 방법을 사용해도 동일하다."
   ]
  },
  {
   "cell_type": "code",
   "execution_count": 2,
   "metadata": {},
   "outputs": [
    {
     "name": "stdout",
     "output_type": "stream",
     "text": [
      "foo 뭐시기\n",
      "foo 뭐시기\n",
      "foo 뭐시기\n",
      "foo 뭐시기\n",
      "foo 뭐시기\n",
      "foo 뭐시기\n"
     ]
    }
   ],
   "source": [
    "my_value = 'foo 뭐시기'\n",
    "print(str(my_value))\n",
    "print('%s' % my_value)\n",
    "print(f'{my_value}')\n",
    "print(format(my_value))\n",
    "print(my_value.__format__('s'))\n",
    "print(my_value.__str__())"
   ]
  },
  {
   "cell_type": "markdown",
   "metadata": {},
   "source": [
    "###### 문제는 어떤 값을 사람이 읽을 수 있는 형식의 문자열로 바꿔도 이 값의 실제타입과 구체적인 구성을 명확히 알기 어렵다는 점이다.\n",
    "- 예를 들어 print의 기본 출력을 사용하면 5라는 수와 '5'라는 문자열 타입 구분이 어렵다."
   ]
  },
  {
   "cell_type": "code",
   "execution_count": 3,
   "metadata": {},
   "outputs": [
    {
     "name": "stdout",
     "output_type": "stream",
     "text": [
      "5\n",
      "5\n",
      "5 == 5 ?\n"
     ]
    }
   ],
   "source": [
    "print(5)\n",
    "print('5')\n",
    "\n",
    "int_value = 5\n",
    "str_value = '5'\n",
    "print(f'{int_value} == {str_value} ?')"
   ]
  },
  {
   "cell_type": "markdown",
   "metadata": {},
   "source": [
    "디버깅 과정에서 print를 사용하면 이런 타입의 차이가 문제가 된다.\n",
    "- 디버깅을 할 때 원하는 문자열은 거의 대부분 객체를 repr로 나타낸 버전이다.\n",
    "- repr 내장 함수는 객체의 **출력가능한 표현**을 반환하는데, 출력 가능한 표현은 반드시 객체를 가장 명확하게 이해할 수 있는 문자열 표현이어야 한다."
   ]
  },
  {
   "cell_type": "code",
   "execution_count": 5,
   "metadata": {},
   "outputs": [
    {
     "name": "stdout",
     "output_type": "stream",
     "text": [
      "'\\x07'\n"
     ]
    }
   ],
   "source": [
    "a = '\\x07'\n",
    "print(repr(a))"
   ]
  },
  {
   "cell_type": "code",
   "execution_count": 6,
   "metadata": {},
   "outputs": [
    {
     "name": "stdout",
     "output_type": "stream",
     "text": [
      "\u0007\n"
     ]
    }
   ],
   "source": [
    "print(a)"
   ]
  },
  {
   "cell_type": "markdown",
   "metadata": {},
   "source": [
    "repr이 돌려준 값을 eval 내장 함수에 넘기면 repr에 넘겼던 객체와 같은 객체가 생겨난다."
   ]
  },
  {
   "cell_type": "code",
   "execution_count": 7,
   "metadata": {},
   "outputs": [
    {
     "name": "stdout",
     "output_type": "stream",
     "text": [
      "\u0007\n"
     ]
    }
   ],
   "source": [
    "b = eval(repr(a))\n",
    "print(b)\n",
    "assert a == b"
   ]
  },
  {
   "cell_type": "markdown",
   "metadata": {},
   "source": [
    "print를 사용해 디버깅할 때는 값을 출력하기 전에 repr을 호출해서 타입이 다른 경우에도 명확히 차이를 볼 수 있게 만들어야 한다."
   ]
  },
  {
   "cell_type": "code",
   "execution_count": 8,
   "metadata": {},
   "outputs": [
    {
     "name": "stdout",
     "output_type": "stream",
     "text": [
      "5\n",
      "'5'\n"
     ]
    }
   ],
   "source": [
    "print(repr(5))\n",
    "print(repr('5'))"
   ]
  },
  {
   "cell_type": "markdown",
   "metadata": {},
   "source": [
    "repr을 호출하는 것은 %연산자에 %r 형식화 문자열을 사용하는 것이나 f-문자열에 !r 타입 변환을 사용하는 것과 같다."
   ]
  },
  {
   "cell_type": "code",
   "execution_count": 9,
   "metadata": {},
   "outputs": [
    {
     "name": "stdout",
     "output_type": "stream",
     "text": [
      "5\n",
      "'5'\n",
      "5 != '5'\n"
     ]
    }
   ],
   "source": [
    "print('%r' % 5)\n",
    "print('%r' % '5')\n",
    "\n",
    "int_value = 5\n",
    "str_value = '5'\n",
    "print(f'{int_value!r} != {str_value!r}')"
   ]
  },
  {
   "cell_type": "markdown",
   "metadata": {},
   "source": [
    "예를들어 파이썬 클래스의 경우 사람이 읽을 수 있는 문자열 값은 repr 값과 같다. 이는 인스턴스를 print에 넘기면 원하는 출력이 나오므로 굳이 인스턴스에 대해 repr를 호출할 필요가 없다는 뜻이다.\n",
    "안타깝지만 object를 상속한 하위 클래스의 repr기본구현은 그다지 쓸모가 없다.\n",
    "- 예를 들어 다음 코드는 간단한 클래스를 정의하고 그 클래스의 인스턴스를 출력한다."
   ]
  },
  {
   "cell_type": "code",
   "execution_count": 10,
   "metadata": {},
   "outputs": [
    {
     "name": "stdout",
     "output_type": "stream",
     "text": [
      "<__main__.OpaqueClass object at 0x000001C5A76CAEE0>\n"
     ]
    }
   ],
   "source": [
    "class OpaqueClass:\n",
    "    def __init__(self, x, y):\n",
    "        self.x = x\n",
    "        self.y = y\n",
    "\n",
    "obj = OpaqueClass(1, 'foo')\n",
    "print(obj)\n"
   ]
  },
  {
   "cell_type": "markdown",
   "metadata": {},
   "source": [
    "이 출력은 eval함수에 넘길 수 없고, 객체의 인스턴스 필드에 대한 정보도 전혀 들어 있지 않다.\n",
    "- 문제를 해결할 두가지 방법\n",
    "    - 클래스 소스 코드를 변경할 수 있다면 객체를 다시 만들어내는 파이썬 식을 포험하는 문자열을 돌려 주는 $__repr__$ 특별 메서드를 직접 정의할 수 있다.\n",
    "    - 다음은 앞에서 본 클래스에 대해 $__repr__$ 특별 메서드를 정의한 코드다."
   ]
  },
  {
   "cell_type": "code",
   "execution_count": 11,
   "metadata": {},
   "outputs": [
    {
     "name": "stdout",
     "output_type": "stream",
     "text": [
      "BetterClass(2, '뭐시기')\n"
     ]
    }
   ],
   "source": [
    "class BetterClass:\n",
    "    def __init__(self, x, y):\n",
    "        self.x = x\n",
    "        self.y = y\n",
    "\n",
    "    def __repr__(self):\n",
    "        return f'BetterClass({self.x!r}, {self.y!r})'\n",
    "    \n",
    "obj = BetterClass(2, '뭐시기')\n",
    "print(obj)"
   ]
  },
  {
   "cell_type": "markdown",
   "metadata": {},
   "source": [
    "- 클래스 정의를 마음대로 바꿀 수 없는 경우에는 $__dict__$애트리뷰트를 통해 객체의 인스턴스 딕셔너리에 접근할 수 있다.\n",
    "- 다음 코드는 OpaqueClass 인스턴의 내용을 출력한다."
   ]
  },
  {
   "cell_type": "code",
   "execution_count": 12,
   "metadata": {},
   "outputs": [
    {
     "name": "stdout",
     "output_type": "stream",
     "text": [
      "{'x': 4, 'y': 'baz'}\n"
     ]
    }
   ],
   "source": [
    "obj = OpaqueClass(4, 'baz')\n",
    "print(obj.__dict__)"
   ]
  },
  {
   "cell_type": "code",
   "execution_count": null,
   "metadata": {},
   "outputs": [],
   "source": []
  }
 ],
 "metadata": {
  "kernelspec": {
   "display_name": "Python 3",
   "language": "python",
   "name": "python3"
  },
  "language_info": {
   "codemirror_mode": {
    "name": "ipython",
    "version": 3
   },
   "file_extension": ".py",
   "mimetype": "text/x-python",
   "name": "python",
   "nbconvert_exporter": "python",
   "pygments_lexer": "ipython3",
   "version": "3.8.5"
  }
 },
 "nbformat": 4,
 "nbformat_minor": 4
}
