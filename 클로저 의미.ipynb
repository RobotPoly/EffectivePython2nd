{
 "cells": [
  {
   "cell_type": "markdown",
   "metadata": {},
   "source": [
    "#### 클로저 : 컴퓨터 언어에서 클로저는 일급 객체 함수의 개념을 이용하여 스코프에 묶인 변수를 바인딩 하기 위한 일종의 기술"
   ]
  },
  {
   "cell_type": "markdown",
   "metadata": {},
   "source": [
    "###### 일급 객체는 함수"
   ]
  },
  {
   "cell_type": "code",
   "execution_count": 1,
   "metadata": {},
   "outputs": [
    {
     "data": {
      "text/plain": [
       "'안녕'"
      ]
     },
     "execution_count": 1,
     "metadata": {},
     "output_type": "execute_result"
    }
   ],
   "source": [
    "# ex\n",
    "def callf(func):\n",
    "    return func()\n",
    "\n",
    "def say_hi():\n",
    "    return \"안녕\"\n",
    "\n",
    "callf(say_hi)"
   ]
  },
  {
   "cell_type": "markdown",
   "metadata": {},
   "source": [
    "###### 중첩 함수"
   ]
  },
  {
   "cell_type": "code",
   "execution_count": 3,
   "metadata": {},
   "outputs": [
    {
     "name": "stdout",
     "output_type": "stream",
     "text": [
      "여기 외부 함수 영역입니다.\n",
      "여긴 내부 함수 영역입니다.\n"
     ]
    }
   ],
   "source": [
    "def outer():\n",
    "    print(\"여기 외부 함수 영역입니다.\")\n",
    "    def inner():\n",
    "        print(\"여긴 내부 함수 영역입니다.\")\n",
    "    inner()\n",
    "\n",
    "outer()"
   ]
  },
  {
   "cell_type": "markdown",
   "metadata": {},
   "source": [
    "###### 클로저의 예시"
   ]
  },
  {
   "cell_type": "code",
   "execution_count": 1,
   "metadata": {},
   "outputs": [
    {
     "name": "stdout",
     "output_type": "stream",
     "text": [
      "<function start_at.<locals>.increment_by at 0x000002D091B0F700>\n",
      "closure1:  4\n",
      "closure2:  6\n"
     ]
    }
   ],
   "source": [
    "def start_at(x):\n",
    "    def increment_by(y):\n",
    "        return x+y\n",
    "    return increment_by\n",
    "\n",
    "closure1 = start_at(1)\n",
    "print(closure1)\n",
    "closure2 = start_at(2)\n",
    "print(\"closure1: \", closure1(3))\n",
    "print(\"closure2: \", closure2(4))"
   ]
  },
  {
   "cell_type": "markdown",
   "metadata": {},
   "source": [
    "###### 함수 start_at의 내부 함수인 increment_by를 반환하는 모습을 하고 있음."
   ]
  },
  {
   "cell_type": "markdown",
   "metadata": {},
   "source": [
    "- closure1 = start_at(1)\n",
    "- closure2 = start_at(2)\n",
    "- 위 부분에서 start_at 매개변수 x로 1과 2를 넘겼고 closure1,2에 담긴 상황\n",
    "- 결과 값을 보았을 때 closure에 값을 넣으면 앞에서 설정한 x를 기억하고 결과를 반환.\n",
    "- 이러한 행동을 하는 함수를 클로저 하고 함\n",
    "- 외부 함수의 start_at과 함께 매개변수 x는 사라졌으나 내부 함수에 쓰인 x는 전에 호출한 값이 묶여있다는 것을 알 수 있음."
   ]
  },
  {
   "cell_type": "code",
   "execution_count": null,
   "metadata": {},
   "outputs": [],
   "source": []
  }
 ],
 "metadata": {
  "kernelspec": {
   "display_name": "Python 3",
   "language": "python",
   "name": "python3"
  },
  "language_info": {
   "codemirror_mode": {
    "name": "ipython",
    "version": 3
   },
   "file_extension": ".py",
   "mimetype": "text/x-python",
   "name": "python",
   "nbconvert_exporter": "python",
   "pygments_lexer": "ipython3",
   "version": "3.8.5"
  }
 },
 "nbformat": 4,
 "nbformat_minor": 4
}
