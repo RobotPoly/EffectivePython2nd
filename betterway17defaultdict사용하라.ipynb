{
 "cells": [
  {
   "cell_type": "markdown",
   "metadata": {},
   "source": [
    "### 내부 상태에서 원소가 없는 경우를 처리할 때는 setdefault보다 defaultdict를 사용하라"
   ]
  },
  {
   "cell_type": "markdown",
   "metadata": {},
   "source": [
    "##### get 메서드를 사용하는 방법이 in과 KeyError를 사용하는 방법보다 낫지만, 경우에 따라서 setdefault가 가장 빠른 지름길일 수도 있다."
   ]
  },
  {
   "cell_type": "code",
   "execution_count": 1,
   "metadata": {},
   "outputs": [
    {
     "name": "stdout",
     "output_type": "stream",
     "text": [
      "{'미국': {'뉴욕', '로스엔젤레스'}, '일본': {'하코네', '교토'}, '프랑스': {'칸'}}\n"
     ]
    }
   ],
   "source": [
    "visits = {\n",
    "    '미국': {'뉴욕', '로스엔젤레스'},\n",
    "    '일본': {'하코네'},\n",
    "}\n",
    "\n",
    "#짧은 예시\n",
    "visits.setdefault('프랑스', set()).add('칸') # 짧다\n",
    "\n",
    "#긴 예시\n",
    "if (japan := visits.get('일본')) is None:      # 길다\n",
    "    visits['일본'] = japan = set()\n",
    "\n",
    "japan.add('교토')\n",
    "\n",
    "print(visits)"
   ]
  },
  {
   "cell_type": "markdown",
   "metadata": {},
   "source": [
    "#### 직접 딕셔너리 생성을 제어할 수 있다면 어떨까?\n",
    "- 예를 들어 클래스 내부에서 상태를 유지하기 위해 직셔너리 인스턴스를 사용할 때가 이런 경우이다.\n",
    "- 아래 예시는 앞에서 본 예제를 클래스로 감싸서 딕셔너리에 저장된 동적인 내무 상태에 접근할 수 있는 도우미 메서드를 제공한다."
   ]
  },
  {
   "cell_type": "code",
   "execution_count": 3,
   "metadata": {},
   "outputs": [],
   "source": [
    "class Visits:\n",
    "    def __init__(self):\n",
    "        self.data = {}\n",
    "\n",
    "    def add(self, country, city):\n",
    "        city_set = self.data.setdefault(country, set())\n",
    "        city_set.add(city)\n",
    "#새로만든 이 클래스는 setdefault 호출의 복잡도를 제대로 감춰주며 더 나은 인터페이스를 제공"
   ]
  },
  {
   "cell_type": "code",
   "execution_count": 4,
   "metadata": {},
   "outputs": [
    {
     "name": "stdout",
     "output_type": "stream",
     "text": [
      "{'러시아': {'예카테린부르크'}, '탄자니아': {'잔지바르'}}\n"
     ]
    }
   ],
   "source": [
    "# 위 클래스를 이용하여 간편하게 딕셔너리를 편집하는 예시\n",
    "visits = Visits()\n",
    "visits.add('러시아', '예카테린부르크')\n",
    "visits.add('탄자니아', '잔지바르')\n",
    "print(visits.data)"
   ]
  },
  {
   "cell_type": "markdown",
   "metadata": {},
   "source": [
    "- setdefault라는 메서드 이름은 여전히 헷갈리고 주어진 나라가 data 딕셔너리에 있는 없든 호출 할 때마다 새로 set 인스턴스를 만들기 때문에 효율적이지 않다."
   ]
  },
  {
   "cell_type": "markdown",
   "metadata": {},
   "source": [
    "#### collections 내장 모듈에 있는 defaultdict 클래스는 키가 없을 때 자동으로 디폴트 값을 저장해서 이런 용법을 간단하게 처리가능.\n",
    "- 키가 없을 때 디폴트 값을 만들기 위해 호출할 함수를 제공하기만 하면 가능."
   ]
  },
  {
   "cell_type": "code",
   "execution_count": 6,
   "metadata": {},
   "outputs": [
    {
     "name": "stdout",
     "output_type": "stream",
     "text": [
      "defaultdict(<class 'set'>, {'영국': {'런던', '바스'}})\n"
     ]
    }
   ],
   "source": [
    "# default를 사용하여 Visits클래스를 다시 작성한 것,\n",
    "from collections import defaultdict\n",
    "\n",
    "class Visits:\n",
    "    def __init__(self):\n",
    "        self.data = defaultdict(set)\n",
    "\n",
    "    def add(self, country, city):\n",
    "        self.data[country].add(city)\n",
    "\n",
    "visits = Visits()\n",
    "visits.add('영국', '바스')\n",
    "visits.add('영국', '런던')\n",
    "print(visits.data)"
   ]
  },
  {
   "cell_type": "markdown",
   "metadata": {},
   "source": [
    "- add 코드는 data 딕셔너리에 있는 키에 접근하면 항상 기존 set 인스턴스가 반환된다고 가정한다.\n",
    "- add 메서드가 아주 많이 호출되면 집합 생성에 따른 비용도 커지는데, 이 구현에서 불필요한 set이 만들어지는 경우는 없다."
   ]
  },
  {
   "cell_type": "code",
   "execution_count": 7,
   "metadata": {},
   "outputs": [
    {
     "name": "stdout",
     "output_type": "stream",
     "text": [
      "defaultdict(<class 'set'>, {'영국': {'런던', '바스'}, '미국': {'바보'}})\n"
     ]
    }
   ],
   "source": [
    "\n",
    "visits.add('미국', '바보')\n",
    "\n",
    "print(visits.data)"
   ]
  },
  {
   "cell_type": "code",
   "execution_count": null,
   "metadata": {},
   "outputs": [],
   "source": []
  }
 ],
 "metadata": {
  "kernelspec": {
   "display_name": "Python 3",
   "language": "python",
   "name": "python3"
  },
  "language_info": {
   "codemirror_mode": {
    "name": "ipython",
    "version": 3
   },
   "file_extension": ".py",
   "mimetype": "text/x-python",
   "name": "python",
   "nbconvert_exporter": "python",
   "pygments_lexer": "ipython3",
   "version": "3.8.5"
  }
 },
 "nbformat": 4,
 "nbformat_minor": 4
}
