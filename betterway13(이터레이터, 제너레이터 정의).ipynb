{
 "cells": [
  {
   "cell_type": "markdown",
   "metadata": {},
   "source": [
    "### 13 슬라이싱보다는 나머지를 모두 잡아내는 언패킹을 사용하라"
   ]
  },
  {
   "cell_type": "markdown",
   "metadata": {},
   "source": [
    "- 기존의 한계점은 언패킹할 시퀀스의 길이를 미리 알고 있어야 한다는 것"
   ]
  },
  {
   "cell_type": "code",
   "execution_count": 3,
   "metadata": {},
   "outputs": [
    {
     "name": "stdout",
     "output_type": "stream",
     "text": [
      "[20, 19, 15, 9, 8, 7, 6, 4, 1, 0]\n"
     ]
    },
    {
     "ename": "ValueError",
     "evalue": "too many values to unpack (expected 2)",
     "output_type": "error",
     "traceback": [
      "\u001b[1;31m---------------------------------------------------------------------------\u001b[0m",
      "\u001b[1;31mValueError\u001b[0m                                Traceback (most recent call last)",
      "\u001b[1;32m<ipython-input-3-b2350d875764>\u001b[0m in \u001b[0;36m<module>\u001b[1;34m\u001b[0m\n\u001b[0;32m      5\u001b[0m \u001b[0mprint\u001b[0m\u001b[1;33m(\u001b[0m\u001b[0mcar_ages_descending\u001b[0m\u001b[1;33m)\u001b[0m\u001b[1;33m\u001b[0m\u001b[1;33m\u001b[0m\u001b[0m\n\u001b[0;32m      6\u001b[0m \u001b[1;31m# 오류가 나는 부분. 오류를 보고 싶으면 커멘트를 해제할것\u001b[0m\u001b[1;33m\u001b[0m\u001b[1;33m\u001b[0m\u001b[1;33m\u001b[0m\u001b[0m\n\u001b[1;32m----> 7\u001b[1;33m \u001b[0moldest\u001b[0m\u001b[1;33m,\u001b[0m \u001b[0msecond_oldest\u001b[0m \u001b[1;33m=\u001b[0m \u001b[0mcar_ages_descending\u001b[0m\u001b[1;33m\u001b[0m\u001b[1;33m\u001b[0m\u001b[0m\n\u001b[0m",
      "\u001b[1;31mValueError\u001b[0m: too many values to unpack (expected 2)"
     ]
    }
   ],
   "source": [
    "# 언패킹을 할 때 시퀀스를 미리 알아야 한다는 문제의 예시\n",
    "\n",
    "car_ages = [0, 9, 4, 8, 7, 20, 19, 1, 6, 15]\n",
    "car_ages_descending = sorted(car_ages, reverse=True) #true일 경우 내림차순, flase일 경우 오름차순\n",
    "print(car_ages_descending)\n",
    "# 오류가 나는 부분. 오류를 보고 싶으면 커멘트를 해제할것\n",
    "#oldest, second_oldest = car_ages_descending"
   ]
  },
  {
   "cell_type": "markdown",
   "metadata": {},
   "source": [
    "- 이 경우 인덱스와 슬라이싱을 자주 사용한다.\n",
    "- 여기서 문제점은 시각적으로 잡음이 많으며, 시퀀스 원소의 수를 실수하기 쉽다."
   ]
  },
  {
   "cell_type": "code",
   "execution_count": 4,
   "metadata": {},
   "outputs": [
    {
     "name": "stdout",
     "output_type": "stream",
     "text": [
      "20 19 [15, 9, 8, 7, 6, 4, 1, 0]\n"
     ]
    }
   ],
   "source": [
    "# 슬라이싱을 이용한 언패킹을 사용한 예시\n",
    "oldest = car_ages_descending[0]\n",
    "second_oldest = car_ages_descending[1]\n",
    "others = car_ages_descending[2:]\n",
    "print(oldest, second_oldest, others)"
   ]
  },
  {
   "cell_type": "markdown",
   "metadata": {},
   "source": [
    "##### 개선 방법으로는 *(별표식)를 사용한다.\n",
    "- 언패킹 패턴의 다른 부분에 들어가지 못하는 모든 값을 별이 붙은 부분에 담을 수 있다.\n",
    "- *을 두개 이상 사용은 불가능하며 *식만을 사용할 수도 없다.\n",
    "- 서로 다른 계층으로 이루어진다면 *를 여러번 사용가능하다.(추천은 하지 않는 방식)\n",
    "- *식에 더 이상 시퀀스가 없다면 빈 리스트 출력"
   ]
  },
  {
   "cell_type": "code",
   "execution_count": 5,
   "metadata": {},
   "outputs": [
    {
     "name": "stdout",
     "output_type": "stream",
     "text": [
      "20 19 [15, 9, 8, 7, 6, 4, 1, 0]\n"
     ]
    }
   ],
   "source": [
    "oldest, second_oldest, *others = car_ages_descending\n",
    "print(oldest, second_oldest, others)"
   ]
  },
  {
   "cell_type": "code",
   "execution_count": 6,
   "metadata": {},
   "outputs": [
    {
     "name": "stdout",
     "output_type": "stream",
     "text": [
      "20 0 [19, 15, 9, 8, 7, 6, 4, 1]\n",
      "0 1 [20, 19, 15, 9, 8, 7, 6, 4]\n"
     ]
    }
   ],
   "source": [
    "# 다른 부분에도 * 사용 가능\n",
    "oldest, *others, youngest = car_ages_descending\n",
    "print(oldest, youngest, others)\n",
    "\n",
    "*others, second_youngest, youngest = car_ages_descending\n",
    "print(youngest, second_youngest, others)"
   ]
  },
  {
   "cell_type": "code",
   "execution_count": null,
   "metadata": {},
   "outputs": [],
   "source": [
    "# *식만을 사용한 경우\n",
    "*others = car_ages_descending\n",
    "\n",
    "# *식을 두번 사용한 경우\n",
    "first, *middle, *second_middle, last = [1, 2, 3, 4]"
   ]
  },
  {
   "cell_type": "code",
   "execution_count": 7,
   "metadata": {},
   "outputs": [
    {
     "name": "stdout",
     "output_type": "stream",
     "text": [
      "시내 최고는 그랜저, 나머지는 2 종\n",
      "공항 최고는 제네시스 쿠페, 나머지는 3 종\n"
     ]
    }
   ],
   "source": [
    "# 서로 다른 계층에 *를 여러번 사용한 예시\n",
    "car_inventory = {\n",
    "    '시내': ('그랜저', '아반테', '티코'),\n",
    "    '공항': ('제네시스 쿠페', '소나타', 'K5', '악센트'),\n",
    "}\n",
    "\n",
    "((loc1, (best1, *rest1)),\n",
    " (loc2, (best2, *rest2))) = car_inventory.items()\n",
    "print(f'{loc1} 최고는 {best1}, 나머지는 {len(rest1)} 종')\n",
    "print(f'{loc2} 최고는 {best2}, 나머지는 {len(rest2)} 종')"
   ]
  },
  {
   "cell_type": "code",
   "execution_count": 8,
   "metadata": {},
   "outputs": [
    {
     "name": "stdout",
     "output_type": "stream",
     "text": [
      "1 2 []\n"
     ]
    }
   ],
   "source": [
    "# *식에 더 이상 데이터가 없어서 빈 리스트를 출력하는 예시\n",
    "short_list = [1, 2]\n",
    "first, second, *rest = short_list\n",
    "print(first, second, rest)"
   ]
  },
  {
   "cell_type": "markdown",
   "metadata": {},
   "source": [
    "###### 언패킹 구문을 이용해서 이터레이터를 가져올 수 있다.(추천은 x)"
   ]
  },
  {
   "cell_type": "code",
   "execution_count": 9,
   "metadata": {},
   "outputs": [
    {
     "name": "stdout",
     "output_type": "stream",
     "text": [
      "1 & 2\n"
     ]
    }
   ],
   "source": [
    "it = iter(range(1, 3))\n",
    "first, second = it\n",
    "print(f'{first} & {second}')"
   ]
  },
  {
   "cell_type": "markdown",
   "metadata": {},
   "source": [
    "###### *식을 추가하면 언패킹할 이터레이터의 값을 깔끔하게 가지고 올 수 있다."
   ]
  },
  {
   "cell_type": "code",
   "execution_count": 11,
   "metadata": {},
   "outputs": [
    {
     "name": "stdout",
     "output_type": "stream",
     "text": [
      "CSV 헤더: ('날짜', '제조사', '모델', '연식', '가격')\n",
      "행 수:  200\n"
     ]
    }
   ],
   "source": [
    "# 기존 제너레이터를 이용하여 인덱스와 슬라이스를 사용하여 처리( 시각적 잡음이 많음.)\n",
    "def generate_csv():\n",
    "    yield ('날짜', '제조사' , '모델', '연식', '가격')\n",
    "    for i in range(100):\n",
    "        yield ('2019-03-25', '현대', '소나타', '2010', '2400만원')\n",
    "        yield ('2019-03-26', '기아', '프라이드', '2008', '1400만원')\n",
    "\n",
    "all_csv_rows = list(generate_csv())\n",
    "header = all_csv_rows[0] #첫번째줄을 column name으로 설정\n",
    "rows = all_csv_rows[1:] # 1행부터 값\n",
    "print('CSV 헤더:', header)\n",
    "print('행 수: ', len(rows))\n"
   ]
  },
  {
   "cell_type": "code",
   "execution_count": 18,
   "metadata": {},
   "outputs": [
    {
     "name": "stdout",
     "output_type": "stream",
     "text": [
      "CSV 헤더: ('날짜', '제조사', '모델', '연식', '가격')\n",
      "행 수:  200\n"
     ]
    }
   ],
   "source": [
    "# *식을 이용하여 정리하면 더 깔끔\n",
    "it = generate_csv()\n",
    "header, *rows = it\n",
    "print('CSV 헤더:', header)\n",
    "print('행 수: ', len(rows))"
   ]
  },
  {
   "cell_type": "markdown",
   "metadata": {},
   "source": [
    "##### 이터레이터 : 이미 for문이나 list를 통해 주어진 객체로 부터 iter 메소드를 이용하여 각 요소를 하나하나 꺼내 처리할 수 있도록 함."
   ]
  },
  {
   "cell_type": "code",
   "execution_count": 22,
   "metadata": {},
   "outputs": [
    {
     "name": "stdout",
     "output_type": "stream",
     "text": [
      "<str_iterator object at 0x000002268B2E1280>\n",
      "a\n",
      "b\n",
      "c\n"
     ]
    }
   ],
   "source": [
    "# ex\n",
    "s = \"abc\"\n",
    "it = iter(s)\n",
    "print(it)\n",
    "print(next(it))\n",
    "print(next(it))\n",
    "print(next(it))"
   ]
  },
  {
   "cell_type": "markdown",
   "metadata": {},
   "source": [
    "###### 제너레이터 : 함수 안에 이터레이터를 만드는 강력한 도구\n",
    "- yield 함수를 이용"
   ]
  },
  {
   "cell_type": "code",
   "execution_count": 23,
   "metadata": {},
   "outputs": [
    {
     "name": "stdout",
     "output_type": "stream",
     "text": [
      "f\n",
      "l\n",
      "o\n",
      "g\n"
     ]
    }
   ],
   "source": [
    "# 제너레이터 생성\n",
    "def reverse(data):\n",
    "    for index in range(len(data)-1,-1,-1):\n",
    "        yield data[index]\n",
    "        \n",
    "for char in reverse(\"golf\"):\n",
    "    print(char)"
   ]
  },
  {
   "cell_type": "code",
   "execution_count": null,
   "metadata": {},
   "outputs": [],
   "source": []
  }
 ],
 "metadata": {
  "kernelspec": {
   "display_name": "Python 3",
   "language": "python",
   "name": "python3"
  },
  "language_info": {
   "codemirror_mode": {
    "name": "ipython",
    "version": 3
   },
   "file_extension": ".py",
   "mimetype": "text/x-python",
   "name": "python",
   "nbconvert_exporter": "python",
   "pygments_lexer": "ipython3",
   "version": "3.8.5"
  }
 },
 "nbformat": 4,
 "nbformat_minor": 4
}
