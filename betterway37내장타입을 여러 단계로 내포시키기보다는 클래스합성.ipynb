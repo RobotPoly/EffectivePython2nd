{
 "cells": [
  {
   "cell_type": "markdown",
   "metadata": {},
   "source": [
    "### 내장 타입을 여러 단계로 내포시키기보다는 클래스를 합성하라\n",
    "- 파이썬 내장 딕셔너리 타입을 사용하면 객체의 생명 주기 동안 동적인 내부 상태를 잘 유지할 수 있다.\n",
    "- 동적이라는 말은 어떤 값이 들어올지 미리 알 수 없는 식별자들을 유지해야 한다는 뜻이다."
   ]
  },
  {
   "cell_type": "code",
   "execution_count": 1,
   "metadata": {},
   "outputs": [
    {
     "name": "stdout",
     "output_type": "stream",
     "text": [
      "90.0\n"
     ]
    }
   ],
   "source": [
    "# 예를 들어 학생들의 점수를 기록해야하는데 학생의 이름은 미리 알 수 없는 상황이라고 하자.\n",
    "# 이럴 때는 학생별로 미리 정의된 애트리뷰트를 사용하는 대신 딕셔너리에 이름을 저장하는 클래스를 정의할 수 있다.\n",
    "class SimpleGradebook:\n",
    "    def __init__(self):\n",
    "        self._grades = {}\n",
    "\n",
    "    def add_student(self, name):\n",
    "        self._grades[name] = []\n",
    "\n",
    "    def report_grade(self, name, score):\n",
    "        self._grades[name].append(score)\n",
    "\n",
    "    def average_grade(self, name):\n",
    "        grades = self._grades[name]\n",
    "        return sum(grades) / len(grades)\n",
    "\n",
    "book = SimpleGradebook()\n",
    "book.add_student('아이작 뉴턴')\n",
    "book.report_grade('아이작 뉴턴', 90)\n",
    "book.report_grade('아이작 뉴턴', 95)\n",
    "book.report_grade('아이작 뉴턴', 85)\n",
    "\n",
    "print(book.average_grade('아이작 뉴턴'))"
   ]
  },
  {
   "cell_type": "markdown",
   "metadata": {},
   "source": [
    "###### 딕셔너리와 관련 내장 타입은 사용하기 너무 쉬우므로 과하게 확장하면서 깨지기 쉬운 코드를 작성할 위험성이 있다.\n",
    "- 예를 들어 simpleGradebook클래스를 확장해서 전체 성적이 아니라 과목별 성적을 리스트로 저장하고 싶다고 하자.\n",
    "- _grades 딕셔너리를 변경해서 학생 이름(키)을 성적의 리스트(값)에 매핑하게 하고,\n",
    "- 이 딕셔너리가 다시 과목(키)을 성적의 리스트(값)에 매핑하게 함으로써 과목별 성정을 수현할 수 있다."
   ]
  },
  {
   "cell_type": "code",
   "execution_count": 2,
   "metadata": {},
   "outputs": [],
   "source": [
    "#다음 코드는 내부 딕셔너리로 defaultdict의 인스턴스를 사용해서 과목이 없는 경우를 처리한다.\n",
    "from collections import defaultdict\n",
    "\n",
    "class BySubjectGradebook:\n",
    "    def __init__(self):\n",
    "        self._grades = {}  # 외부 dict\n",
    "\n",
    "    def add_student(self, name):\n",
    "        self._grades[name] = defaultdict(list)  # 내부 dict\n",
    "\n",
    "    def report_grade(self, name, subject, grade):\n",
    "        by_subject = self._grades[name]\n",
    "        grade_list = by_subject[subject]\n",
    "        grade_list.append(grade)\n",
    "\n",
    "    def average_grade(self, name):\n",
    "        by_subject = self._grades[name]\n",
    "        total, count = 0, 0\n",
    "        for grades in by_subject.values():\n",
    "            total += sum(grades)\n",
    "            count += len(grades)\n",
    "        return total / count"
   ]
  },
  {
   "cell_type": "code",
   "execution_count": 3,
   "metadata": {},
   "outputs": [
    {
     "name": "stdout",
     "output_type": "stream",
     "text": [
      "81.25\n"
     ]
    }
   ],
   "source": [
    "book = BySubjectGradebook()\n",
    "book.add_student('알버트 아인슈타인')\n",
    "book.report_grade('알버트 아인슈타인', '수학', 75)\n",
    "book.report_grade('알버트 아인슈타인', '수학', 65)\n",
    "book.report_grade('알버트 아인슈타인', '체육', 90)\n",
    "book.report_grade('알버트 아인슈타인', '체육', 95)\n",
    "print(book.average_grade('알버트 아인슈타인'))\n"
   ]
  },
  {
   "cell_type": "markdown",
   "metadata": {},
   "source": [
    "- 이제 요구 사항이 또 바뀐다.\n",
    "- 각 점수의 가중치를 함께 저장해서 중간고사와 기말고사가 다른 쪽지 시험보다 성적에 더 큰 영향을 미치게 하고싶다.\n",
    "- 가장 안쪽에 있는 딕셔너리가 과목(키)을 성적의 리스트(값)로 매핑하던 것을 (성적, 가중치) 튜플의 리스트로 매핑하도록 변경하는 것\n"
   ]
  },
  {
   "cell_type": "code",
   "execution_count": 4,
   "metadata": {},
   "outputs": [
    {
     "name": "stdout",
     "output_type": "stream",
     "text": [
      "80.25\n"
     ]
    }
   ],
   "source": [
    "class WeightedGradebook:\n",
    "    def __init__(self):\n",
    "        self._grades = {}\n",
    "\n",
    "    def add_student(self, name):\n",
    "        self._grades[name] = defaultdict(list)\n",
    "\n",
    "    def report_grade(self, name, subject, score, weight):\n",
    "        by_subject = self._grades[name]\n",
    "        grade_list = by_subject[subject]\n",
    "        grade_list.append((score, weight))\n",
    "\n",
    "    def average_grade(self, name):\n",
    "        by_subject = self._grades[name]\n",
    "        score_sum, score_count = 0, 0\n",
    "\n",
    "        for subject, scores in by_subject.items():\n",
    "            subject_avg, total_weight = 0, 0\n",
    "\n",
    "            for score, weight in scores:\n",
    "                subject_avg += score * weight\n",
    "                total_weight += weight\n",
    "\n",
    "            score_sum += subject_avg / total_weight\n",
    "            score_count += 1\n",
    "\n",
    "        return score_sum / score_count\n",
    "\n",
    "\n",
    "book = WeightedGradebook()\n",
    "book.add_student('알버트 아인슈타인')\n",
    "book.report_grade('알버트 아인슈타인', '수학', 75, 0.05)\n",
    "book.report_grade('알버트 아인슈타인', '수학', 65, 0.15)\n",
    "book.report_grade('알버트 아인슈타인', '수학', 70, 0.80)\n",
    "book.report_grade('알버트 아인슈타인', '체육', 100, 0.40)\n",
    "book.report_grade('알버트 아인슈타인', '체육', 85, 0.60)\n",
    "print(book.average_grade('알버트 아인슈타인'))"
   ]
  },
  {
   "cell_type": "markdown",
   "metadata": {},
   "source": [
    "- 위 예제로 단순변경이 이뤄 졌지만 average_grade 메서드는 루프 안에 루프가 쓰이면서 읽기 어려워졌다.\n",
    "- 클래스도 쓰기 어려워졌다.\n",
    "- 위치인자를 지정하면 어떤 값이 어떤 뜻을 가지는지 이해하기 어렵다.\n",
    "- **이와 같은 복잡도가 눈에 들어오면 더 이상 딕셔너리, 튜플, 집합, 리스트 등의 내장 타입을 사용하지 말고 클래스 계층 구조를 사용해야 한다.**"
   ]
  },
  {
   "cell_type": "markdown",
   "metadata": {},
   "source": [
    "- 파이썬 내장 딕셔너리와 츄플은 사용하기 편하므로 내부에 계속 딕셔너리, 리스트, 튜플 등의 계층을 추가해가면서 코드를 사용하기 쉽다.\n",
    "- 하지만 내포 단계가 두 단계 이상이 되면 더 이상 딕셔너리, 리스트, 튜플 계층을 추가하지 말아야한다.\n",
    "- 딕셔너리 안에 딕셔너리를 포함시키면 다른 프로그래머들이 코드를 읽기 어려워지고 스스로 악몽속으로 들어간다."
   ]
  },
  {
   "cell_type": "markdown",
   "metadata": {},
   "source": [
    "###### 클래스를 활용해 리팩터링하기\n",
    "- 먼저 의존 관계 트리의맨 밑바닥을 점수를 표현하는 클래스로 옮겨갈 수 있다.\n",
    "- 하지만 이런 단순한 정보를 표현하는 클래스를 따로 만들면 너무 많은 비용이 드는 것 같다.\n",
    "- 게다가 점수는 불변 값이기 때문에 튜플이 더 적당해 보인다."
   ]
  },
  {
   "cell_type": "code",
   "execution_count": 5,
   "metadata": {},
   "outputs": [],
   "source": [
    "grades = []\n",
    "grades.append((95, 0.45))\n",
    "grades.append((85, 0.55))\n",
    "total = sum(score * weight for score, weight in grades)\n",
    "total_weight = sum(weight for _, weight in grades)\n",
    "average_grade = total / total_weight"
   ]
  },
  {
   "cell_type": "markdown",
   "metadata": {},
   "source": [
    "- total weight을 계산할 때는 _를 사용해 각 점수 튜플의 첫 번째 원소를 무시했다.\n",
    "- 이 코드의 문제점은 튜플에 저장된 내부 원소에 위치를 사용해 접근한다는 것이다.\n",
    "    - 예를 들어 선생님이 메모를 추가해야 해서 점수와 연관시킬 정보가 더 늘어났다고 하자\n",
    "    - 이 경우 기존에 원소가 두 개인 튜플을 처리하던 코드 각 부분을 모두 원소가 세개인 튜플을 제대로 처리하도록 바꿔야 한다.\n",
    "    - 이는 특정 인덱스를 무시하기 위해 _를 더 많이 사용해야 한다는 뜻이다.\n"
   ]
  },
  {
   "cell_type": "code",
   "execution_count": 6,
   "metadata": {},
   "outputs": [],
   "source": [
    "grades = []\n",
    "grades.append((95, 0.45, '참 잘했어요'))\n",
    "grades.append((85, 0.55, '조금 만 더 열심히'))\n",
    "total = sum(score * weight for score, weight, _ in grades)\n",
    "total_weight = sum(weight for _, weight, _ in grades)\n",
    "average_grade = total / total_weight"
   ]
  },
  {
   "cell_type": "markdown",
   "metadata": {},
   "source": [
    "- 이런식을 길게 확장하는 패턴은 딕셔너리를 여러 단계로 내포시키는 경우와 유사\n",
    "- 원소가 새 개 이상인 튜플을 사용한다면 다른 접근 방법을 생각해봐야 한다."
   ]
  },
  {
   "cell_type": "markdown",
   "metadata": {},
   "source": [
    "##### collection 내장 모듈에 있는 namedtuple 타입이 이런 경우에 딱 들어 맞는다.\n",
    "- namedtuple을 사용하면 작은 불변 데이터 클래스를 쉽게 정의할 수 있다.\n"
   ]
  },
  {
   "cell_type": "code",
   "execution_count": 7,
   "metadata": {},
   "outputs": [],
   "source": [
    "from collections import namedtuple\n",
    "Grade = namedtuple('Grade', ('score', 'weight'))"
   ]
  },
  {
   "cell_type": "markdown",
   "metadata": {},
   "source": [
    "- 이 클래스의 인스턴스를 만들 때는 위치 기반 인자를 사용해도 되고 키워드 인자를 사용해도 된다.\n",
    "- 필드에 접근할 때는 애트리뷰트 이름을 쓸 수 있다.\n",
    "- 이름이 붙은 애트리뷰트를 사용할 수 있으므로 요구 사항이 바뀌는 경우에 namedtuple을 클래스로 변경하기도 쉽다.\n",
    "    - 예를 들어 가변성을 지원해야 하거나 간단한 데이터 컨테이너 이상의 동작이 필요한 경우 namedtuple을 쉽게 클래스로 바꿀 수 있다."
   ]
  },
  {
   "cell_type": "markdown",
   "metadata": {},
   "source": [
    "###### namedtuple의 한계\n",
    "- namedtuple 클래스에는 디폴트 인자 값을 지정할 수 없다.\n",
    "- 여전히 namedtuple 인스턴스의 애트리뷰트 값을 숫자 인덱스를 사용해 접근할 수 있고 이터레이션도 가능하다."
   ]
  },
  {
   "cell_type": "markdown",
   "metadata": {},
   "source": [
    "-------------------------"
   ]
  },
  {
   "cell_type": "code",
   "execution_count": 10,
   "metadata": {},
   "outputs": [],
   "source": [
    "# 일련의 점수를 포함하는 단일 과목을 표현하는 클래스를 작성할 수 있다.\n",
    "class Subject:\n",
    "    def __init__(self):\n",
    "        self._grades = []\n",
    "\n",
    "    def report_grade(self, score, weight):\n",
    "        self._grades.append(Grade(score, weight))\n",
    "\n",
    "    def average_grade(self):\n",
    "        total, total_weight = 0, 0\n",
    "        for grade in self._grades:\n",
    "            total += grade.score * grade.weight\n",
    "            total_weight += grade.weight\n",
    "        return total / total_weight"
   ]
  },
  {
   "cell_type": "code",
   "execution_count": 11,
   "metadata": {},
   "outputs": [],
   "source": [
    "# 한 학생이 수강하는 과목들을 표현하는 클래스를 작성할 수 있다.\n",
    "class Student:\n",
    "    def __init__(self):\n",
    "        self._subjects = defaultdict(Subject)\n",
    "\n",
    "    def get_subject(self, name):\n",
    "        return self._subjects[name]\n",
    "\n",
    "    def average_grade(self):\n",
    "        total, count = 0, 0\n",
    "        for subject in self._subjects.values():\n",
    "            total += subject.average_grade()\n",
    "            count += 1\n",
    "        return total / count"
   ]
  },
  {
   "cell_type": "code",
   "execution_count": 12,
   "metadata": {},
   "outputs": [],
   "source": [
    "#모든 학생을 저장하는 컨테이너를 만들 수 있다.\n",
    "# 이때 이름을 사용해 동적으로 학생을 저장한다.\n",
    "class Gradebook:\n",
    "    def __init__(self):\n",
    "        self._students = defaultdict(Student)\n",
    "\n",
    "    def get_student(self, name):\n",
    "        return self._students[name]"
   ]
  },
  {
   "cell_type": "markdown",
   "metadata": {},
   "source": [
    "- 이렇게 만든 클래스들의 코드 줄 수는 예전에 구현한 코드의 두 배 이상이다.\n",
    "- 하지만 새 코드가 읽기 쉽다.\n",
    "- 클래스를 사용하는 예제 코드도 더 읽기 쉽고 확장성이 좋아졌다."
   ]
  },
  {
   "cell_type": "code",
   "execution_count": 13,
   "metadata": {},
   "outputs": [
    {
     "name": "stdout",
     "output_type": "stream",
     "text": [
      "80.25\n"
     ]
    }
   ],
   "source": [
    "book = Gradebook()\n",
    "albert = book.get_student('알버트 아인슈타인')\n",
    "math = albert.get_subject('수학')\n",
    "math.report_grade(75, 0.05)\n",
    "math.report_grade(65, 0.15)\n",
    "math.report_grade(70, 0.80)\n",
    "gym = albert.get_subject('체육')\n",
    "gym.report_grade(100, 0.40)\n",
    "gym.report_grade(85, 0.60)\n",
    "print(albert.average_grade())"
   ]
  },
  {
   "cell_type": "markdown",
   "metadata": {},
   "source": [
    "###### 또한 하위 호환성을 제공하는 메서드를 작성해서 예전 스타일의 API를 사용중인 코드를 새로운 객체 계층을 사용하는 코드로 쉽게 마이그레이션 할 수도 있다."
   ]
  },
  {
   "cell_type": "code",
   "execution_count": null,
   "metadata": {},
   "outputs": [],
   "source": []
  }
 ],
 "metadata": {
  "kernelspec": {
   "display_name": "Python 3",
   "language": "python",
   "name": "python3"
  },
  "language_info": {
   "codemirror_mode": {
    "name": "ipython",
    "version": 3
   },
   "file_extension": ".py",
   "mimetype": "text/x-python",
   "name": "python",
   "nbconvert_exporter": "python",
   "pygments_lexer": "ipython3",
   "version": "3.8.5"
  }
 },
 "nbformat": 4,
 "nbformat_minor": 4
}
