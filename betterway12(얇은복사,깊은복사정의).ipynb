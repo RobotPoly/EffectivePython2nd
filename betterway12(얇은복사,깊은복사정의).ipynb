{
 "cells": [
  {
   "cell_type": "markdown",
   "metadata": {},
   "source": [
    "# 스트라이드와 슬라이스를 한 식에 함께 사용하지 말라\n"
   ]
  },
  {
   "cell_type": "markdown",
   "metadata": {},
   "source": [
    "### 스트라이드 : 리스트[시작 : 끝 : 증가값]으로 일정한 간격을 두고 슬라이싱을 할 수 있는 특별한 구문"
   ]
  },
  {
   "cell_type": "code",
   "execution_count": 1,
   "metadata": {},
   "outputs": [
    {
     "name": "stdout",
     "output_type": "stream",
     "text": [
      "['빨강', '노랑', '파랑']\n",
      "['주황', '녹색', '자주']\n"
     ]
    }
   ],
   "source": [
    "x = ['빨강', '주황', '노랑', '녹색', '파랑', '자주']\n",
    "odds = x[::2] #0부터 시작해서 2씩 증가해서 추출 하면 빨강, 노랑, 파랑\n",
    "evens = x[1::2] #1부터 시작해서 2씩 증가하여 추출 하면 주황 녹색 자주\n",
    "print(odds)\n",
    "print(evens)"
   ]
  },
  {
   "cell_type": "markdown",
   "metadata": {},
   "source": [
    "### 단점 : 스트라이드를 사용할 때 예기치 못한 동작 발생 가능이 있다."
   ]
  },
  {
   "cell_type": "markdown",
   "metadata": {},
   "source": [
    "###### ex : 기존에 사용하는 방식"
   ]
  },
  {
   "cell_type": "code",
   "execution_count": 2,
   "metadata": {},
   "outputs": [
    {
     "name": "stdout",
     "output_type": "stream",
     "text": [
      "b'esoognom'\n",
      "司寿\n"
     ]
    }
   ],
   "source": [
    "#byte나 str은 기존방식처럼 잘 작동한다.\n",
    "x = b'mongoose'\n",
    "y = x[::-1]\n",
    "print(y)\n",
    "\n",
    "x = '寿司'\n",
    "y = x[::-1]\n",
    "print(y)"
   ]
  },
  {
   "cell_type": "markdown",
   "metadata": {},
   "source": [
    "###### 하지만 유니코드 데이터를 UTF-8로 인코딩한 문자열에서는 작동X"
   ]
  },
  {
   "cell_type": "code",
   "execution_count": 25,
   "metadata": {},
   "outputs": [
    {
     "name": "stdout",
     "output_type": "stream",
     "text": [
      "b'\\xe5\\xaf\\xbf\\xe5\\x8f\\xb8'\n",
      "b'\\xb8\\x8f\\xe5\\xbf\\xaf\\xe5'\n"
     ]
    },
    {
     "ename": "UnicodeDecodeError",
     "evalue": "'utf-8' codec can't decode byte 0xb8 in position 0: invalid start byte",
     "output_type": "error",
     "traceback": [
      "\u001b[1;31m---------------------------------------------------------------------------\u001b[0m",
      "\u001b[1;31mUnicodeDecodeError\u001b[0m                        Traceback (most recent call last)",
      "\u001b[1;32m<ipython-input-25-033c3e0a8b12>\u001b[0m in \u001b[0;36m<module>\u001b[1;34m\u001b[0m\n\u001b[0;32m      7\u001b[0m \u001b[1;31m# 오류가 나는 부분. 오류를 보고 싶으면 커멘트를 해제할것\u001b[0m\u001b[1;33m\u001b[0m\u001b[1;33m\u001b[0m\u001b[1;33m\u001b[0m\u001b[0m\n\u001b[0;32m      8\u001b[0m \u001b[1;31m#2바이트 이상 코드를 작동하면 역순으로 했을때 코드가 깨지기 때문에 에러 발생\u001b[0m\u001b[1;33m\u001b[0m\u001b[1;33m\u001b[0m\u001b[1;33m\u001b[0m\u001b[0m\n\u001b[1;32m----> 9\u001b[1;33m \u001b[0mz\u001b[0m \u001b[1;33m=\u001b[0m \u001b[0my\u001b[0m\u001b[1;33m.\u001b[0m\u001b[0mdecode\u001b[0m\u001b[1;33m(\u001b[0m\u001b[1;34m'utf-8'\u001b[0m\u001b[1;33m)\u001b[0m\u001b[1;33m\u001b[0m\u001b[1;33m\u001b[0m\u001b[0m\n\u001b[0m\u001b[0;32m     10\u001b[0m \u001b[0mprint\u001b[0m\u001b[1;33m(\u001b[0m\u001b[0mz\u001b[0m\u001b[1;33m)\u001b[0m\u001b[1;33m\u001b[0m\u001b[1;33m\u001b[0m\u001b[0m\n\u001b[0;32m     11\u001b[0m \u001b[1;33m\u001b[0m\u001b[0m\n",
      "\u001b[1;31mUnicodeDecodeError\u001b[0m: 'utf-8' codec can't decode byte 0xb8 in position 0: invalid start byte"
     ]
    }
   ],
   "source": [
    "#  utf-8로 인코딩해서 역으로 동작했을땐 되지만 다시 디코딩하면 작동안하는 모습.\n",
    "w = '寿司'\n",
    "x = w.encode('utf-8')\n",
    "y = x[::-1]\n",
    "print(x)\n",
    "print(y)\n",
    "# 오류가 나는 부분. 오류를 보고 싶으면 커멘트를 해제할것\n",
    "#2바이트 이상 코드를 작동하면 역순으로 했을때 코드가 깨지기 때문에 에러 발생\n",
    "z = y.decode('utf-8')\n",
    "print(z)\n",
    "\n",
    "a=x.decode('utf-8')\n",
    "print(a)"
   ]
  },
  {
   "cell_type": "code",
   "execution_count": 27,
   "metadata": {},
   "outputs": [
    {
     "name": "stdout",
     "output_type": "stream",
     "text": [
      "21321agsa\n"
     ]
    }
   ],
   "source": [
    "#아스키코드 범위에 들어가면 문제없이 그대로 작동 (1바이트)\n",
    "w = 'asga12312'\n",
    "x = w.encode('utf-8')\n",
    "y = x[::-1]\n",
    "z = y.decode('utf-8')\n",
    "print(z)"
   ]
  },
  {
   "cell_type": "markdown",
   "metadata": {},
   "source": [
    "###### -1 말고 다른 음수 증가값이 유용할까?"
   ]
  },
  {
   "cell_type": "code",
   "execution_count": 12,
   "metadata": {},
   "outputs": [
    {
     "name": "stdout",
     "output_type": "stream",
     "text": [
      "['a', 'c', 'e', 'g']\n",
      "['h', 'f', 'd', 'b']\n"
     ]
    }
   ],
   "source": [
    "x = ['a', 'b', 'c', 'd', 'e', 'f', 'g', 'h']\n",
    "\n",
    "# 처음부터 끝까지 2의 증가값으로 불러온다.\n",
    "x[::2] # ['a', 'c', 'e', 'g']\n",
    "print(x[::2])\n",
    "\n",
    "#맨 뒤부터 처음까지 2의 증가값으로 불러온다.\n",
    "x[::-2] # ['h', 'f', 'd', 'b']\n",
    "print(x[::-2])"
   ]
  },
  {
   "cell_type": "markdown",
   "metadata": {},
   "source": [
    "#### 아래 예시에 따라\n",
    "- 슬라이싱 구문에 스트라이딩까지 사용하면 매우 혼란스럽다.\n",
    "- 그렇기 때문에 시작값이나 끝값, 증가값을 함께 사용하지 말 것."
   ]
  },
  {
   "cell_type": "code",
   "execution_count": null,
   "metadata": {},
   "outputs": [],
   "source": [
    "x[2::2]    # ['c', 'e', 'g']\n",
    "x[-2::-2]  # ['g', 'e', 'c', 'a']\n",
    "x[-2:2:-2] # ['g', 'e']\n",
    "x[2:2:-2]  # []"
   ]
  },
  {
   "cell_type": "markdown",
   "metadata": {},
   "source": [
    "###### 아래 예시처럼 슬라이싱과 스트라이딩을 따로 사용"
   ]
  },
  {
   "cell_type": "code",
   "execution_count": null,
   "metadata": {},
   "outputs": [],
   "source": [
    "y = x[::2] # ['a', 'c', 'e', 'g']\n",
    "z = y[1:-1] # ['c', 'e']"
   ]
  },
  {
   "cell_type": "markdown",
   "metadata": {},
   "source": [
    "- 스트라이딩한 다음 슬라이싱을 하면 데이터를 한 번 더 얕게 복사하게 된다.\n",
    "- 첫 번째 연산은 결과 슬라이스의 크기를 가능한 줄일 수 있어야 한다.\n",
    "- 두 단계의 연산에 필요한 시간과 메모리를 감당할 수 없다면 itertools 내장모듈의 islice 메서드 고려"
   ]
  },
  {
   "cell_type": "markdown",
   "metadata": {},
   "source": [
    "### 추가 정보"
   ]
  },
  {
   "cell_type": "markdown",
   "metadata": {},
   "source": [
    "##### 1. 단순 객체 복제\n",
    "- 변수만 복사를 하여 바라보는 객체는 동일"
   ]
  },
  {
   "cell_type": "code",
   "execution_count": 17,
   "metadata": {},
   "outputs": [
    {
     "name": "stdout",
     "output_type": "stream",
     "text": [
      "[1, 2, 3, 4]\n",
      "[1, 2, 100, 4]\n",
      "[1, 2, 100, 4]\n"
     ]
    }
   ],
   "source": [
    "a = [1,2,3,4]\n",
    "b = a # a를 b에 할당\n",
    "print(b)\n",
    "\n",
    "b[2] = 100\n",
    "print(b) #b는 a와 같은 객체의 주소를 보고 있음.\n",
    "print(a)"
   ]
  },
  {
   "cell_type": "markdown",
   "metadata": {},
   "source": [
    "- b가 변경되면 a가 변경되는 이유는 변경가능(mutable) 객체 이기 때문\n",
    "- 변경가능(mutable) : 변경가능한 객체 ex) list, dict\n",
    "- 변경불가능(immutable) : 변경 불가능한 객체 ex) int, str, tuple"
   ]
  },
  {
   "cell_type": "code",
   "execution_count": 18,
   "metadata": {},
   "outputs": [
    {
     "name": "stdout",
     "output_type": "stream",
     "text": [
      "10\n",
      "abc\n",
      "10\n"
     ]
    }
   ],
   "source": [
    "# immutable 예시\n",
    "a = 10\n",
    "b = a\n",
    "print(b)\n",
    "b= \"abc\"\n",
    "print(b)\n",
    "print(a)"
   ]
  },
  {
   "cell_type": "markdown",
   "metadata": {},
   "source": [
    "#### 2. 얇은 복사(shallow copy)\n",
    "- 복합객체라는 list를 생성하지만 안에 있는 내용은 단순 객체와 같은 객체"
   ]
  },
  {
   "cell_type": "code",
   "execution_count": 19,
   "metadata": {},
   "outputs": [
    {
     "name": "stdout",
     "output_type": "stream",
     "text": [
      "[1, [1, 2, 3]]\n"
     ]
    }
   ],
   "source": [
    "#얇은 복사 예시\n",
    "\n",
    "import copy\n",
    "\n",
    "a = [1, [1, 2, 3]]\n",
    "b = copy.copy(a) #얇은 복사\n",
    "print(b)"
   ]
  },
  {
   "cell_type": "code",
   "execution_count": 20,
   "metadata": {},
   "outputs": [
    {
     "name": "stdout",
     "output_type": "stream",
     "text": [
      "[100, [1, 2, 3]]\n",
      "[1, [1, 2, 3]]\n"
     ]
    }
   ],
   "source": [
    "# 얇은 복사를 했기 때문에 복사된 리스트는 별도 객체로 복사본인 b만 수정됨.\n",
    "b[0] = 100\n",
    "print(b)\n",
    "print(a)\n",
    "#쉽게 이해\n",
    "# b = [int, list]로 a로부터 복사 int는 불변, list는 가변"
   ]
  },
  {
   "cell_type": "code",
   "execution_count": 21,
   "metadata": {
    "scrolled": true
   },
   "outputs": [
    {
     "name": "stdout",
     "output_type": "stream",
     "text": [
      "[1, [1, 2, 3, 4]]\n",
      "[1, [1, 2, 3, 4]]\n"
     ]
    }
   ],
   "source": [
    "#내부에 있는 list는 가변이기 때문에 리스트를 수정하면 둘 다 변경됨.\n",
    "c = copy.copy(a)\n",
    "c[1].append(4)\n",
    "print(c)\n",
    "print(a)"
   ]
  },
  {
   "cell_type": "markdown",
   "metadata": {},
   "source": [
    "#### 3. 깊은 복사(deep copy)\n",
    "- 복합객체를 새롭게 생성하고 그 안 내용까지 독립적으로 생성."
   ]
  },
  {
   "cell_type": "code",
   "execution_count": 22,
   "metadata": {
    "scrolled": true
   },
   "outputs": [
    {
     "name": "stdout",
     "output_type": "stream",
     "text": [
      "[1, [1, 2, 3]]\n",
      "[100, [1, 2, 3, 4]]\n",
      "[1, [1, 2, 3]]\n"
     ]
    }
   ],
   "source": [
    "a = [1,[1,2,3]]\n",
    "b = copy.deepcopy(a)\n",
    "print(b)\n",
    "\n",
    "b[0] = 100\n",
    "b[1].append(4)\n",
    "print(b)\n",
    "print(a)"
   ]
  },
  {
   "cell_type": "code",
   "execution_count": 31,
   "metadata": {},
   "outputs": [
    {
     "name": "stdout",
     "output_type": "stream",
     "text": [
      "['a', ['c', 'd', 'e'], 'g']\n",
      "['aa', ['c', 'd', 'e'], 'g']\n",
      "['a', ['c', 'd', 'e'], 'g', 'i']\n",
      "['a', 'b', ['c', 'd', 'e'], 'f', 'g', 'h', 'i', 'j']\n"
     ]
    }
   ],
   "source": [
    "#단순복사였다면?\n",
    "x = ['a', 'b',['c', 'd', 'e'], 'f', 'g', 'h','i','j']\n",
    "y = x[::2]\n",
    "z = y[:-1]\n",
    "print(z)\n",
    "\n",
    "z[0]='aa'\n",
    "print(z)\n",
    "print(y)\n",
    "print(x)"
   ]
  },
  {
   "cell_type": "code",
   "execution_count": 35,
   "metadata": {},
   "outputs": [
    {
     "name": "stdout",
     "output_type": "stream",
     "text": [
      "['a', ['c', 'd', 'e'], 'g']\n",
      "['a', ['c', 'd', 'e', 'z'], 'g']\n",
      "['a', ['c', 'd', 'e', 'z'], 'g', 'i']\n",
      "['a', 'b', ['c', 'd', 'e', 'z'], 'f', 'g', 'h', 'i', 'j']\n"
     ]
    }
   ],
   "source": [
    "#얇은 복사였다면?\n",
    "x = ['a', 'b',['c', 'd', 'e'], 'f', 'g', 'h','i','j']\n",
    "y = x[::2]\n",
    "z = y[:-1]\n",
    "print(z)\n",
    "\n",
    "z[1].append('z')\n",
    "print(z)\n",
    "print(y)\n",
    "print(x)\n"
   ]
  },
  {
   "cell_type": "code",
   "execution_count": null,
   "metadata": {},
   "outputs": [],
   "source": []
  }
 ],
 "metadata": {
  "kernelspec": {
   "display_name": "Python 3",
   "language": "python",
   "name": "python3"
  },
  "language_info": {
   "codemirror_mode": {
    "name": "ipython",
    "version": 3
   },
   "file_extension": ".py",
   "mimetype": "text/x-python",
   "name": "python",
   "nbconvert_exporter": "python",
   "pygments_lexer": "ipython3",
   "version": "3.8.5"
  }
 },
 "nbformat": 4,
 "nbformat_minor": 4
}
