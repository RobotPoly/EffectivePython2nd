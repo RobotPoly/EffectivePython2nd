{
 "cells": [
  {
   "cell_type": "code",
   "execution_count": 12,
   "metadata": {},
   "outputs": [
    {
     "name": "stdout",
     "output_type": "stream",
     "text": [
      "Hi\n",
      "Bye\n"
     ]
    }
   ],
   "source": [
    "#데코레이터(장식)\n",
    "#클로저와 비슷하지만 함수를 다른 함수의 인자로 전달한다는 점의 차이.\n",
    "# 심플한 모습\n",
    "def outer_function(msg):\n",
    "    def inner_function():\n",
    "        print(msg)\n",
    "    return inner_function\n",
    "\n",
    "hi_func = outer_function('Hi')\n",
    "bye_func = outer_function('Bye')\n",
    "\n",
    "hi_func()\n",
    "bye_func()"
   ]
  },
  {
   "cell_type": "code",
   "execution_count": 14,
   "metadata": {},
   "outputs": [
    {
     "name": "stdout",
     "output_type": "stream",
     "text": [
      "display 함수가 실행됐습니다.\n"
     ]
    }
   ],
   "source": [
    "# 약간 복잡한 두 함수를 섞은 모습.\n",
    "def decorator_function(original_function):  #1\n",
    "    def wrapper_function():  #5\n",
    "        return original_function()  #7\n",
    "    return wrapper_function  #6\n",
    "\n",
    "\n",
    "def display():  #2\n",
    "    print('display 함수가 실행됐습니다.')  #8\n",
    "\n",
    "decorated_display = decorator_function(display)  #3\n",
    "\n",
    "decorated_display()  #4"
   ]
  },
  {
   "cell_type": "code",
   "execution_count": 15,
   "metadata": {},
   "outputs": [
    {
     "name": "stdout",
     "output_type": "stream",
     "text": [
      "display_1 함수가 호출되기전 입니다.\n",
      "display_1 함수가 실행됐습니다.\n",
      "display_2 함수가 호출되기전 입니다.\n",
      "display_2 함수가 실행됐습니다.\n"
     ]
    }
   ],
   "source": [
    "def decorator_function(original_function):\n",
    "    def wrapper_function():\n",
    "        print('{} 함수가 호출되기전 입니다.'.format(original_function.__name__))\n",
    "        return original_function()\n",
    "    return wrapper_function\n",
    "\n",
    "\n",
    "def display_1():\n",
    "    print('display_1 함수가 실행됐습니다.')\n",
    "\n",
    "\n",
    "def display_2():\n",
    "    print('display_2 함수가 실행됐습니다.')\n",
    "\n",
    "display_1 = decorator_function(display_1)  #1\n",
    "display_2 = decorator_function(display_2)  #2\n",
    "\n",
    "display_1()\n",
    "print\n",
    "display_2()"
   ]
  },
  {
   "cell_type": "code",
   "execution_count": 16,
   "metadata": {},
   "outputs": [
    {
     "name": "stdout",
     "output_type": "stream",
     "text": [
      "display_1 함수가 호출되기전 입니다.\n",
      "display_1 함수가 실행됐습니다.\n",
      "display_2 함수가 호출되기전 입니다.\n",
      "display_2 함수가 실행됐습니다.\n"
     ]
    }
   ],
   "source": [
    "def decorator_function(original_function):\n",
    "    def wrapper_function():\n",
    "        print('{} 함수가 호출되기전 입니다.'.format(original_function.__name__))\n",
    "        return original_function()\n",
    "    return wrapper_function\n",
    "\n",
    "\n",
    "@decorator_function  #1\n",
    "def display_1():\n",
    "    print('display_1 함수가 실행됐습니다.')\n",
    "\n",
    "\n",
    "@decorator_function  #2\n",
    "def display_2():\n",
    "    print('display_2 함수가 실행됐습니다.')\n",
    "\n",
    "# display_1 = decorator_function(display_1)  #3\n",
    "# display_2 = decorator_function(display_2)  #4\n",
    "\n",
    "display_1()\n",
    "\n",
    "display_2()"
   ]
  },
  {
   "cell_type": "code",
   "execution_count": 18,
   "metadata": {},
   "outputs": [
    {
     "name": "stdout",
     "output_type": "stream",
     "text": [
      "display 함수가 호출되기전 입니다.\n",
      "display 함수가 실행됐습니다.\n"
     ]
    },
    {
     "ename": "TypeError",
     "evalue": "wrapper_function() takes 0 positional arguments but 2 were given",
     "output_type": "error",
     "traceback": [
      "\u001b[1;31m---------------------------------------------------------------------------\u001b[0m",
      "\u001b[1;31mTypeError\u001b[0m                                 Traceback (most recent call last)",
      "\u001b[1;32m<ipython-input-18-5ec60c97ea56>\u001b[0m in \u001b[0;36m<module>\u001b[1;34m\u001b[0m\n\u001b[0;32m     16\u001b[0m \u001b[1;33m\u001b[0m\u001b[0m\n\u001b[0;32m     17\u001b[0m \u001b[0mdisplay\u001b[0m\u001b[1;33m(\u001b[0m\u001b[1;33m)\u001b[0m\u001b[1;33m\u001b[0m\u001b[1;33m\u001b[0m\u001b[0m\n\u001b[1;32m---> 18\u001b[1;33m \u001b[0mdisplay_info\u001b[0m\u001b[1;33m(\u001b[0m\u001b[1;34m'John'\u001b[0m\u001b[1;33m,\u001b[0m \u001b[1;36m25\u001b[0m\u001b[1;33m)\u001b[0m\u001b[1;33m\u001b[0m\u001b[1;33m\u001b[0m\u001b[0m\n\u001b[0m",
      "\u001b[1;31mTypeError\u001b[0m: wrapper_function() takes 0 positional arguments but 2 were given"
     ]
    }
   ],
   "source": [
    "def decorator_function(original_function):\n",
    "    def wrapper_function():\n",
    "        print('{} 함수가 호출되기전 입니다.'.format(original_function.__name__))\n",
    "        return original_function()\n",
    "    return wrapper_function\n",
    "\n",
    "\n",
    "@decorator_function\n",
    "def display():\n",
    "    print('display 함수가 실행됐습니다.')\n",
    "\n",
    "\n",
    "@decorator_function\n",
    "def display_info(name, age):\n",
    "    print('display_info({}, {}) 함수가 실행됐습니다.'.format(name, age))\n",
    "\n",
    "display()\n",
    "display_info('John', 25)"
   ]
  },
  {
   "cell_type": "code",
   "execution_count": 20,
   "metadata": {},
   "outputs": [
    {
     "name": "stdout",
     "output_type": "stream",
     "text": [
      "display 함수가 호출되기전 입니다.\n",
      "display 함수가 실행됐습니다.\n",
      "display_info 함수가 호출되기전 입니다.\n",
      "display_info(John, 25) 함수가 실행됐습니다.\n"
     ]
    }
   ],
   "source": [
    "def decorator_function(original_function):\n",
    "    def wrapper_function(*args, **kwargs):  #1\n",
    "        print('{} 함수가 호출되기전 입니다.'.format(original_function.__name__))\n",
    "        return original_function(*args, **kwargs)  #2\n",
    "    return wrapper_function\n",
    "\n",
    "\n",
    "@decorator_function\n",
    "def display():\n",
    "    print('display 함수가 실행됐습니다.')\n",
    "\n",
    "\n",
    "@decorator_function\n",
    "def display_info(name, age):\n",
    "    print('display_info({}, {}) 함수가 실행됐습니다.'.format(name, age))\n",
    "\n",
    "display()\n",
    "display_info('John', 25)"
   ]
  },
  {
   "cell_type": "code",
   "execution_count": 21,
   "metadata": {},
   "outputs": [
    {
     "name": "stdout",
     "output_type": "stream",
     "text": [
      "display 함수가 호출되기전 입니다.\n",
      "display 함수가 실행됐습니다.\n",
      "display_info 함수가 호출되기전 입니다.\n",
      "display_info(John, 25) 함수가 실행됐습니다.\n"
     ]
    }
   ],
   "source": [
    "class DecoratorClass:  #1\n",
    "    def __init__(self, original_function):\n",
    "        self.original_function = original_function\n",
    "\n",
    "    def __call__(self, *args, **kwargs):\n",
    "        print('{} 함수가 호출되기전 입니다.'.format(self.original_function.__name__))\n",
    "        return self.original_function(*args, **kwargs)\n",
    "\n",
    "\n",
    "@DecoratorClass  #2\n",
    "def display():\n",
    "    print('display 함수가 실행됐습니다.')\n",
    "\n",
    "\n",
    "@DecoratorClass  #3\n",
    "def display_info(name, age):\n",
    "    print('display_info({}, {}) 함수가 실행됐습니다.'.format(name, age))\n",
    "\n",
    "display()\n",
    "\n",
    "display_info('John', 25)"
   ]
  },
  {
   "cell_type": "code",
   "execution_count": null,
   "metadata": {},
   "outputs": [],
   "source": []
  }
 ],
 "metadata": {
  "kernelspec": {
   "display_name": "Python 3",
   "language": "python",
   "name": "python3"
  },
  "language_info": {
   "codemirror_mode": {
    "name": "ipython",
    "version": 3
   },
   "file_extension": ".py",
   "mimetype": "text/x-python",
   "name": "python",
   "nbconvert_exporter": "python",
   "pygments_lexer": "ipython3",
   "version": "3.8.5"
  }
 },
 "nbformat": 4,
 "nbformat_minor": 4
}
