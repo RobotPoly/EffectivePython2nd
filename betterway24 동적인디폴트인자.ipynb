{
 "cells": [
  {
   "cell_type": "markdown",
   "metadata": {},
   "source": [
    "### None과 독스트링을 사용해 동적인 디폴트 인자를 지정하라"
   ]
  },
  {
   "cell_type": "markdown",
   "metadata": {},
   "source": [
    "- 종종 키워드 인자의 값으로 정적으로 정해지지 않는 타입의 값을 써야 할 때가 있다.\n",
    "- ex) 로그 메시지와 시간을 함께 출력하고 싶다고 하자.\n",
    "- 기본적으로 함수 호출 시간을 포함하길 원한다."
   ]
  },
  {
   "cell_type": "code",
   "execution_count": 25,
   "metadata": {},
   "outputs": [
    {
     "name": "stdout",
     "output_type": "stream",
     "text": [
      "2021-07-02 15:01:26.731556: 안녕!\n",
      "2021-07-02 15:01:26.731556: 다시 안녕!\n"
     ]
    }
   ],
   "source": [
    "#함수가 호출될 때마다 \n",
    "#디폴트 인자가 재계산 된다고 가정하면 다음과 같은 접근 방법을 사용할 수 있다.\n",
    "\n",
    "from time import sleep\n",
    "from datetime import datetime\n",
    "\n",
    "def log(message, when=datetime.now()): #제너레이터 느낌?\n",
    "    print(f'{when}: {message}')\n",
    "# 함수가 정의되는 시점의 datetime으로 저장이 되어 있다.\n",
    "log('안녕!')\n",
    "sleep(0.1)\n",
    "log('다시 안녕!')"
   ]
  },
  {
   "cell_type": "markdown",
   "metadata": {},
   "source": [
    "###### 함수가 정의되는 시점에 datetime.now가 단 한번만 호출되기 때문에 타임 스탬프가 항상 같다."
   ]
  },
  {
   "cell_type": "code",
   "execution_count": 26,
   "metadata": {},
   "outputs": [
    {
     "name": "stdout",
     "output_type": "stream",
     "text": [
      "2021-07-02 15:01:26.731556: 안녕!\n",
      "2021-07-02 15:01:26.731556: 다시 안녕!\n"
     ]
    }
   ],
   "source": [
    "#충분한 시간이 지난 이후 다시 실행을 해도 처음 실행했던 datetime이 나온다.\n",
    "log('안녕!')\n",
    "sleep(0.1)\n",
    "log('다시 안녕!')"
   ]
  },
  {
   "cell_type": "code",
   "execution_count": 27,
   "metadata": {},
   "outputs": [
    {
     "name": "stdout",
     "output_type": "stream",
     "text": [
      "2021-07-02 15:02:14.032119\n"
     ]
    }
   ],
   "source": [
    "#datetime\n",
    "when=datetime.now()\n",
    "print(when)"
   ]
  },
  {
   "cell_type": "markdown",
   "metadata": {},
   "source": [
    "###### 함수가 정의되는 시점에 datetime.now가 단 한번만 호출되기 때문에 타임 스탬프가 항상 같다.\n",
    "----------------------------------------------------"
   ]
  },
  {
   "cell_type": "markdown",
   "metadata": {},
   "source": [
    "##### 원하는 동작을 달성하는 파이썬의 일반적인 관례는 디폴트 값으로 None을 지정하고 실제 동작을 독스트링에 문서화 하는 것이다."
   ]
  },
  {
   "cell_type": "code",
   "execution_count": 28,
   "metadata": {},
   "outputs": [
    {
     "name": "stdout",
     "output_type": "stream",
     "text": [
      "2021-07-02 15:02:43.482770: 안녕!\n",
      "2021-07-02 15:02:43.590794: 다시 안녕!\n"
     ]
    }
   ],
   "source": [
    "# None값에 적절한 디폴트값을 할당해야한다.\n",
    "def log(message, when=None):\n",
    "    \"\"\"메시지와 타임스탬프를 로그에 남긴다.\n",
    "    Args:\n",
    "        message: 출력할 메시지.\n",
    "        when: 메시지가 발생한 시각(datetime).\n",
    "            디폴트 값은 현재 시간이다.\n",
    "    \"\"\"\n",
    "    if when is None:\n",
    "        when = datetime.now() #when의 변수를 다시 할당해준다.\n",
    "    print(f'{when}: {message}')\n",
    "\n",
    "log('안녕!')\n",
    "sleep(0.1)\n",
    "log('다시 안녕!')\n",
    "\n",
    "#0.1의 차이가 발생"
   ]
  },
  {
   "cell_type": "markdown",
   "metadata": {},
   "source": [
    "- 디폴트 인자 값으로 None을 사용하는 것은 인자가 가변적인 경우 특히 중요하다.\n",
    "- 예를들어 JSON 데이터로 인코딩된 값을 읽으려고 하는데, 데이터 디코딩에 실패하면 디폴트로 빈 딕셔너리를 반환하고 싶다."
   ]
  },
  {
   "cell_type": "code",
   "execution_count": 29,
   "metadata": {},
   "outputs": [],
   "source": [
    "# default로 {}를 설정\n",
    "# 앞 예시와 같이 default는 한번만 작동할 것이다.\n",
    "import json\n",
    "\n",
    "def decode(data, default={}):\n",
    "    try:\n",
    "        return json.loads(data)\n",
    "    except ValueError:\n",
    "        return default"
   ]
  },
  {
   "cell_type": "code",
   "execution_count": 30,
   "metadata": {},
   "outputs": [
    {
     "name": "stdout",
     "output_type": "stream",
     "text": [
      "{}\n",
      "{}\n"
     ]
    }
   ],
   "source": [
    "#값이 디폴트이기 때문에 디폴트 값이 호출된다.\n",
    "foo = decode('잘못된 데이터')\n",
    "print(foo)\n",
    "\n",
    "bar = decode('또 잘못된 데이터')\n",
    "print(bar)\n"
   ]
  },
  {
   "cell_type": "code",
   "execution_count": 22,
   "metadata": {},
   "outputs": [
    {
     "name": "stdout",
     "output_type": "stream",
     "text": [
      "Foo: {'stuff': 5, 'meep': 1}\n",
      "Bar: {'stuff': 5, 'meep': 1}\n"
     ]
    }
   ],
   "source": [
    "# 각 딕셔너리에 다른 키에 해당하는 값을 넣었는데 같이 변한다.\n",
    "# 단순 복사가 되었다.\n",
    "foo['stuff'] = 5\n",
    "bar['meep'] = 1\n",
    "\n",
    "print('Foo:', foo)\n",
    "print('Bar:', bar)"
   ]
  },
  {
   "cell_type": "markdown",
   "metadata": {},
   "source": [
    "- 키와 값이 하나뿐인 서로 다른 딕셔너리가 두 개 출력될 것으로 예상한 독자도 있을 것이다.\n",
    "- 한쪽 딕셔너리를 변경하면 다른 쪽 딕셔너리도 변경 되는 것 처럼 보인다."
   ]
  },
  {
   "cell_type": "markdown",
   "metadata": {},
   "source": [
    "----------------------------------------------------------------------"
   ]
  },
  {
   "cell_type": "code",
   "execution_count": 31,
   "metadata": {},
   "outputs": [
    {
     "name": "stdout",
     "output_type": "stream",
     "text": [
      "{'피자': 10000, '사과': 5000}\n",
      "{'피자': 10000, '사과': 5000}\n",
      "{'피자': 10000, '사과': 5000}\n"
     ]
    }
   ],
   "source": [
    "# 위 def 상황 예시\n",
    "x= { '피자' : 10000, '사과' : 5000}\n",
    "a=x\n",
    "b=x\n",
    "print(x)\n",
    "print(a)\n",
    "print(b)"
   ]
  },
  {
   "cell_type": "code",
   "execution_count": 32,
   "metadata": {},
   "outputs": [
    {
     "name": "stdout",
     "output_type": "stream",
     "text": [
      "{'피자': 10000, '사과': 5000, '치킨': 1000}\n",
      "{'피자': 10000, '사과': 5000, '치킨': 1000}\n",
      "{'피자': 10000, '사과': 5000, '치킨': 1000}\n"
     ]
    }
   ],
   "source": [
    "a['치킨'] = 1000\n",
    "print(a)\n",
    "print(b)\n",
    "print(x)"
   ]
  },
  {
   "cell_type": "markdown",
   "metadata": {},
   "source": [
    "- 위 예시를 보면 단순? 복사의 예시로 참조된 딕셔너리가 다 변경되었다.\n",
    "- 위 문제를 해결할 방법으로 앞에서 설명했던 얇은 복사를 하면 독립적으로 작용한다."
   ]
  },
  {
   "cell_type": "code",
   "execution_count": 33,
   "metadata": {},
   "outputs": [
    {
     "name": "stdout",
     "output_type": "stream",
     "text": [
      "{}\n",
      "{}\n"
     ]
    }
   ],
   "source": [
    "# 얇은 복사를 시도한 예시\n",
    "import copy\n",
    "def decode(data, default={}):\n",
    "    try:\n",
    "        return json.loads(data)\n",
    "    except ValueError:\n",
    "        return default\n",
    "    \n",
    "#값이 디폴트이기 때문에 디폴트 값이 호출된다.\n",
    "foo = copy.copy(decode('잘못된 데이터'))\n",
    "print(foo)\n",
    "\n",
    "bar = copy.copy(decode('또 잘못된 데이터'))\n",
    "print(bar)"
   ]
  },
  {
   "cell_type": "code",
   "execution_count": 34,
   "metadata": {},
   "outputs": [
    {
     "name": "stdout",
     "output_type": "stream",
     "text": [
      "Foo: {'stuff': 5}\n",
      "Bar: {'meep': 1}\n"
     ]
    }
   ],
   "source": [
    "# 독립적으로 저장이 된 모습.\n",
    "foo['stuff'] = 5\n",
    "bar['meep'] = 1\n",
    "\n",
    "print('Foo:', foo)\n",
    "print('Bar:', bar)"
   ]
  },
  {
   "cell_type": "markdown",
   "metadata": {},
   "source": [
    "-----------------------------------------------------"
   ]
  },
  {
   "cell_type": "markdown",
   "metadata": {},
   "source": [
    "#### 위 문제의 해법은 이 함수에 있는 키워드 인자의 디폴트 값으로 None을 지정하고 독스트링에 동작 방식을 기술한다."
   ]
  },
  {
   "cell_type": "code",
   "execution_count": 31,
   "metadata": {},
   "outputs": [],
   "source": [
    "# default 값을 함수를 실행 할때마다 다시 값을 불러오게 설정\n",
    "def decode(data, default=None):\n",
    "    \"\"\"문자열에로부터 JSON 데이터를 읽어온다\n",
    "    Args:\n",
    "        data: 디코딩할 JSON 데이터.\n",
    "        default: 디코딩 실패시 반환할 값이다.\n",
    "            디폴트 값은 빈 딕셔너리다.\n",
    "    \"\"\"\n",
    "    try:\n",
    "        return json.loads(data)\n",
    "    except ValueError:\n",
    "        if default is None:\n",
    "            default = {}\n",
    "        return default"
   ]
  },
  {
   "cell_type": "code",
   "execution_count": 33,
   "metadata": {},
   "outputs": [
    {
     "name": "stdout",
     "output_type": "stream",
     "text": [
      "Foo: {'stuff': 5}\n",
      "Bar: {'meep': 1}\n"
     ]
    }
   ],
   "source": [
    "#문제 없이 독립적으로 딕셔너리가 처리된 모습\n",
    "foo = decode('잘못된 데이터')\n",
    "foo['stuff'] = 5\n",
    "bar = decode('또 잘못된 데이터')\n",
    "bar['meep'] = 1\n",
    "print('Foo:', foo)\n",
    "print('Bar:', bar)\n",
    "assert foo is not bar"
   ]
  },
  {
   "cell_type": "markdown",
   "metadata": {},
   "source": [
    "##### 타입 애너테이션을 사용해도 잘 작동한다."
   ]
  },
  {
   "cell_type": "markdown",
   "metadata": {},
   "source": [
    "- 아래 예시에서 when 인자에는 datetime인 Optional 값이라는 타입 애너테이션이 붙어있다.\n",
    "- 따라서 when에 사용할 수 있는 두 값은 None과 datetime 개체뿐이다."
   ]
  },
  {
   "cell_type": "code",
   "execution_count": 35,
   "metadata": {},
   "outputs": [],
   "source": [
    "from typing import Optional\n",
    "\n",
    "def log_typed(message: str,\n",
    "              when: Optional[datetime]=None) -> None:\n",
    "    \"\"\"메시지와 타임스탬프를 로그에 남긴다.\n",
    "    Args:\n",
    "        message: 출력할 메시지.\n",
    "        when: 메시지가 발생한 시각(datetime).\n",
    "            디폴트 값은 현재 시간이다.\n",
    "    \"\"\"\n",
    "    if when is None:\n",
    "        when = datetime.now()\n",
    "    print(f'{when}: {message}')"
   ]
  },
  {
   "cell_type": "code",
   "execution_count": 36,
   "metadata": {},
   "outputs": [
    {
     "name": "stdout",
     "output_type": "stream",
     "text": [
      "2021-07-01 19:16:54.947871: 안녕!\n",
      "2021-07-01 19:16:55.048600: 다시 안녕!\n"
     ]
    }
   ],
   "source": [
    "log('안녕!')\n",
    "sleep(0.1)\n",
    "log('다시 안녕!')"
   ]
  },
  {
   "cell_type": "markdown",
   "metadata": {},
   "source": [
    "-------------------------------------------"
   ]
  },
  {
   "cell_type": "markdown",
   "metadata": {},
   "source": [
    "#### typing모듈로 타입 표시하기\n"
   ]
  },
  {
   "cell_type": "code",
   "execution_count": 38,
   "metadata": {},
   "outputs": [
    {
     "name": "stdout",
     "output_type": "stream",
     "text": [
      "[1, 2, 3]\n"
     ]
    }
   ],
   "source": [
    "from typing import List\n",
    "\n",
    "nums: List[int] = [1, 2, 3]\n",
    "print(nums)"
   ]
  },
  {
   "cell_type": "code",
   "execution_count": 39,
   "metadata": {},
   "outputs": [],
   "source": [
    "from typing import Dict\n",
    "\n",
    "countries: Dict[str, str] = {\"KR\": \"South Korea\", \"US\": \"United States\", \"CN\": \"China\"}"
   ]
  },
  {
   "cell_type": "code",
   "execution_count": 40,
   "metadata": {},
   "outputs": [],
   "source": [
    "from typing import Tuple\n",
    "\n",
    "user: Tuple[int, str, bool] = (3, \"Dale\", True)"
   ]
  },
  {
   "cell_type": "code",
   "execution_count": 41,
   "metadata": {},
   "outputs": [],
   "source": [
    "from typing import Set\n",
    "\n",
    "chars: Set[str] = {\"A\", \"B\", \"C\"}"
   ]
  },
  {
   "cell_type": "code",
   "execution_count": 42,
   "metadata": {},
   "outputs": [
    {
     "name": "stdout",
     "output_type": "stream",
     "text": [
      "['가', 3.0]\n",
      "<class 'str'>\n",
      "[\n",
      "3\n"
     ]
    }
   ],
   "source": [
    "from typing import Union\n",
    "\n",
    "\n",
    "def toString(num: Union[int, float]) -> str:\n",
    "    return str(num)\n",
    "\n",
    "x=toString(['가', 3.0])\n",
    "print(x)\n",
    "print(type(x[1])) \n",
    "print(x[0])\n",
    "print(x[6])"
   ]
  },
  {
   "cell_type": "code",
   "execution_count": 45,
   "metadata": {},
   "outputs": [
    {
     "name": "stdout",
     "output_type": "stream",
     "text": [
      "['a', 'a', 'a', 'a', 'a']\n"
     ]
    }
   ],
   "source": [
    "def repeat(message: str, times: Optional[int] = None) -> list:\n",
    "    if times:\n",
    "        return [message] * times\n",
    "    else:\n",
    "        return [message]\n",
    "\n",
    "print(repeat(\"a\",5))"
   ]
  },
  {
   "cell_type": "code",
   "execution_count": null,
   "metadata": {},
   "outputs": [],
   "source": []
  }
 ],
 "metadata": {
  "kernelspec": {
   "display_name": "Python 3",
   "language": "python",
   "name": "python3"
  },
  "language_info": {
   "codemirror_mode": {
    "name": "ipython",
    "version": 3
   },
   "file_extension": ".py",
   "mimetype": "text/x-python",
   "name": "python",
   "nbconvert_exporter": "python",
   "pygments_lexer": "ipython3",
   "version": "3.8.5"
  }
 },
 "nbformat": 4,
 "nbformat_minor": 2
}
