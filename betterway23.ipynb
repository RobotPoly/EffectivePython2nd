{
 "cells": [
  {
   "cell_type": "markdown",
   "metadata": {},
   "source": [
    "### 키워드 인자로 선택적인 기능을 제공하라"
   ]
  },
  {
   "cell_type": "code",
   "execution_count": 1,
   "metadata": {},
   "outputs": [],
   "source": [
    "# 함수를 호출할 때 위치에 따라 인자를 넘길 수 있다.\n",
    "def remainder(number, divisor):\n",
    "    return number % divisor\n",
    "\n",
    "assert remainder(20, 7) == 6"
   ]
  },
  {
   "cell_type": "code",
   "execution_count": null,
   "metadata": {},
   "outputs": [],
   "source": [
    "#키워드와 위치 인자를 필요에 따라 섞어 쓸 수도 있다.\n",
    "remainder(20, 7)\n",
    "remainder(20, divisor=7)\n",
    "remainder(number=20, divisor=7)\n",
    "remainder(divisor=7, number=20)"
   ]
  },
  {
   "cell_type": "code",
   "execution_count": 2,
   "metadata": {},
   "outputs": [
    {
     "ename": "SyntaxError",
     "evalue": "positional argument follows keyword argument (<ipython-input-2-d4cfcceb8ddb>, line 2)",
     "output_type": "error",
     "traceback": [
      "\u001b[1;36m  File \u001b[1;32m\"<ipython-input-2-d4cfcceb8ddb>\"\u001b[1;36m, line \u001b[1;32m2\u001b[0m\n\u001b[1;33m    remainder(number=20, 7)\u001b[0m\n\u001b[1;37m                         ^\u001b[0m\n\u001b[1;31mSyntaxError\u001b[0m\u001b[1;31m:\u001b[0m positional argument follows keyword argument\n"
     ]
    }
   ],
   "source": [
    "# 위치 기반 인자를 지정하려면 키워드 인자보다 앞에 지정해야한다.\n",
    "remainder(number=20, 7)"
   ]
  },
  {
   "cell_type": "code",
   "execution_count": 3,
   "metadata": {},
   "outputs": [
    {
     "ename": "TypeError",
     "evalue": "remainder() got multiple values for argument 'number'",
     "output_type": "error",
     "traceback": [
      "\u001b[1;31m---------------------------------------------------------------------------\u001b[0m",
      "\u001b[1;31mTypeError\u001b[0m                                 Traceback (most recent call last)",
      "\u001b[1;32m<ipython-input-3-fe841f02607c>\u001b[0m in \u001b[0;36m<module>\u001b[1;34m\u001b[0m\n\u001b[0;32m      1\u001b[0m \u001b[1;31m# 각 인자는 한번만 지정\u001b[0m\u001b[1;33m\u001b[0m\u001b[1;33m\u001b[0m\u001b[1;33m\u001b[0m\u001b[0m\n\u001b[1;32m----> 2\u001b[1;33m \u001b[0mremainder\u001b[0m\u001b[1;33m(\u001b[0m\u001b[1;36m20\u001b[0m\u001b[1;33m,\u001b[0m \u001b[0mnumber\u001b[0m\u001b[1;33m=\u001b[0m\u001b[1;36m7\u001b[0m\u001b[1;33m)\u001b[0m\u001b[1;33m\u001b[0m\u001b[1;33m\u001b[0m\u001b[0m\n\u001b[0m",
      "\u001b[1;31mTypeError\u001b[0m: remainder() got multiple values for argument 'number'"
     ]
    }
   ],
   "source": [
    "# 각 인자는 한번만 지정\n",
    "remainder(20, number=7)"
   ]
  },
  {
   "cell_type": "code",
   "execution_count": 4,
   "metadata": {},
   "outputs": [],
   "source": [
    "# 딕셔너리의 내용물을 사용해 remainder와같은 함수를 호출하고 싶다면 **연산자를 사용할 수 있다.\n",
    "# 각 대응하여 들어간다.\n",
    "my_kwargs = {\n",
    "    'number': 20,\n",
    "    'divisor': 7,\n",
    "}\n",
    "\n",
    "assert remainder(**my_kwargs) == 6"
   ]
  },
  {
   "cell_type": "code",
   "execution_count": 5,
   "metadata": {},
   "outputs": [],
   "source": [
    "# 연산자를 위치 인자나 키워드 인자와 섞어서 함수를 호출 할 수 있다.\n",
    "# 다만 중복 인자는 없어야 한다.\n",
    "my_kwargs = {\n",
    "    'divisor': 7,\n",
    "}\n",
    "\n",
    "assert remainder(number=20, **my_kwargs) == 6\n"
   ]
  },
  {
   "cell_type": "code",
   "execution_count": 6,
   "metadata": {},
   "outputs": [],
   "source": [
    "#** 연산자는 여러번 사용할 수 있다.\n",
    "#다만 딕셔너리에 겹치는 키가 없어야한다.\n",
    "\n",
    "#\n",
    "my_kwargs = {\n",
    "    'number': 20,\n",
    "}\n",
    "\n",
    "other_kwargs = {\n",
    "    'divisor': 7,\n",
    "}\n",
    "\n",
    "assert remainder(**my_kwargs, **other_kwargs) == 6\n"
   ]
  },
  {
   "cell_type": "markdown",
   "metadata": {},
   "source": [
    "###### 아무 키워드 인자나 받는 함수를 만들고 싶다면 모든 키워드 인자에 dict에 모아주는 **kwargs라는 파라미터를 사용한다.\n",
    "- 함수 본문에는 이 dict를 사용해 필요한 처리를 할 수 있다."
   ]
  },
  {
   "cell_type": "code",
   "execution_count": 8,
   "metadata": {},
   "outputs": [
    {
     "name": "stdout",
     "output_type": "stream",
     "text": [
      "alpha = 1.5\n",
      "beta = 9\n",
      "감마 = 4\n"
     ]
    }
   ],
   "source": [
    "#\n",
    "def print_parameters(**kwargs):\n",
    "    for key, value in kwargs.items():\n",
    "        print(f'{key} = {value}')\n",
    "\n",
    "print_parameters(alpha=1.5, beta=9, 감마=4)\n"
   ]
  },
  {
   "cell_type": "markdown",
   "metadata": {},
   "source": [
    "#### 키워드 인자가 제공하는 3가지 장점\n",
    "- 첫 번째 키워드 인자를 사용하면 처음 보는 사람들에게 함수 호출의 의미를 명확히 알려줄 수 있다.\n",
    "- 두 번째 키워드 인자의 경우 함수 정의에서 디폴트 값을 지정할 수 있다. \n",
    "    - 따라서 필요할 때는 원하는 함수 인자를 설정할 수 있는 기능제공하지만, 그렇지 않은 대부분의 경우에는 디폴트 동작을 그냥 받아들여도 된다. 이로인해 코드 중복과 잡음이 줄어든다.\n",
    "- 세 번째 어떤 함수를 사용하던 기존 호출자에게는 하위 호환성을 제공하면서 함수 파라미터를 확장할 수 있다.\n",
    "    - 이로인해 기존 코드를 별도로 마이그레이션하지 않아도 기능을 추가할 수 있다.. 새로운 버그 생길 여지가 줄어든다."
   ]
  },
  {
   "cell_type": "code",
   "execution_count": 9,
   "metadata": {},
   "outputs": [
    {
     "name": "stdout",
     "output_type": "stream",
     "text": [
      "0.167 kg/s\n"
     ]
    }
   ],
   "source": [
    "# 예시\n",
    "#  어떤 탱크에 흘러 들어가는 유테의 시간당 유입량을 계산하고 싶다고 하자.\n",
    "# 탱크에 저울이 달려 있어서 어느 두 시점 사이의 무게 차이를 사용해 시간당 유입량을 계산할 수 있다.\n",
    "def flow_rate(weight_diff, time_diff):\n",
    "    return weight_diff / time_diff\n",
    "\n",
    "weight_diff = 0.5\n",
    "time_diff = 3\n",
    "flow = flow_rate(weight_diff, time_diff)\n",
    "print(f'{flow:.3} kg/s')"
   ]
  },
  {
   "cell_type": "code",
   "execution_count": 12,
   "metadata": {},
   "outputs": [
    {
     "name": "stdout",
     "output_type": "stream",
     "text": [
      "0.833 kg/s\n"
     ]
    }
   ],
   "source": [
    "#추가로 한 시간이나 하루 단위 유입량을 추정하고 싶다.\n",
    "# 배율 추가하면 이렇다.\n",
    "\n",
    "#\n",
    "def flow_rate(weight_diff, time_diff, period):\n",
    "    return (weight_diff / time_diff) * period\n",
    "\n",
    "weight_diff = 0.5\n",
    "time_diff = 3\n",
    "flow = flow_rate(weight_diff, time_diff, 5)#5를 추가하여 5를 곱해줌\n",
    "print(f'{flow:.3} kg/s')"
   ]
  },
  {
   "cell_type": "code",
   "execution_count": 13,
   "metadata": {},
   "outputs": [
    {
     "name": "stdout",
     "output_type": "stream",
     "text": [
      "0.167 kg/s\n"
     ]
    }
   ],
   "source": [
    "flow_per_second = flow_rate(weight_diff, time_diff, 1)\n",
    "print(f'{flow_per_second:.3} kg/s')"
   ]
  },
  {
   "cell_type": "code",
   "execution_count": 15,
   "metadata": {},
   "outputs": [
    {
     "name": "stdout",
     "output_type": "stream",
     "text": [
      "0.167 kg/s\n",
      "6e+02 kg/s\n"
     ]
    }
   ],
   "source": [
    "#잡음을 없애기 위해 디폴트 값으로 1을 설정하면 \n",
    "#앞으로는 선택적인 과제가 된다.\n",
    "def flow_rate(weight_diff, time_diff, period=1):\n",
    "    return (weight_diff / time_diff) * period\n",
    "\n",
    "#period를 설정안해도 작동, 해도 작동\n",
    "flow_per_second = flow_rate(weight_diff, time_diff)\n",
    "flow_per_hour = flow_rate(weight_diff, time_diff, period=3600)\n",
    "print(f'{flow_per_second:.3} kg/s')\n",
    "print(f'{flow_per_hour:.3} kg/s')"
   ]
  },
  {
   "cell_type": "markdown",
   "metadata": {},
   "source": [
    "- 위 방법은 간단한 디폴트일 경우 잘 작동한다. 하지만 복잡하면 코드가 복잡해진다."
   ]
  },
  {
   "cell_type": "code",
   "execution_count": 18,
   "metadata": {},
   "outputs": [
    {
     "name": "stdout",
     "output_type": "stream",
     "text": [
      "1320.0\n"
     ]
    }
   ],
   "source": [
    "#세번째 이점 예시\n",
    "# 킬로그램이 아닌 무게 단위를 사용해 시간당 유입량을 계산\n",
    "#새로운 파라미터 생성\n",
    "\n",
    "#\n",
    "def flow_rate(weight_diff, time_diff,\n",
    "              period=1, units_per_kg=1):\n",
    "    return ((weight_diff * units_per_kg) / time_diff) * period\n",
    "\n",
    "pounds_per_hour = flow_rate(weight_diff, time_diff,\n",
    "                            period=3600, units_per_kg=2.2)\n",
    "print(pounds_per_hour)"
   ]
  },
  {
   "cell_type": "markdown",
   "metadata": {},
   "source": [
    "- period나 units_per_kg 같은 선택적인 키워드 인자를 여전히 위치 인자로 지정할 수 있는 문제가 있다."
   ]
  },
  {
   "cell_type": "code",
   "execution_count": 19,
   "metadata": {},
   "outputs": [],
   "source": [
    "pounds_per_hour = flow_rate(weight_diff, time_diff, 3600, 2.2)"
   ]
  },
  {
   "cell_type": "code",
   "execution_count": 20,
   "metadata": {},
   "outputs": [
    {
     "name": "stdout",
     "output_type": "stream",
     "text": [
      "1320.0\n"
     ]
    }
   ],
   "source": [
    "print(pounds_per_hour)"
   ]
  },
  {
   "cell_type": "markdown",
   "metadata": {},
   "source": [
    "- 선택적인 인자를 지정하는 최선의 방법은 항상 키워드 인자를 사용하고 위치 인자를 절대 사용하지 않는 것이다.\n",
    "- 함수를 작성한 사람으로서 여러분은 누구든 함수를 호출할 때는 잠재적 오류를 최소화 하기 위해 더 명시적인 키워드 인자 스타일 코드를 사용하라고 요구할 수 있다."
   ]
  },
  {
   "cell_type": "code",
   "execution_count": null,
   "metadata": {},
   "outputs": [],
   "source": []
  }
 ],
 "metadata": {
  "kernelspec": {
   "display_name": "Python 3",
   "language": "python",
   "name": "python3"
  },
  "language_info": {
   "codemirror_mode": {
    "name": "ipython",
    "version": 3
   },
   "file_extension": ".py",
   "mimetype": "text/x-python",
   "name": "python",
   "nbconvert_exporter": "python",
   "pygments_lexer": "ipython3",
   "version": "3.8.5"
  }
 },
 "nbformat": 4,
 "nbformat_minor": 4
}
