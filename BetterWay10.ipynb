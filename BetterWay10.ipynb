{
 "cells": [
  {
   "cell_type": "code",
   "execution_count": null,
   "metadata": {},
   "outputs": [],
   "source": [
    "#Better Way 10 대입식 반복을 피하라"
   ]
  },
  {
   "cell_type": "code",
   "execution_count": null,
   "metadata": {},
   "outputs": [],
   "source": [
    "# 왈러스 연산자\n",
    "# := 는 if나 while문등 조건식에 대입후 실제 평가가 이루어짐. (왈러스는 바다코끼리 눈과 어금니 처럼 생겨서 붙여진 이름)"
   ]
  },
  {
   "cell_type": "code",
   "execution_count": 5,
   "metadata": {},
   "outputs": [],
   "source": [
    "# 예시 코딩을 위한 코드들 pass 해도 무관\n",
    "fresh_fruit = {\n",
    "    '사과': 10,\n",
    "    '바나나': 8,\n",
    "    '레몬': 5,\n",
    "}\n",
    "\n",
    "def make_lemonade(count):\n",
    "    n = 1\n",
    "    print(f'레몬 {count*n} 개로 레모네이드 {count//n} 개를 만듭니다.')\n",
    "    fresh_fruit['레몬'] -= (count * n)\n",
    "    print(f'레몬이 {fresh_fruit[\"레몬\"]} 개 남았습니다.')\n",
    "\n",
    "def out_of_stock():\n",
    "    print(f'제료가 부족합니다. 재료를 보충해 주세요.')"
   ]
  },
  {
   "cell_type": "code",
   "execution_count": 2,
   "metadata": {},
   "outputs": [
    {
     "name": "stdout",
     "output_type": "stream",
     "text": [
      "레몬 5 개로 레모네이드 5 개를 만듭니다.\n",
      "레몬이 0 개 남았습니다.\n"
     ]
    }
   ],
   "source": [
    "# 기존에는 레몬의 개수를 읽은 후 if문을 통해 그 값이 0인지 아닌지 확인이 가능하다.\n",
    "count = fresh_fruit.get('레몬', 0) #따로 count는 무엇이다 설정이 불편하다라고 생각할 수 있음.\n",
    "if count:\n",
    "    make_lemonade(count)\n",
    "else:\n",
    "    out_of_stock()"
   ]
  },
  {
   "cell_type": "code",
   "execution_count": 7,
   "metadata": {},
   "outputs": [
    {
     "name": "stdout",
     "output_type": "stream",
     "text": [
      "레몬 5 개로 레모네이드 5 개를 만듭니다.\n",
      "레몬이 0 개 남았습니다.\n"
     ]
    }
   ],
   "source": [
    "#왈러스를 사용한 코딩은 if문 식에 직접 왈러스를 이용하여 대입\n",
    "\n",
    "fresh_fruit['레몬'] = 5  # 테스트를 위해 갯수 리셋\n",
    "if count := fresh_fruit.get('레몬', 0):   #길벗 코드에 lemon이라고 잘못 입력 되어있음.\n",
    "                                           # 값이 0이면 flase로 else가 실행\n",
    "    make_lemonade(count)\n",
    "else:\n",
    "    out_of_stock()"
   ]
  },
  {
   "cell_type": "code",
   "execution_count": 9,
   "metadata": {},
   "outputs": [],
   "source": [
    "# 또 하나의 예제\n",
    "\n",
    "# 사과 4개가 1개의 주스를 만들 수 있게 설정\n",
    "def make_cider(count):\n",
    "    n = 4\n",
    "\n",
    "    print(f'사과 {count} 개로 사과주스 {count//n} 개를 만듭니다.')\n",
    "    fresh_fruit['사과'] -= (n *(count//n))\n",
    "    print(f'사과가 {fresh_fruit[\"사과\"]} 개 남았습니다.')\n",
    "\n",
    "fresh_fruit['사과'] = 10  # 테스트를 위해 갯수 리셋\n"
   ]
  },
  {
   "cell_type": "code",
   "execution_count": 10,
   "metadata": {},
   "outputs": [
    {
     "name": "stdout",
     "output_type": "stream",
     "text": [
      "사과 10 개로 사과주스 2 개를 만듭니다.\n",
      "사과가 2 개 남았습니다.\n"
     ]
    }
   ],
   "source": [
    "#기존 사과 4개로 몇개의 주스를 만들 수 있는지 코드\n",
    "count = fresh_fruit.get('사과', 0)  #따로 count는 무엇이다 설정이 불편하다라고 생각할 수 있음.\n",
    "if count >= 4:                # 개수가 4보다 작을 경우 flase로 else 실행\n",
    "    make_cider(count)\n",
    "else:\n",
    "    out_of_stock()\n"
   ]
  },
  {
   "cell_type": "code",
   "execution_count": 11,
   "metadata": {},
   "outputs": [
    {
     "name": "stdout",
     "output_type": "stream",
     "text": [
      "사과 10 개로 사과주스 2 개를 만듭니다.\n",
      "사과가 2 개 남았습니다.\n"
     ]
    }
   ],
   "source": [
    "#왈러스를 이용한 코드\n",
    "fresh_fruit['사과'] = 10  # 테스트를 위해 갯수 리셋\n",
    "\n",
    "if (count := fresh_fruit.get('사과', 0)) >= 4: # 왈러스를 이용하여 대입한 값이 4보다 크면 True로 실행하기 위해 괄호 사용.\n",
    "    make_cider(count)\n",
    "else:\n",
    "    out_of_stock()"
   ]
  },
  {
   "cell_type": "code",
   "execution_count": 12,
   "metadata": {},
   "outputs": [],
   "source": [
    "# 또 또 하나의 예제\n",
    "\n",
    "# 고객이 바나나 스무디를 주문했을 때 \n",
    "#스무디를 만들려면 바나나 슬라이스가 최소 두 개는 필요하고 \n",
    "#슬라이스가 부족하면 OutOfBananas 예외 발생시킴\n",
    "\n",
    "\n",
    "def slice_bananas(count):\n",
    "    print(f'바나나 {count} 개를 슬라이스합니다.')\n",
    "    fresh_fruit['바나나'] -=  count\n",
    "    return count\n",
    "\n",
    "class OutOfBananas(Exception):\n",
    "    pass\n",
    "\n",
    "def make_smoothies(count):\n",
    "    n=2\n",
    "    if count > n:\n",
    "        print(f'바나나 슬라이스 {count} 개로 스무디 {count//n} 개를 만듭니다.')\n",
    "        print(f'바나나가 {fresh_fruit[\"바나나\"]} 개 남았습니다.')\n",
    "    else:\n",
    "        raise OutOfBananas\n"
   ]
  },
  {
   "cell_type": "code",
   "execution_count": 13,
   "metadata": {},
   "outputs": [
    {
     "name": "stdout",
     "output_type": "stream",
     "text": [
      "바나나 8 개를 슬라이스합니다.\n",
      "바나나 슬라이스 8 개로 스무디 4 개를 만듭니다.\n",
      "바나나가 0 개 남았습니다.\n"
     ]
    }
   ],
   "source": [
    "#기존 방식인 두가지 예시\n",
    "#첫번째 pieces를 조건문 밖에 둔 경우\n",
    "\n",
    "pieces = 0\n",
    "count = fresh_fruit.get('바나나', 0)\n",
    "if count >= 2:\n",
    "    pieces = slice_bananas(count)\n",
    "\n",
    "try:\n",
    "    smoothies = make_smoothies(pieces)\n",
    "except OutOfBananas:\n",
    "    out_of_stock()"
   ]
  },
  {
   "cell_type": "code",
   "execution_count": 15,
   "metadata": {},
   "outputs": [
    {
     "name": "stdout",
     "output_type": "stream",
     "text": [
      "바나나 8 개를 슬라이스합니다.\n",
      "바나나 슬라이스 8 개로 스무디 4 개를 만듭니다.\n",
      "바나나가 0 개 남았습니다.\n"
     ]
    }
   ],
   "source": [
    "#두번째 pieces를 조건문 안에 둔 경우\n",
    "\n",
    "\n",
    "fresh_fruit['바나나'] = 8  # 테스트를 위해 갯수 리셋\n",
    "\n",
    "count = fresh_fruit.get('바나나', 0)\n",
    "if count >= 2:\n",
    "    pieces = slice_bananas(count)\n",
    "else:\n",
    "    pieces = 0\n",
    "\n",
    "try:\n",
    "    smoothies = make_smoothies(pieces)\n",
    "except OutOfBananas:\n",
    "    out_of_stock()"
   ]
  },
  {
   "cell_type": "code",
   "execution_count": 19,
   "metadata": {},
   "outputs": [
    {
     "name": "stdout",
     "output_type": "stream",
     "text": [
      "바나나 8 개를 슬라이스합니다.\n",
      "바나나 슬라이스 8 개로 스무디 4 개를 만듭니다.\n",
      "바나나가 0 개 남았습니다.\n"
     ]
    }
   ],
   "source": [
    "#왈러스를 이용한 개선된 방식\n",
    "#첫번째 개선 pieces가 외부\n",
    "\n",
    "fresh_fruit['바나나'] = 8  # 테스트를 위해 갯수 리셋\n",
    "\n",
    "pieces = 0\n",
    "if (count := fresh_fruit.get('바나나', 0)) >= 2: #괄호의 이유는 위에 확인\n",
    "    pieces = slice_bananas(count)\n",
    "\n",
    "try:\n",
    "    smoothies = make_smoothies(pieces)\n",
    "except OutOfBananas:\n",
    "    out_of_stock()\n"
   ]
  },
  {
   "cell_type": "code",
   "execution_count": 20,
   "metadata": {},
   "outputs": [
    {
     "name": "stdout",
     "output_type": "stream",
     "text": [
      "바나나 8 개를 슬라이스합니다.\n",
      "바나나 슬라이스 8 개로 스무디 4 개를 만듭니다.\n",
      "바나나가 0 개 남았습니다.\n"
     ]
    }
   ],
   "source": [
    "# 두번째 개선 pieces가 내부\n",
    "\n",
    "fresh_fruit['바나나'] = 8  # 테스트를 위해 갯수 리셋\n",
    "\n",
    "if (count := fresh_fruit.get('바나나', 0)) >= 2:\n",
    "    pieces = slice_bananas(count)\n",
    "else:\n",
    "    pieces = 0\n",
    "\n",
    "try:\n",
    "    smoothies = make_smoothies(pieces)\n",
    "except OutOfBananas:\n",
    "    out_of_stock()"
   ]
  },
  {
   "cell_type": "code",
   "execution_count": 33,
   "metadata": {},
   "outputs": [
    {
     "name": "stdout",
     "output_type": "stream",
     "text": [
      "바나나 8 개를 슬라이스합니다.\n",
      "바나나 슬라이스 8 개로 스무디 4 개를 만듭니다.\n",
      "바나나가 0 개 남았습니다.\n"
     ]
    }
   ],
   "source": [
    "#파이썬에는  switch/ case 문이 따로 없음\n",
    "#if, elif, else 문 사용\n",
    "# 가장 좋은 주스 바나나 스무디 --> 애플 주스 --> 레모네이드 순으로 제공\n",
    "# 기존 방식을 이용한 첫번째 예시\n",
    "\n",
    "fresh_fruit = {\n",
    "    '사과': 10,\n",
    "    '바나나': 8,\n",
    "    '레몬': 5,\n",
    "}\n",
    "count = fresh_fruit.get('바나나', 0)\n",
    "\n",
    "if count >= 2:\n",
    "    pieces = slice_bananas(count)\n",
    "    to_enjoy = make_smoothies(pieces)\n",
    "else:\n",
    "    count = fresh_fruit.get('사과', 0)\n",
    "    if count >= 4:\n",
    "        to_enjoy = make_cider(count)\n",
    "    else:\n",
    "        count = fresh_fruit.get('레몬', 0)\n",
    "        if count:\n",
    "            to_enjoy = make_lemonade(count)\n",
    "        else:\n",
    "            to_enjoy = '아무것도 없음'"
   ]
  },
  {
   "cell_type": "code",
   "execution_count": 34,
   "metadata": {},
   "outputs": [
    {
     "name": "stdout",
     "output_type": "stream",
     "text": [
      "바나나 8 개를 슬라이스합니다.\n",
      "바나나 슬라이스 8 개로 스무디 4 개를 만듭니다.\n",
      "바나나가 0 개 남았습니다.\n"
     ]
    }
   ],
   "source": [
    "#왈러스를 이용한 방식\n",
    "fresh_fruit = {\n",
    "    '사과': 10,\n",
    "    '바나나': 8,\n",
    "    '레몬': 5,\n",
    "}\n",
    "\n",
    "if (count := fresh_fruit.get('바나나', 0)) >= 2:\n",
    "    pieces = slice_bananas(count)\n",
    "    to_enjoy = make_smoothies(pieces)\n",
    "elif (count := fresh_fruit.get('사과', 0)) >= 4:\n",
    "    to_enjoy = make_cider(count)\n",
    "elif count := fresh_fruit.get('레몬', 0):\n",
    "    to_enjoy = make_lemonade(count)\n",
    "else:\n",
    "    to_enjoy = '아무것도 없음'"
   ]
  },
  {
   "cell_type": "code",
   "execution_count": 35,
   "metadata": {},
   "outputs": [],
   "source": [
    "# do / while루프가 없음.\n",
    "# while 루프의 예시\n",
    "#신선한 과일이 배달돼서 이 과일을 모두 주스로 마든 후 병에 담기로 하는 코드\n",
    "import random\n",
    "\n",
    "def pick_fruit():\n",
    "    if random.randint(1,10) > 2:   # 80% 확률로 새 과일 보충\n",
    "                                # random.randint를 이용하여 랜덤으로 int값을 불러옴.\n",
    "        return {\n",
    "            '사과': random.randint(0,10), \n",
    "            '바나나': random.randint(0,10),\n",
    "            '레몬': random.randint(0,10),\n",
    "        }\n",
    "    else:\n",
    "        return None\n",
    "\n",
    "def make_juice(fruit, count):\n",
    "    if fruit == '사과':\n",
    "        return [('사과주스', count/4)]\n",
    "    elif fruit == '바나나':\n",
    "        return [('바나나스무디',count/2)]\n",
    "    elif fruit == '레몬':\n",
    "        return [('레모네이드',count/1)]\n",
    "    else:\n",
    "        return []\n"
   ]
  },
  {
   "cell_type": "code",
   "execution_count": 37,
   "metadata": {},
   "outputs": [
    {
     "name": "stdout",
     "output_type": "stream",
     "text": [
      "[('사과주스', 2.5), ('바나나스무디', 3.5), ('레모네이드', 2.0), ('사과주스', 1.5), ('바나나스무디', 3.5), ('레모네이드', 3.0), ('사과주스', 1.25), ('바나나스무디', 3.0), ('레모네이드', 7.0), ('사과주스', 1.5), ('바나나스무디', 5.0), ('레모네이드', 5.0), ('사과주스', 2.5), ('바나나스무디', 4.0), ('레모네이드', 5.0)]\n"
     ]
    }
   ],
   "source": [
    "#기존의 첫번째 예시\n",
    "# while에서 fresh_fruit = pick_fruit() 를 반복사용\n",
    "\n",
    "bottles = []\n",
    "fresh_fruit = pick_fruit()\n",
    "while fresh_fruit: # pick_fruit안의 random.randint 값이 0이 아닌 이상 True로 무한 루프 실행\n",
    "    for fruit, count in fresh_fruit.items():\n",
    "        batch = make_juice(fruit, count)\n",
    "        bottles.extend(batch)\n",
    "    fresh_fruit = pick_fruit() # pick_fruit안의 random.randint 값이 0이 나온다면 바로 멈춤\n",
    "\n",
    "print(bottles)"
   ]
  },
  {
   "cell_type": "code",
   "execution_count": 40,
   "metadata": {},
   "outputs": [
    {
     "name": "stdout",
     "output_type": "stream",
     "text": [
      "[('사과주스', 1.75), ('바나나스무디', 1.0), ('레모네이드', 5.0), ('사과주스', 0.75), ('바나나스무디', 4.5), ('레모네이드', 7.0), ('사과주스', 1.75), ('바나나스무디', 5.0), ('레모네이드', 6.0), ('사과주스', 2.0), ('바나나스무디', 3.5), ('레모네이드', 3.0), ('사과주스', 0.75), ('바나나스무디', 2.0), ('레모네이드', 6.0), ('사과주스', 1.0), ('바나나스무디', 0.5), ('레모네이드', 2.0), ('사과주스', 1.25), ('바나나스무디', 4.5), ('레모네이드', 1.0), ('사과주스', 2.25), ('바나나스무디', 1.0), ('레모네이드', 6.0), ('사과주스', 1.5), ('바나나스무디', 5.0), ('레모네이드', 6.0), ('사과주스', 2.0), ('바나나스무디', 3.5), ('레모네이드', 6.0), ('사과주스', 0.25), ('바나나스무디', 4.0), ('레모네이드', 0.0), ('사과주스', 1.25), ('바나나스무디', 5.0), ('레모네이드', 1.0), ('사과주스', 2.0), ('바나나스무디', 3.5), ('레모네이드', 5.0), ('사과주스', 1.75), ('바나나스무디', 2.0), ('레모네이드', 5.0), ('사과주스', 0.0), ('바나나스무디', 3.0), ('레모네이드', 0.0), ('사과주스', 2.5), ('바나나스무디', 4.5), ('레모네이드', 0.0), ('사과주스', 1.5), ('바나나스무디', 3.5), ('레모네이드', 3.0), ('사과주스', 0.0), ('바나나스무디', 4.0), ('레모네이드', 1.0)]\n"
     ]
    }
   ],
   "source": [
    "# 두번째 예시\n",
    "#while의 무한 루프와 break을 이용하여 단순화\n",
    "\n",
    "bottles = []\n",
    "while True: # 무한루프\n",
    "    fresh_fruit = pick_fruit()\n",
    "    if not fresh_fruit: # 중간에서 끝내기\n",
    "        break\n",
    "\n",
    "    for fruit, count in fresh_fruit.items():\n",
    "        batch = make_juice(fruit, count)\n",
    "        bottles.extend(batch)\n",
    "\n",
    "print(bottles)"
   ]
  },
  {
   "cell_type": "code",
   "execution_count": 39,
   "metadata": {},
   "outputs": [
    {
     "name": "stdout",
     "output_type": "stream",
     "text": [
      "[('사과주스', 2.25), ('바나나스무디', 3.0), ('레모네이드', 9.0), ('사과주스', 2.25), ('바나나스무디', 2.5), ('레모네이드', 2.0), ('사과주스', 1.25), ('바나나스무디', 1.5), ('레모네이드', 9.0), ('사과주스', 0.75), ('바나나스무디', 5.0), ('레모네이드', 6.0)]\n"
     ]
    }
   ],
   "source": [
    "#왈러스를 이용한 단순화\n",
    "\n",
    "bottles = []\n",
    "while fresh_fruit := pick_fruit():\n",
    "    for fruit, count in fresh_fruit.items():\n",
    "        batch = make_juice(fruit, count)\n",
    "        bottles.extend(batch)\n",
    "\n",
    "print(bottles)"
   ]
  },
  {
   "cell_type": "code",
   "execution_count": null,
   "metadata": {},
   "outputs": [],
   "source": [
    "# 총 몇 병이 담겨있는지 확인 인터폴레이션 활용해보고 싶어서 사용.\n",
    "apple_count=0\n",
    "banana_count=0\n",
    "lemon_count=0\n",
    "\n",
    "for fruit, count in bottles:\n",
    "    if fruit == \"사과주스\":\n",
    "        apple_count=apple_count+count\n",
    "    if fruit == \"바나나스무디\":\n",
    "        banana_count=banana_count+count\n",
    "    if fruit == \"레모네이드\":\n",
    "        lemon_count=lemon_count+count\n",
    "        \n",
    "a=f\"\"\"\n",
    "사과 주스 병은 총 {apple_count}개 입니다.\n",
    "바나나스무디 병은 총 {banana_count}개 입니다.\n",
    "레모네이드 병은 총 {lemon_count} 개 입니다.\n",
    "\"\"\"\n",
    "print(a)"
   ]
  },
  {
   "cell_type": "code",
   "execution_count": null,
   "metadata": {},
   "outputs": [],
   "source": [
    "# 왈러스(:=)를 이용하여 반복식를 단순화 한다.\n",
    "#swich / case, do / while 루프를 쓸 수 없지만, 대입식으로 깔끔하게 표현이 가능하다."
   ]
  }
 ],
 "metadata": {
  "kernelspec": {
   "display_name": "Python 3",
   "language": "python",
   "name": "python3"
  },
  "language_info": {
   "codemirror_mode": {
    "name": "ipython",
    "version": 3
   },
   "file_extension": ".py",
   "mimetype": "text/x-python",
   "name": "python",
   "nbconvert_exporter": "python",
   "pygments_lexer": "ipython3",
   "version": "3.8.5"
  }
 },
 "nbformat": 4,
 "nbformat_minor": 4
}
